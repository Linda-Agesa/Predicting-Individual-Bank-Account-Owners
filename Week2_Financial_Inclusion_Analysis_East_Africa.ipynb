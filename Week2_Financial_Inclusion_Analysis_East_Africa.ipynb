{
  "nbformat": 4,
  "nbformat_minor": 0,
  "metadata": {
    "colab": {
      "name": "Week2_Financial_Inclusion_Analysis_East_Africa.ipynb",
      "version": "0.3.2",
      "provenance": [],
      "collapsed_sections": [],
      "toc_visible": true,
      "include_colab_link": true
    },
    "kernelspec": {
      "name": "python3",
      "display_name": "Python 3"
    }
  },
  "cells": [
    {
      "cell_type": "markdown",
      "metadata": {
        "id": "view-in-github",
        "colab_type": "text"
      },
      "source": [
        "<a href=\"https://colab.research.google.com/github/Linda-Agesa/Predicting-Individual-Bank-Account-Owners/blob/master/Week2_Financial_Inclusion_Analysis_East_Africa.ipynb\" target=\"_parent\"><img src=\"https://colab.research.google.com/assets/colab-badge.svg\" alt=\"Open In Colab\"/></a>"
      ]
    },
    {
      "cell_type": "markdown",
      "metadata": {
        "id": "t9Zi8m50UQoZ",
        "colab_type": "text"
      },
      "source": [
        "#Analysis of Financial Inclusion in East African Countries\n",
        "\n",
        "##Context of the Research\n",
        "\n",
        "> Financial Inclusion remains one of the main obstacles to economic and human development in Africa. For example, across Kenya, Rwanda, Tanzania, and Uganda only 9.1 million adults (or 13.9% of the adult population) have access to or use a commercial bank account.\n",
        "\n",
        ">Traditionally, access to bank accounts has been regarded as an indicator of financial inclusion. Despite the proliferation of mobile money in Africa and the growth of innovative fintech solutions, banks still play a pivotal role in facilitating access to financial services. Access to bank accounts enables households to save and facilitate payments while also helping businesses build up their credit-worthiness and improve their access to other financial services. Therefore, access to bank accounts is an essential contributor to long-term economic growth."
      ]
    },
    {
      "cell_type": "markdown",
      "metadata": {
        "id": "dCBkpl_lyIqZ",
        "colab_type": "text"
      },
      "source": [
        "##Problem Statement\n",
        "\n",
        ">The research problem is to figure out how we can predict which individuals are most likely to have or use a bank account. Our solution will help provide an indication of the state of financial inclusion in Kenya, Rwanda, Tanzania, and Uganda, while providing insights into some of the key demographic factors that might drive individuals’ financial outcomes.\n",
        "\n",
        "\n",
        "\n",
        "> In order to work on the above problem, we need to do the following:\n",
        "\n",
        "  1. Define the question, the metric for success, the context, experimental design taken and the appropriateness of the available data to answer the given question\n",
        "  2. Find and deal with outliers, anomalies, and missing data within the dataset.\n",
        "  3. Plot univariate and bivariate summaries recording your observations.\n",
        "  4. Implement the solution by performing the respective analysis i.e. reduction, modeling, etc.\n",
        "  5. Challenge your solution by providing insights on how you can make improvements."
      ]
    },
    {
      "cell_type": "markdown",
      "metadata": {
        "id": "YVGqqErc117j",
        "colab_type": "text"
      },
      "source": [
        "##Research Question\n",
        "\n",
        "> What are the demographic factors help to determine whether an individual has or uses a bank account or not?\n",
        "\n",
        "   - Here we test the variables that are signicant either negatively or positevely in  determining their relationship with dependent variable ('Has a bank account or not'). "
      ]
    },
    {
      "cell_type": "markdown",
      "metadata": {
        "id": "2XXq4V_JyZi-",
        "colab_type": "text"
      },
      "source": [
        "## Hypothesis Statements\n",
        "\n",
        "It is popular belief that the population with a higher  level of education have a greater likelihood of seeking financial services from banks than people with no educational background or little educational experience.\n",
        "\n",
        "According to the repository linked below,  a person with a higher level of education has a better level of understanding of banking products and services, they are able to communicate their needs to their service providers or may have higher levels of income all which would drive a person to seek financial services from a bank, the more likely they are to have a bank account. \n",
        "\n",
        "(http://erepository.uonbi.ac.ke/bitstream/handle/11295/89872/Maina_Factors%20influencing%20uptake%20of%20banking%20services%20in%20rural%20centers%20for%20Agricultural%20development.pdf?sequence=3) \n",
        "\n",
        "We seek to test this notion and determine whether the level of education a person obtains is signicant in determining whether or not they own and use a bank account.\n",
        "\n",
        "\n",
        "\n",
        "---\n",
        "\n",
        "\n",
        "\n",
        "#### Null Hypothesis\n",
        " \n",
        "$H_0 : Level of Education   =   Significant$\n",
        "\n",
        "#### Alternative Hypothesis\n",
        "\n",
        "$H_1 : Level of Education$    $  !=  $     $Significant$\n",
        "\n",
        "\n",
        "\n",
        "---\n",
        "\n"
      ]
    },
    {
      "cell_type": "markdown",
      "metadata": {
        "id": "4zH5Mz_GzxLC",
        "colab_type": "text"
      },
      "source": [
        "## Metrics for Success\n",
        "\n",
        "- To determine the factors that determine the state of financial inclusion in Kenya, Rwanda, Tanzania and Uganda. \n",
        "\n",
        "- To design a model with an 88% effeciency in its prediction of individuals who have/ do not have bank accounts.\n",
        "\n",
        "- Conclude if the a person's level of education is significant in determining whether they will seek financial services from a bank."
      ]
    },
    {
      "cell_type": "markdown",
      "metadata": {
        "id": "CBpaesSI69LY",
        "colab_type": "text"
      },
      "source": [
        "### Loading libraries and files to our Environment"
      ]
    },
    {
      "cell_type": "code",
      "metadata": {
        "id": "i19sUQgkxb8n",
        "colab_type": "code",
        "colab": {}
      },
      "source": [
        "# Loading the libraries \n",
        "\n",
        "import pandas as pd\n",
        "import numpy as np\n",
        "import matplotlib.pyplot as plt\n",
        "import seaborn as sns\n",
        "from sklearn.model_selection import train_test_split\n",
        "from sklearn.preprocessing import StandardScaler\n",
        "from sklearn.decomposition import PCA\n",
        "from sklearn.linear_model import LogisticRegression\n",
        "from sklearn.metrics import confusion_matrix\n",
        "from sklearn.metrics import accuracy_score\n",
        "from sklearn.preprocessing import LabelEncoder\n",
        "from sklearn.linear_model import LinearRegression\n",
        "from sklearn.metrics import r2_score\n",
        "import statsmodels.api as sm\n",
        "\n",
        "\n"
      ],
      "execution_count": 0,
      "outputs": []
    },
    {
      "cell_type": "code",
      "metadata": {
        "id": "THpLAMBL7T4V",
        "colab_type": "code",
        "outputId": "8c945136-cab0-463c-a3d0-2a8488a3cdeb",
        "colab": {
          "base_uri": "https://localhost:8080/",
          "height": 417
        }
      },
      "source": [
        "# Loading the decription table\n",
        "# This contains the description of the variables in our dataframe\n",
        "\n",
        "description_df = pd.read_csv('http://bit.ly/VariableDefinitions')\n",
        "\n",
        "description_df"
      ],
      "execution_count": 74,
      "outputs": [
        {
          "output_type": "execute_result",
          "data": {
            "text/html": [
              "<div>\n",
              "<style scoped>\n",
              "    .dataframe tbody tr th:only-of-type {\n",
              "        vertical-align: middle;\n",
              "    }\n",
              "\n",
              "    .dataframe tbody tr th {\n",
              "        vertical-align: top;\n",
              "    }\n",
              "\n",
              "    .dataframe thead th {\n",
              "        text-align: right;\n",
              "    }\n",
              "</style>\n",
              "<table border=\"1\" class=\"dataframe\">\n",
              "  <thead>\n",
              "    <tr style=\"text-align: right;\">\n",
              "      <th></th>\n",
              "      <th>Variable Definitions</th>\n",
              "      <th>Unnamed: 1</th>\n",
              "    </tr>\n",
              "  </thead>\n",
              "  <tbody>\n",
              "    <tr>\n",
              "      <th>0</th>\n",
              "      <td>country</td>\n",
              "      <td>Country interviewee is in.</td>\n",
              "    </tr>\n",
              "    <tr>\n",
              "      <th>1</th>\n",
              "      <td>year</td>\n",
              "      <td>Year survey was done in.</td>\n",
              "    </tr>\n",
              "    <tr>\n",
              "      <th>2</th>\n",
              "      <td>uniqueid</td>\n",
              "      <td>Unique identifier for each interviewee</td>\n",
              "    </tr>\n",
              "    <tr>\n",
              "      <th>3</th>\n",
              "      <td>location_type</td>\n",
              "      <td>Type of location: Rural, Urban</td>\n",
              "    </tr>\n",
              "    <tr>\n",
              "      <th>4</th>\n",
              "      <td>cellphone_access</td>\n",
              "      <td>If interviewee has access to a cellphone: Yes, No</td>\n",
              "    </tr>\n",
              "    <tr>\n",
              "      <th>5</th>\n",
              "      <td>household_size</td>\n",
              "      <td>Number of people living in one house</td>\n",
              "    </tr>\n",
              "    <tr>\n",
              "      <th>6</th>\n",
              "      <td>age_of_respondent</td>\n",
              "      <td>The age of the interviewee</td>\n",
              "    </tr>\n",
              "    <tr>\n",
              "      <th>7</th>\n",
              "      <td>gender_of_respondent</td>\n",
              "      <td>Gender of interviewee: Male, Female</td>\n",
              "    </tr>\n",
              "    <tr>\n",
              "      <th>8</th>\n",
              "      <td>relationship_with_head</td>\n",
              "      <td>The interviewee’s relationship with the head o...</td>\n",
              "    </tr>\n",
              "    <tr>\n",
              "      <th>9</th>\n",
              "      <td>marital_status</td>\n",
              "      <td>The martial status of the interviewee: Married...</td>\n",
              "    </tr>\n",
              "    <tr>\n",
              "      <th>10</th>\n",
              "      <td>education_level</td>\n",
              "      <td>Highest level of education: No formal educatio...</td>\n",
              "    </tr>\n",
              "    <tr>\n",
              "      <th>11</th>\n",
              "      <td>job_type</td>\n",
              "      <td>Type of job interviewee has: Farming and Fishi...</td>\n",
              "    </tr>\n",
              "  </tbody>\n",
              "</table>\n",
              "</div>"
            ],
            "text/plain": [
              "      Variable Definitions                                         Unnamed: 1\n",
              "0                  country                         Country interviewee is in.\n",
              "1                     year                           Year survey was done in.\n",
              "2                 uniqueid             Unique identifier for each interviewee\n",
              "3            location_type                     Type of location: Rural, Urban\n",
              "4         cellphone_access  If interviewee has access to a cellphone: Yes, No\n",
              "5           household_size               Number of people living in one house\n",
              "6        age_of_respondent                         The age of the interviewee\n",
              "7     gender_of_respondent                Gender of interviewee: Male, Female\n",
              "8   relationship_with_head  The interviewee’s relationship with the head o...\n",
              "9           marital_status  The martial status of the interviewee: Married...\n",
              "10         education_level  Highest level of education: No formal educatio...\n",
              "11                job_type  Type of job interviewee has: Farming and Fishi..."
            ]
          },
          "metadata": {
            "tags": []
          },
          "execution_count": 74
        }
      ]
    },
    {
      "cell_type": "code",
      "metadata": {
        "id": "Wpj465kP7UzF",
        "colab_type": "code",
        "colab": {}
      },
      "source": [
        "#We will now load the dataset to our environment\n",
        "\n",
        "financial_df = pd.read_csv('http://bit.ly/FinancialDataset')"
      ],
      "execution_count": 0,
      "outputs": []
    },
    {
      "cell_type": "markdown",
      "metadata": {
        "id": "B2kcF48w7jWh",
        "colab_type": "text"
      },
      "source": [
        "##Data Understanding."
      ]
    },
    {
      "cell_type": "code",
      "metadata": {
        "id": "2YsKdgAk7mfI",
        "colab_type": "code",
        "outputId": "e4f6db7a-75be-4b94-8085-8a9d973b954e",
        "colab": {
          "base_uri": "https://localhost:8080/",
          "height": 378
        }
      },
      "source": [
        "# Display the contents of the first five records in the dataset\n",
        "\n",
        "financial_df.head()"
      ],
      "execution_count": 76,
      "outputs": [
        {
          "output_type": "execute_result",
          "data": {
            "text/html": [
              "<div>\n",
              "<style scoped>\n",
              "    .dataframe tbody tr th:only-of-type {\n",
              "        vertical-align: middle;\n",
              "    }\n",
              "\n",
              "    .dataframe tbody tr th {\n",
              "        vertical-align: top;\n",
              "    }\n",
              "\n",
              "    .dataframe thead th {\n",
              "        text-align: right;\n",
              "    }\n",
              "</style>\n",
              "<table border=\"1\" class=\"dataframe\">\n",
              "  <thead>\n",
              "    <tr style=\"text-align: right;\">\n",
              "      <th></th>\n",
              "      <th>country</th>\n",
              "      <th>year</th>\n",
              "      <th>uniqueid</th>\n",
              "      <th>Has a Bank account</th>\n",
              "      <th>Type of Location</th>\n",
              "      <th>Cell Phone Access</th>\n",
              "      <th>household_size</th>\n",
              "      <th>Respondent Age</th>\n",
              "      <th>gender_of_respondent</th>\n",
              "      <th>The relathip with head</th>\n",
              "      <th>marital_status</th>\n",
              "      <th>Level of Educuation</th>\n",
              "      <th>Type of Job</th>\n",
              "    </tr>\n",
              "  </thead>\n",
              "  <tbody>\n",
              "    <tr>\n",
              "      <th>0</th>\n",
              "      <td>Kenya</td>\n",
              "      <td>2018</td>\n",
              "      <td>uniqueid_1</td>\n",
              "      <td>Yes</td>\n",
              "      <td>Rural</td>\n",
              "      <td>Yes</td>\n",
              "      <td>3.0</td>\n",
              "      <td>24.0</td>\n",
              "      <td>Female</td>\n",
              "      <td>Spouse</td>\n",
              "      <td>Married/Living together</td>\n",
              "      <td>Secondary education</td>\n",
              "      <td>Self employed</td>\n",
              "    </tr>\n",
              "    <tr>\n",
              "      <th>1</th>\n",
              "      <td>Kenya</td>\n",
              "      <td>2018</td>\n",
              "      <td>uniqueid_2</td>\n",
              "      <td>No</td>\n",
              "      <td>Rural</td>\n",
              "      <td>No</td>\n",
              "      <td>5.0</td>\n",
              "      <td>70.0</td>\n",
              "      <td>Female</td>\n",
              "      <td>Head of Household</td>\n",
              "      <td>Widowed</td>\n",
              "      <td>No formal education</td>\n",
              "      <td>Government Dependent</td>\n",
              "    </tr>\n",
              "    <tr>\n",
              "      <th>2</th>\n",
              "      <td>Kenya</td>\n",
              "      <td>2018</td>\n",
              "      <td>uniqueid_3</td>\n",
              "      <td>Yes</td>\n",
              "      <td>Urban</td>\n",
              "      <td>Yes</td>\n",
              "      <td>5.0</td>\n",
              "      <td>26.0</td>\n",
              "      <td>Male</td>\n",
              "      <td>Other relative</td>\n",
              "      <td>Single/Never Married</td>\n",
              "      <td>Vocational/Specialised training</td>\n",
              "      <td>Self employed</td>\n",
              "    </tr>\n",
              "    <tr>\n",
              "      <th>3</th>\n",
              "      <td>Kenya</td>\n",
              "      <td>2018</td>\n",
              "      <td>uniqueid_4</td>\n",
              "      <td>No</td>\n",
              "      <td>Rural</td>\n",
              "      <td>Yes</td>\n",
              "      <td>5.0</td>\n",
              "      <td>34.0</td>\n",
              "      <td>Female</td>\n",
              "      <td>Head of Household</td>\n",
              "      <td>Married/Living together</td>\n",
              "      <td>Primary education</td>\n",
              "      <td>Formally employed Private</td>\n",
              "    </tr>\n",
              "    <tr>\n",
              "      <th>4</th>\n",
              "      <td>Kenya</td>\n",
              "      <td>2018</td>\n",
              "      <td>uniqueid_5</td>\n",
              "      <td>No</td>\n",
              "      <td>Urban</td>\n",
              "      <td>No</td>\n",
              "      <td>8.0</td>\n",
              "      <td>26.0</td>\n",
              "      <td>Male</td>\n",
              "      <td>Child</td>\n",
              "      <td>Single/Never Married</td>\n",
              "      <td>Primary education</td>\n",
              "      <td>Informally employed</td>\n",
              "    </tr>\n",
              "  </tbody>\n",
              "</table>\n",
              "</div>"
            ],
            "text/plain": [
              "  country  year  ...              Level of Educuation                Type of Job\n",
              "0   Kenya  2018  ...              Secondary education              Self employed\n",
              "1   Kenya  2018  ...              No formal education       Government Dependent\n",
              "2   Kenya  2018  ...  Vocational/Specialised training              Self employed\n",
              "3   Kenya  2018  ...                Primary education  Formally employed Private\n",
              "4   Kenya  2018  ...                Primary education        Informally employed\n",
              "\n",
              "[5 rows x 13 columns]"
            ]
          },
          "metadata": {
            "tags": []
          },
          "execution_count": 76
        }
      ]
    },
    {
      "cell_type": "markdown",
      "metadata": {
        "id": "2T8fmQ8b-zzf",
        "colab_type": "text"
      },
      "source": [
        "- We have pre-viewed the first five records of our dataset to get a glance at what we are working with. "
      ]
    },
    {
      "cell_type": "code",
      "metadata": {
        "id": "QiwNNcoB7pz8",
        "colab_type": "code",
        "outputId": "8447ab97-318e-4f35-ba43-f376bbf4be6a",
        "colab": {
          "base_uri": "https://localhost:8080/",
          "height": 361
        }
      },
      "source": [
        "# Displaying the last five components in of our data\n",
        "\n",
        "financial_df.tail()"
      ],
      "execution_count": 77,
      "outputs": [
        {
          "output_type": "execute_result",
          "data": {
            "text/html": [
              "<div>\n",
              "<style scoped>\n",
              "    .dataframe tbody tr th:only-of-type {\n",
              "        vertical-align: middle;\n",
              "    }\n",
              "\n",
              "    .dataframe tbody tr th {\n",
              "        vertical-align: top;\n",
              "    }\n",
              "\n",
              "    .dataframe thead th {\n",
              "        text-align: right;\n",
              "    }\n",
              "</style>\n",
              "<table border=\"1\" class=\"dataframe\">\n",
              "  <thead>\n",
              "    <tr style=\"text-align: right;\">\n",
              "      <th></th>\n",
              "      <th>country</th>\n",
              "      <th>year</th>\n",
              "      <th>uniqueid</th>\n",
              "      <th>Has a Bank account</th>\n",
              "      <th>Type of Location</th>\n",
              "      <th>Cell Phone Access</th>\n",
              "      <th>household_size</th>\n",
              "      <th>Respondent Age</th>\n",
              "      <th>gender_of_respondent</th>\n",
              "      <th>The relathip with head</th>\n",
              "      <th>marital_status</th>\n",
              "      <th>Level of Educuation</th>\n",
              "      <th>Type of Job</th>\n",
              "    </tr>\n",
              "  </thead>\n",
              "  <tbody>\n",
              "    <tr>\n",
              "      <th>23519</th>\n",
              "      <td>Uganda</td>\n",
              "      <td>2018</td>\n",
              "      <td>uniqueid_2113</td>\n",
              "      <td>No</td>\n",
              "      <td>Rural</td>\n",
              "      <td>Yes</td>\n",
              "      <td>4.0</td>\n",
              "      <td>48.0</td>\n",
              "      <td>Female</td>\n",
              "      <td>Head of Household</td>\n",
              "      <td>Divorced/Seperated</td>\n",
              "      <td>No formal education</td>\n",
              "      <td>Other Income</td>\n",
              "    </tr>\n",
              "    <tr>\n",
              "      <th>23520</th>\n",
              "      <td>Uganda</td>\n",
              "      <td>2018</td>\n",
              "      <td>uniqueid_2114</td>\n",
              "      <td>No</td>\n",
              "      <td>Rural</td>\n",
              "      <td>Yes</td>\n",
              "      <td>2.0</td>\n",
              "      <td>27.0</td>\n",
              "      <td>Female</td>\n",
              "      <td>Head of Household</td>\n",
              "      <td>Single/Never Married</td>\n",
              "      <td>Secondary education</td>\n",
              "      <td>Other Income</td>\n",
              "    </tr>\n",
              "    <tr>\n",
              "      <th>23521</th>\n",
              "      <td>Uganda</td>\n",
              "      <td>2018</td>\n",
              "      <td>uniqueid_2115</td>\n",
              "      <td>No</td>\n",
              "      <td>Rural</td>\n",
              "      <td>Yes</td>\n",
              "      <td>5.0</td>\n",
              "      <td>27.0</td>\n",
              "      <td>Female</td>\n",
              "      <td>Parent</td>\n",
              "      <td>Widowed</td>\n",
              "      <td>Primary education</td>\n",
              "      <td>Other Income</td>\n",
              "    </tr>\n",
              "    <tr>\n",
              "      <th>23522</th>\n",
              "      <td>Uganda</td>\n",
              "      <td>2018</td>\n",
              "      <td>uniqueid_2116</td>\n",
              "      <td>No</td>\n",
              "      <td>Urban</td>\n",
              "      <td>Yes</td>\n",
              "      <td>7.0</td>\n",
              "      <td>30.0</td>\n",
              "      <td>Female</td>\n",
              "      <td>Parent</td>\n",
              "      <td>Divorced/Seperated</td>\n",
              "      <td>Secondary education</td>\n",
              "      <td>Self employed</td>\n",
              "    </tr>\n",
              "    <tr>\n",
              "      <th>23523</th>\n",
              "      <td>Uganda</td>\n",
              "      <td>2018</td>\n",
              "      <td>uniqueid_2117</td>\n",
              "      <td>No</td>\n",
              "      <td>Rural</td>\n",
              "      <td>Yes</td>\n",
              "      <td>10.0</td>\n",
              "      <td>20.0</td>\n",
              "      <td>Male</td>\n",
              "      <td>Child</td>\n",
              "      <td>Single/Never Married</td>\n",
              "      <td>Secondary education</td>\n",
              "      <td>No Income</td>\n",
              "    </tr>\n",
              "  </tbody>\n",
              "</table>\n",
              "</div>"
            ],
            "text/plain": [
              "      country  year  ...  Level of Educuation    Type of Job\n",
              "23519  Uganda  2018  ...  No formal education   Other Income\n",
              "23520  Uganda  2018  ...  Secondary education   Other Income\n",
              "23521  Uganda  2018  ...    Primary education   Other Income\n",
              "23522  Uganda  2018  ...  Secondary education  Self employed\n",
              "23523  Uganda  2018  ...  Secondary education      No Income\n",
              "\n",
              "[5 rows x 13 columns]"
            ]
          },
          "metadata": {
            "tags": []
          },
          "execution_count": 77
        }
      ]
    },
    {
      "cell_type": "markdown",
      "metadata": {
        "id": "KmBKjF6g_Njv",
        "colab_type": "text"
      },
      "source": [
        "- We have displayed the last 5 rows of our dataset."
      ]
    },
    {
      "cell_type": "code",
      "metadata": {
        "id": "496z-_8K_LnO",
        "colab_type": "code",
        "outputId": "802994d0-c9fc-4ba0-eca3-e0d321e91d1b",
        "colab": {
          "base_uri": "https://localhost:8080/",
          "height": 329
        }
      },
      "source": [
        "# Using the info() function to investigate some of the features contained in our dataset.\n",
        "\n",
        "financial_df.info()"
      ],
      "execution_count": 78,
      "outputs": [
        {
          "output_type": "stream",
          "text": [
            "<class 'pandas.core.frame.DataFrame'>\n",
            "RangeIndex: 23524 entries, 0 to 23523\n",
            "Data columns (total 13 columns):\n",
            "country                   23510 non-null object\n",
            "year                      23524 non-null int64\n",
            "uniqueid                  23524 non-null object\n",
            "Has a Bank account        23488 non-null object\n",
            "Type of Location          23509 non-null object\n",
            "Cell Phone Access         23513 non-null object\n",
            "household_size            23496 non-null float64\n",
            "Respondent Age            23490 non-null float64\n",
            "gender_of_respondent      23490 non-null object\n",
            "The relathip with head    23520 non-null object\n",
            "marital_status            23492 non-null object\n",
            "Level of Educuation       23495 non-null object\n",
            "Type of Job               23494 non-null object\n",
            "dtypes: float64(2), int64(1), object(10)\n",
            "memory usage: 2.3+ MB\n"
          ],
          "name": "stdout"
        }
      ]
    },
    {
      "cell_type": "markdown",
      "metadata": {
        "id": "Gyv74V-4_kq8",
        "colab_type": "text"
      },
      "source": [
        "- The cell above displays some information about our data such as  such as the number non null of rows in each column,   columns contained in our dataframe, the data types of the columns and the memory usage."
      ]
    },
    {
      "cell_type": "markdown",
      "metadata": {
        "id": "nezESJxorkfY",
        "colab_type": "text"
      },
      "source": [
        "#### Checking the Uniques values in each column"
      ]
    },
    {
      "cell_type": "code",
      "metadata": {
        "id": "Wssru6bBre8k",
        "colab_type": "code",
        "outputId": "9fa37648-8f0d-412e-94b3-504eb17c2d51",
        "colab": {
          "base_uri": "https://localhost:8080/",
          "height": 953
        }
      },
      "source": [
        "for i in financial_df.columns:\n",
        "  print('\\n')\n",
        "  print(financial_df[i].unique())"
      ],
      "execution_count": 79,
      "outputs": [
        {
          "output_type": "stream",
          "text": [
            "\n",
            "\n",
            "['Kenya' 'Rwanda' 'Tanzania' nan 'Uganda']\n",
            "\n",
            "\n",
            "[2018 2029 2056 2016 2039 2017]\n",
            "\n",
            "\n",
            "['uniqueid_1' 'uniqueid_2' 'uniqueid_3' ... 'uniqueid_8757'\n",
            " 'uniqueid_8758' 'uniqueid_8759']\n",
            "\n",
            "\n",
            "['Yes' 'No' nan]\n",
            "\n",
            "\n",
            "['Rural' 'Urban' nan]\n",
            "\n",
            "\n",
            "['Yes' 'No' nan]\n",
            "\n",
            "\n",
            "[ 3.  5.  8.  7.  1.  6.  4. 10.  2. 11.  9. 12. 16. 15. 13. 14. 21. nan\n",
            "  0. 18. 17. 20.]\n",
            "\n",
            "\n",
            "[ 24.  70.  26.  34.  32.  42.  54.  76.  40.  69.  64.  31.  38.  47.\n",
            "  27.  48.  25.  21.  18.  22.  58.  55.  62.  29.  35.  45.  67.  19.\n",
            "  80.  66.  50.  33.  28.  51.  16.  17.  30.  37.  59.  65.  46.  56.\n",
            "  52.  23.  43.  49.  44.  72.  53.  63.  39.  81.  78.  36.  20.  60.\n",
            "  95.  71.  57.  85.  68.  41.  61.  75.  86.  73.  nan  93.  74.  88.\n",
            "  90.  77.  84.  82.  89.  79.  83.  94.  87.  92.  91.  98.  97.  96.\n",
            "  99. 100.]\n",
            "\n",
            "\n",
            "['Female' 'Male' nan]\n",
            "\n",
            "\n",
            "['Spouse' 'Head of Household' 'Other relative' 'Child' 'Parent'\n",
            " 'Other non-relatives' nan]\n",
            "\n",
            "\n",
            "['Married/Living together' 'Widowed' 'Single/Never Married'\n",
            " 'Divorced/Seperated' 'Dont know' nan]\n",
            "\n",
            "\n",
            "['Secondary education' 'No formal education'\n",
            " 'Vocational/Specialised training' 'Primary education'\n",
            " 'Tertiary education' 'Other/Dont know/RTA' '6' nan]\n",
            "\n",
            "\n",
            "['Self employed' 'Government Dependent' 'Formally employed Private'\n",
            " 'Informally employed' 'Formally employed Government'\n",
            " 'Farming and Fishing' 'Remittance Dependent' 'Other Income'\n",
            " 'Dont Know/Refuse to answer' nan 'No Income']\n"
          ],
          "name": "stdout"
        }
      ]
    },
    {
      "cell_type": "markdown",
      "metadata": {
        "id": "y88mynkV9tkZ",
        "colab_type": "text"
      },
      "source": [
        "#### Checking for Duplicate Records"
      ]
    },
    {
      "cell_type": "code",
      "metadata": {
        "id": "FDH04CVz9l7n",
        "colab_type": "code",
        "outputId": "94eea88f-f043-41f7-b688-17568102e1b8",
        "colab": {
          "base_uri": "https://localhost:8080/",
          "height": 35
        }
      },
      "source": [
        "# First lets check the shape of our dataframe\n",
        "\n",
        "financial_df.shape"
      ],
      "execution_count": 80,
      "outputs": [
        {
          "output_type": "execute_result",
          "data": {
            "text/plain": [
              "(23524, 13)"
            ]
          },
          "metadata": {
            "tags": []
          },
          "execution_count": 80
        }
      ]
    },
    {
      "cell_type": "markdown",
      "metadata": {
        "id": "fowixvoz-Kkw",
        "colab_type": "text"
      },
      "source": [
        "- Our dataframe has 23,524 rows and 13 columns"
      ]
    },
    {
      "cell_type": "code",
      "metadata": {
        "id": "Xa7A2i9--TAM",
        "colab_type": "code",
        "outputId": "210c918e-9ada-4575-85fc-194d778c65d3",
        "colab": {
          "base_uri": "https://localhost:8080/",
          "height": 35
        }
      },
      "source": [
        "# Now we check to see the number of duplicate rows if any are present in our data\n",
        "\n",
        "duplicated = len(financial_df[financial_df.duplicated(keep = 'first') == True] )\n",
        "\n",
        "print( 'We have', duplicated, 'rows in our dataframe')"
      ],
      "execution_count": 81,
      "outputs": [
        {
          "output_type": "stream",
          "text": [
            "We have 0 rows in our dataframe\n"
          ],
          "name": "stdout"
        }
      ]
    },
    {
      "cell_type": "markdown",
      "metadata": {
        "id": "lkadF8xtBbsF",
        "colab_type": "text"
      },
      "source": [
        "#### Exploring Our Columns"
      ]
    },
    {
      "cell_type": "code",
      "metadata": {
        "id": "w4PUt5iIBgQI",
        "colab_type": "code",
        "outputId": "9ec9bb6e-d6d9-4005-ddce-6096f348ece5",
        "colab": {
          "base_uri": "https://localhost:8080/",
          "height": 104
        }
      },
      "source": [
        "# Familiarizing ourselves with our data's column names\n",
        "\n",
        "financial_df.columns"
      ],
      "execution_count": 82,
      "outputs": [
        {
          "output_type": "execute_result",
          "data": {
            "text/plain": [
              "Index(['country', 'year', 'uniqueid', 'Has a Bank account', 'Type of Location',\n",
              "       'Cell Phone Access', 'household_size', 'Respondent Age',\n",
              "       'gender_of_respondent', 'The relathip with head', 'marital_status',\n",
              "       'Level of Educuation', 'Type of Job'],\n",
              "      dtype='object')"
            ]
          },
          "metadata": {
            "tags": []
          },
          "execution_count": 82
        }
      ]
    },
    {
      "cell_type": "markdown",
      "metadata": {
        "id": "618fGxKhDrnc",
        "colab_type": "text"
      },
      "source": [
        "  - There are a number of inconsistencies with our column names \n",
        "    - Some column names are all in lowercase while others both lower and uppercase.\n",
        "    - Some columns names with multiple words are separated by space while others by the underscore.\n",
        "    - Some column words are misspelt i.e (relathip : relationship) and (educuation : education)\n",
        "    \n",
        "\n",
        "    "
      ]
    },
    {
      "cell_type": "code",
      "metadata": {
        "id": "YfIp521zFpP6",
        "colab_type": "code",
        "outputId": "0a9bf43b-add0-4619-e34f-1032a4e9f2c2",
        "colab": {
          "base_uri": "https://localhost:8080/",
          "height": 104
        }
      },
      "source": [
        "# Renaming our columns \n",
        "\n",
        "financial_df.columns = financial_df.columns.str.replace('relathip', 'relationship').str.replace('educuation', 'education').str.replace(' ', '_').str.lower()\n",
        "\n",
        "financial_df.columns"
      ],
      "execution_count": 83,
      "outputs": [
        {
          "output_type": "execute_result",
          "data": {
            "text/plain": [
              "Index(['country', 'year', 'uniqueid', 'has_a_bank_account', 'type_of_location',\n",
              "       'cell_phone_access', 'household_size', 'respondent_age',\n",
              "       'gender_of_respondent', 'the_relationship_with_head', 'marital_status',\n",
              "       'level_of_educuation', 'type_of_job'],\n",
              "      dtype='object')"
            ]
          },
          "metadata": {
            "tags": []
          },
          "execution_count": 83
        }
      ]
    },
    {
      "cell_type": "markdown",
      "metadata": {
        "id": "fFNluLo7GiQg",
        "colab_type": "text"
      },
      "source": [
        "- We have corrected all the inconsitencies and there is uniformity and consistency of our column names."
      ]
    },
    {
      "cell_type": "markdown",
      "metadata": {
        "id": "nrcYpc08G4cn",
        "colab_type": "text"
      },
      "source": [
        "#### Checking and Dealing with Missing Values\n",
        "\n",
        "> Using the isnull() function, we will check the sum of null values in each row. We will then use the dropna() function to drop the rows of missing values."
      ]
    },
    {
      "cell_type": "code",
      "metadata": {
        "id": "hdOroc_2HAuj",
        "colab_type": "code",
        "outputId": "7cde3c1e-517e-474e-aa9f-69ba2bb53466",
        "colab": {
          "base_uri": "https://localhost:8080/",
          "height": 260
        }
      },
      "source": [
        "# Let's check for null records in our dataset\n",
        "\n",
        "financial_df.isnull().sum()\n"
      ],
      "execution_count": 84,
      "outputs": [
        {
          "output_type": "execute_result",
          "data": {
            "text/plain": [
              "country                       14\n",
              "year                           0\n",
              "uniqueid                       0\n",
              "has_a_bank_account            36\n",
              "type_of_location              15\n",
              "cell_phone_access             11\n",
              "household_size                28\n",
              "respondent_age                34\n",
              "gender_of_respondent          34\n",
              "the_relationship_with_head     4\n",
              "marital_status                32\n",
              "level_of_educuation           29\n",
              "type_of_job                   30\n",
              "dtype: int64"
            ]
          },
          "metadata": {
            "tags": []
          },
          "execution_count": 84
        }
      ]
    },
    {
      "cell_type": "markdown",
      "metadata": {
        "id": "z1fTtlI5HIoF",
        "colab_type": "text"
      },
      "source": [
        "- Here we see the number of missing values in each column"
      ]
    },
    {
      "cell_type": "code",
      "metadata": {
        "id": "qsrI44h1HKyo",
        "colab_type": "code",
        "colab": {}
      },
      "source": [
        "#dropping the rows with missing values\n",
        "\n",
        "fin_df = financial_df.dropna()"
      ],
      "execution_count": 0,
      "outputs": []
    },
    {
      "cell_type": "code",
      "metadata": {
        "id": "YVkrGDpxHTd1",
        "colab_type": "code",
        "outputId": "e5ce9c46-01a8-46b3-c9fc-6aa3e799fc26",
        "colab": {
          "base_uri": "https://localhost:8080/",
          "height": 35
        }
      },
      "source": [
        "# Checking the shape of the dataframe after dropping the rows with missing values\n",
        "\n",
        "financial_df.shape[0] - fin_df.shape[0]"
      ],
      "execution_count": 86,
      "outputs": [
        {
          "output_type": "execute_result",
          "data": {
            "text/plain": [
              "181"
            ]
          },
          "metadata": {
            "tags": []
          },
          "execution_count": 86
        }
      ]
    },
    {
      "cell_type": "markdown",
      "metadata": {
        "id": "SJcUejs5HaPb",
        "colab_type": "text"
      },
      "source": [
        "- 181 rows have been dropped after getting rid of the missing values."
      ]
    },
    {
      "cell_type": "markdown",
      "metadata": {
        "id": "_LAghEc-_l1I",
        "colab_type": "text"
      },
      "source": [
        "## Univariate EDA\n",
        "\n",
        "> Univariate Exploratory Data Analysis aims to help us to describe our data by summarizing the data and enabling us to recognize patterns if they are present, one variable at a time. We will perform both graphical and non-graphical analysis on our data in order to get the most information we can out of our analysis.\n",
        "- Non-graphical analysis includes :\n",
        "  - Central Tendency (mean, mode and median)\n",
        "  - Dispersion (variance, standard deviation, maximum, minimum, range and Interquartile range(IQR)) \n",
        "- Graphical analysis :\n",
        "  - Frequency Distibution Tables\n",
        "  - Bar Charts\n",
        "  - Histograms\n",
        "  - Pie Charts"
      ]
    },
    {
      "cell_type": "markdown",
      "metadata": {
        "id": "bBdi8Np147t1",
        "colab_type": "text"
      },
      "source": [
        "###Non-Graphical Univariate EDA on Categorical Data\n",
        "#### Central Tendency\n",
        "\n",
        "- For categorical Data, we can only accomplish getting a listing of the mode and the proportion and percentage of the data for nominal variables and median, mode, range and IQR and percentiles and proportions of the data for ordinal variables."
      ]
    },
    {
      "cell_type": "code",
      "metadata": {
        "id": "opBzWlK_82BA",
        "colab_type": "code",
        "outputId": "3e9813a9-607c-488d-d989-86ba94797094",
        "colab": {
          "base_uri": "https://localhost:8080/",
          "height": 165
        }
      },
      "source": [
        "fin_df.head(2)"
      ],
      "execution_count": 87,
      "outputs": [
        {
          "output_type": "execute_result",
          "data": {
            "text/html": [
              "<div>\n",
              "<style scoped>\n",
              "    .dataframe tbody tr th:only-of-type {\n",
              "        vertical-align: middle;\n",
              "    }\n",
              "\n",
              "    .dataframe tbody tr th {\n",
              "        vertical-align: top;\n",
              "    }\n",
              "\n",
              "    .dataframe thead th {\n",
              "        text-align: right;\n",
              "    }\n",
              "</style>\n",
              "<table border=\"1\" class=\"dataframe\">\n",
              "  <thead>\n",
              "    <tr style=\"text-align: right;\">\n",
              "      <th></th>\n",
              "      <th>country</th>\n",
              "      <th>year</th>\n",
              "      <th>uniqueid</th>\n",
              "      <th>has_a_bank_account</th>\n",
              "      <th>type_of_location</th>\n",
              "      <th>cell_phone_access</th>\n",
              "      <th>household_size</th>\n",
              "      <th>respondent_age</th>\n",
              "      <th>gender_of_respondent</th>\n",
              "      <th>the_relationship_with_head</th>\n",
              "      <th>marital_status</th>\n",
              "      <th>level_of_educuation</th>\n",
              "      <th>type_of_job</th>\n",
              "    </tr>\n",
              "  </thead>\n",
              "  <tbody>\n",
              "    <tr>\n",
              "      <th>0</th>\n",
              "      <td>Kenya</td>\n",
              "      <td>2018</td>\n",
              "      <td>uniqueid_1</td>\n",
              "      <td>Yes</td>\n",
              "      <td>Rural</td>\n",
              "      <td>Yes</td>\n",
              "      <td>3.0</td>\n",
              "      <td>24.0</td>\n",
              "      <td>Female</td>\n",
              "      <td>Spouse</td>\n",
              "      <td>Married/Living together</td>\n",
              "      <td>Secondary education</td>\n",
              "      <td>Self employed</td>\n",
              "    </tr>\n",
              "    <tr>\n",
              "      <th>1</th>\n",
              "      <td>Kenya</td>\n",
              "      <td>2018</td>\n",
              "      <td>uniqueid_2</td>\n",
              "      <td>No</td>\n",
              "      <td>Rural</td>\n",
              "      <td>No</td>\n",
              "      <td>5.0</td>\n",
              "      <td>70.0</td>\n",
              "      <td>Female</td>\n",
              "      <td>Head of Household</td>\n",
              "      <td>Widowed</td>\n",
              "      <td>No formal education</td>\n",
              "      <td>Government Dependent</td>\n",
              "    </tr>\n",
              "  </tbody>\n",
              "</table>\n",
              "</div>"
            ],
            "text/plain": [
              "  country  year  ...  level_of_educuation           type_of_job\n",
              "0   Kenya  2018  ...  Secondary education         Self employed\n",
              "1   Kenya  2018  ...  No formal education  Government Dependent\n",
              "\n",
              "[2 rows x 13 columns]"
            ]
          },
          "metadata": {
            "tags": []
          },
          "execution_count": 87
        }
      ]
    },
    {
      "cell_type": "markdown",
      "metadata": {
        "id": "MNN87uEIuU_O",
        "colab_type": "text"
      },
      "source": [
        "####  By Country"
      ]
    },
    {
      "cell_type": "code",
      "metadata": {
        "id": "5BbSCgQ5_eDn",
        "colab_type": "code",
        "outputId": "98645d28-9458-4270-f530-4387f5e9191b",
        "colab": {
          "base_uri": "https://localhost:8080/",
          "height": 171
        }
      },
      "source": [
        "# Getting the the percentage of records recorded per country\n",
        "\n",
        "country_records = pd.DataFrame(fin_df.country.value_counts(normalize = True )) # This line of code calculates the percentage of the records in our dataset per country\n",
        "\n",
        "country_records"
      ],
      "execution_count": 88,
      "outputs": [
        {
          "output_type": "execute_result",
          "data": {
            "text/html": [
              "<div>\n",
              "<style scoped>\n",
              "    .dataframe tbody tr th:only-of-type {\n",
              "        vertical-align: middle;\n",
              "    }\n",
              "\n",
              "    .dataframe tbody tr th {\n",
              "        vertical-align: top;\n",
              "    }\n",
              "\n",
              "    .dataframe thead th {\n",
              "        text-align: right;\n",
              "    }\n",
              "</style>\n",
              "<table border=\"1\" class=\"dataframe\">\n",
              "  <thead>\n",
              "    <tr style=\"text-align: right;\">\n",
              "      <th></th>\n",
              "      <th>country</th>\n",
              "    </tr>\n",
              "  </thead>\n",
              "  <tbody>\n",
              "    <tr>\n",
              "      <th>Rwanda</th>\n",
              "      <td>0.372017</td>\n",
              "    </tr>\n",
              "    <tr>\n",
              "      <th>Tanzania</th>\n",
              "      <td>0.278456</td>\n",
              "    </tr>\n",
              "    <tr>\n",
              "      <th>Kenya</th>\n",
              "      <td>0.259778</td>\n",
              "    </tr>\n",
              "    <tr>\n",
              "      <th>Uganda</th>\n",
              "      <td>0.089749</td>\n",
              "    </tr>\n",
              "  </tbody>\n",
              "</table>\n",
              "</div>"
            ],
            "text/plain": [
              "           country\n",
              "Rwanda    0.372017\n",
              "Tanzania  0.278456\n",
              "Kenya     0.259778\n",
              "Uganda    0.089749"
            ]
          },
          "metadata": {
            "tags": []
          },
          "execution_count": 88
        }
      ]
    },
    {
      "cell_type": "markdown",
      "metadata": {
        "id": "vwddRm0vJEgK",
        "colab_type": "text"
      },
      "source": [
        "- Rwanda has the highest percentage of records at 37 %  while Uganda has the lowest percentage of records at 8%"
      ]
    },
    {
      "cell_type": "code",
      "metadata": {
        "id": "R6L1X6ejLU5O",
        "colab_type": "code",
        "outputId": "189d0c71-daf6-4f27-f92f-a6e2850d7ff8",
        "colab": {
          "base_uri": "https://localhost:8080/",
          "height": 171
        }
      },
      "source": [
        "# Determining the number of people per country with a bank account\n",
        "\n",
        "country_yes = fin_df.country[fin_df['has_a_bank_account'] == 'Yes'].value_counts(normalize = True)\n",
        "\n",
        "country_yes = pd.DataFrame(country_yes) #Turning the subset into a DataFrame\n",
        "\n",
        "country_yes                          #Displaying the subset"
      ],
      "execution_count": 89,
      "outputs": [
        {
          "output_type": "execute_result",
          "data": {
            "text/html": [
              "<div>\n",
              "<style scoped>\n",
              "    .dataframe tbody tr th:only-of-type {\n",
              "        vertical-align: middle;\n",
              "    }\n",
              "\n",
              "    .dataframe tbody tr th {\n",
              "        vertical-align: top;\n",
              "    }\n",
              "\n",
              "    .dataframe thead th {\n",
              "        text-align: right;\n",
              "    }\n",
              "</style>\n",
              "<table border=\"1\" class=\"dataframe\">\n",
              "  <thead>\n",
              "    <tr style=\"text-align: right;\">\n",
              "      <th></th>\n",
              "      <th>country</th>\n",
              "    </tr>\n",
              "  </thead>\n",
              "  <tbody>\n",
              "    <tr>\n",
              "      <th>Kenya</th>\n",
              "      <td>0.461025</td>\n",
              "    </tr>\n",
              "    <tr>\n",
              "      <th>Rwanda</th>\n",
              "      <td>0.302396</td>\n",
              "    </tr>\n",
              "    <tr>\n",
              "      <th>Tanzania</th>\n",
              "      <td>0.181680</td>\n",
              "    </tr>\n",
              "    <tr>\n",
              "      <th>Uganda</th>\n",
              "      <td>0.054898</td>\n",
              "    </tr>\n",
              "  </tbody>\n",
              "</table>\n",
              "</div>"
            ],
            "text/plain": [
              "           country\n",
              "Kenya     0.461025\n",
              "Rwanda    0.302396\n",
              "Tanzania  0.181680\n",
              "Uganda    0.054898"
            ]
          },
          "metadata": {
            "tags": []
          },
          "execution_count": 89
        }
      ]
    },
    {
      "cell_type": "markdown",
      "metadata": {
        "id": "q7Y5Hz8_QXRh",
        "colab_type": "text"
      },
      "source": [
        "- From the subset of people with bank accounts per country 1520 are from Kenya, followed by  997 from Rwanda then 599 people are from Tanzania and lastly 181 people are from Uganda.\n",
        "\n",
        "- From our sample, kenya has the highest number of people with a bank account."
      ]
    },
    {
      "cell_type": "code",
      "metadata": {
        "id": "7UEbQA4wQPd4",
        "colab_type": "code",
        "outputId": "cbabee6e-1c52-4ec3-9d45-63936119ebe2",
        "colab": {
          "base_uri": "https://localhost:8080/",
          "height": 171
        }
      },
      "source": [
        "# Determining the number of people per country without a bank account\n",
        "\n",
        "country_no = fin_df.country[fin_df['has_a_bank_account'] == 'No'].value_counts()\n",
        "\n",
        "country_no = pd.DataFrame(country_no) #Turning the subset into a DataFrame\n",
        "\n",
        "country_no                          #Displaying the subset"
      ],
      "execution_count": 90,
      "outputs": [
        {
          "output_type": "execute_result",
          "data": {
            "text/html": [
              "<div>\n",
              "<style scoped>\n",
              "    .dataframe tbody tr th:only-of-type {\n",
              "        vertical-align: middle;\n",
              "    }\n",
              "\n",
              "    .dataframe tbody tr th {\n",
              "        vertical-align: top;\n",
              "    }\n",
              "\n",
              "    .dataframe thead th {\n",
              "        text-align: right;\n",
              "    }\n",
              "</style>\n",
              "<table border=\"1\" class=\"dataframe\">\n",
              "  <thead>\n",
              "    <tr style=\"text-align: right;\">\n",
              "      <th></th>\n",
              "      <th>country</th>\n",
              "    </tr>\n",
              "  </thead>\n",
              "  <tbody>\n",
              "    <tr>\n",
              "      <th>Rwanda</th>\n",
              "      <td>7687</td>\n",
              "    </tr>\n",
              "    <tr>\n",
              "      <th>Tanzania</th>\n",
              "      <td>5901</td>\n",
              "    </tr>\n",
              "    <tr>\n",
              "      <th>Kenya</th>\n",
              "      <td>4544</td>\n",
              "    </tr>\n",
              "    <tr>\n",
              "      <th>Uganda</th>\n",
              "      <td>1914</td>\n",
              "    </tr>\n",
              "  </tbody>\n",
              "</table>\n",
              "</div>"
            ],
            "text/plain": [
              "          country\n",
              "Rwanda       7687\n",
              "Tanzania     5901\n",
              "Kenya        4544\n",
              "Uganda       1914"
            ]
          },
          "metadata": {
            "tags": []
          },
          "execution_count": 90
        }
      ]
    },
    {
      "cell_type": "markdown",
      "metadata": {
        "id": "UgCa7Z9uRTG7",
        "colab_type": "text"
      },
      "source": [
        "- From the subset of people without bank accounts, 7687 are from Rwanda, 5901 from Tanzania, 4544 from kenya and 1914 from Uganda.\n",
        "\n",
        "- Also from our sample, Rwanda has the highest number of people without a bank account."
      ]
    },
    {
      "cell_type": "markdown",
      "metadata": {
        "id": "k18ePeBIudNj",
        "colab_type": "text"
      },
      "source": [
        "#### By Location of Respondents"
      ]
    },
    {
      "cell_type": "code",
      "metadata": {
        "id": "Gddp5lb-LNe4",
        "colab_type": "code",
        "outputId": "3833ea02-7c50-4a10-f28c-eb982f55aea6",
        "colab": {
          "base_uri": "https://localhost:8080/",
          "height": 325
        }
      },
      "source": [
        "# Checking the number of people sampled in the rural or urban centers samples per country\n",
        "\n",
        "location = pd.DataFrame(fin_df, columns = ['country', 'type_of_location']) # Creating a subset of the country and type of location columns from the main dataframe\n",
        "\n",
        "location = pd.DataFrame(location.groupby('country')['type_of_location'].value_counts()) # Grouping the data per country to give the number of people from rural and urban areas surveyed per country\n",
        "\n",
        "location"
      ],
      "execution_count": 91,
      "outputs": [
        {
          "output_type": "execute_result",
          "data": {
            "text/html": [
              "<div>\n",
              "<style scoped>\n",
              "    .dataframe tbody tr th:only-of-type {\n",
              "        vertical-align: middle;\n",
              "    }\n",
              "\n",
              "    .dataframe tbody tr th {\n",
              "        vertical-align: top;\n",
              "    }\n",
              "\n",
              "    .dataframe thead th {\n",
              "        text-align: right;\n",
              "    }\n",
              "</style>\n",
              "<table border=\"1\" class=\"dataframe\">\n",
              "  <thead>\n",
              "    <tr style=\"text-align: right;\">\n",
              "      <th></th>\n",
              "      <th></th>\n",
              "      <th>type_of_location</th>\n",
              "    </tr>\n",
              "    <tr>\n",
              "      <th>country</th>\n",
              "      <th>type_of_location</th>\n",
              "      <th></th>\n",
              "    </tr>\n",
              "  </thead>\n",
              "  <tbody>\n",
              "    <tr>\n",
              "      <th rowspan=\"2\" valign=\"top\">Kenya</th>\n",
              "      <th>Rural</th>\n",
              "      <td>3540</td>\n",
              "    </tr>\n",
              "    <tr>\n",
              "      <th>Urban</th>\n",
              "      <td>2524</td>\n",
              "    </tr>\n",
              "    <tr>\n",
              "      <th rowspan=\"2\" valign=\"top\">Rwanda</th>\n",
              "      <th>Rural</th>\n",
              "      <td>7442</td>\n",
              "    </tr>\n",
              "    <tr>\n",
              "      <th>Urban</th>\n",
              "      <td>1242</td>\n",
              "    </tr>\n",
              "    <tr>\n",
              "      <th rowspan=\"2\" valign=\"top\">Tanzania</th>\n",
              "      <th>Urban</th>\n",
              "      <td>4724</td>\n",
              "    </tr>\n",
              "    <tr>\n",
              "      <th>Rural</th>\n",
              "      <td>1776</td>\n",
              "    </tr>\n",
              "    <tr>\n",
              "      <th rowspan=\"2\" valign=\"top\">Uganda</th>\n",
              "      <th>Rural</th>\n",
              "      <td>1506</td>\n",
              "    </tr>\n",
              "    <tr>\n",
              "      <th>Urban</th>\n",
              "      <td>589</td>\n",
              "    </tr>\n",
              "  </tbody>\n",
              "</table>\n",
              "</div>"
            ],
            "text/plain": [
              "                           type_of_location\n",
              "country  type_of_location                  \n",
              "Kenya    Rural                         3540\n",
              "         Urban                         2524\n",
              "Rwanda   Rural                         7442\n",
              "         Urban                         1242\n",
              "Tanzania Urban                         4724\n",
              "         Rural                         1776\n",
              "Uganda   Rural                         1506\n",
              "         Urban                          589"
            ]
          },
          "metadata": {
            "tags": []
          },
          "execution_count": 91
        }
      ]
    },
    {
      "cell_type": "code",
      "metadata": {
        "id": "bDOwqZSXwqPa",
        "colab_type": "code",
        "outputId": "ff4839ad-7405-4cf2-d00e-20cdaa438372",
        "colab": {
          "base_uri": "https://localhost:8080/",
          "height": 325
        }
      },
      "source": [
        "# Checking the number of people sampled in the rural or urban centers samples per country with bank accounts\n",
        "\n",
        "location_yes = pd.DataFrame(fin_df[fin_df.has_a_bank_account == 'Yes'], columns = ['country', 'type_of_location']) # Creating a subset of the country and type of location columns from the main dataframe\n",
        "\n",
        "location_yes = pd.DataFrame(location_yes.groupby('country')['type_of_location'].value_counts()) # Grouping the data per country to give the number of people from rural and urban areas surveyed per country\n",
        "\n",
        "location_yes"
      ],
      "execution_count": 92,
      "outputs": [
        {
          "output_type": "execute_result",
          "data": {
            "text/html": [
              "<div>\n",
              "<style scoped>\n",
              "    .dataframe tbody tr th:only-of-type {\n",
              "        vertical-align: middle;\n",
              "    }\n",
              "\n",
              "    .dataframe tbody tr th {\n",
              "        vertical-align: top;\n",
              "    }\n",
              "\n",
              "    .dataframe thead th {\n",
              "        text-align: right;\n",
              "    }\n",
              "</style>\n",
              "<table border=\"1\" class=\"dataframe\">\n",
              "  <thead>\n",
              "    <tr style=\"text-align: right;\">\n",
              "      <th></th>\n",
              "      <th></th>\n",
              "      <th>type_of_location</th>\n",
              "    </tr>\n",
              "    <tr>\n",
              "      <th>country</th>\n",
              "      <th>type_of_location</th>\n",
              "      <th></th>\n",
              "    </tr>\n",
              "  </thead>\n",
              "  <tbody>\n",
              "    <tr>\n",
              "      <th rowspan=\"2\" valign=\"top\">Kenya</th>\n",
              "      <th>Urban</th>\n",
              "      <td>906</td>\n",
              "    </tr>\n",
              "    <tr>\n",
              "      <th>Rural</th>\n",
              "      <td>614</td>\n",
              "    </tr>\n",
              "    <tr>\n",
              "      <th rowspan=\"2\" valign=\"top\">Rwanda</th>\n",
              "      <th>Rural</th>\n",
              "      <td>616</td>\n",
              "    </tr>\n",
              "    <tr>\n",
              "      <th>Urban</th>\n",
              "      <td>381</td>\n",
              "    </tr>\n",
              "    <tr>\n",
              "      <th rowspan=\"2\" valign=\"top\">Tanzania</th>\n",
              "      <th>Rural</th>\n",
              "      <td>369</td>\n",
              "    </tr>\n",
              "    <tr>\n",
              "      <th>Urban</th>\n",
              "      <td>230</td>\n",
              "    </tr>\n",
              "    <tr>\n",
              "      <th rowspan=\"2\" valign=\"top\">Uganda</th>\n",
              "      <th>Urban</th>\n",
              "      <td>117</td>\n",
              "    </tr>\n",
              "    <tr>\n",
              "      <th>Rural</th>\n",
              "      <td>64</td>\n",
              "    </tr>\n",
              "  </tbody>\n",
              "</table>\n",
              "</div>"
            ],
            "text/plain": [
              "                           type_of_location\n",
              "country  type_of_location                  \n",
              "Kenya    Urban                          906\n",
              "         Rural                          614\n",
              "Rwanda   Rural                          616\n",
              "         Urban                          381\n",
              "Tanzania Rural                          369\n",
              "         Urban                          230\n",
              "Uganda   Urban                          117\n",
              "         Rural                           64"
            ]
          },
          "metadata": {
            "tags": []
          },
          "execution_count": 92
        }
      ]
    },
    {
      "cell_type": "code",
      "metadata": {
        "id": "nLeBbjI6xLqF",
        "colab_type": "code",
        "outputId": "0eb5c3be-909e-45c4-e8e1-22a54a22f87d",
        "colab": {
          "base_uri": "https://localhost:8080/",
          "height": 325
        }
      },
      "source": [
        "# Checking the number of people sampled in the rural or urban centers samples per country without bank accounts\n",
        "\n",
        "location_no = pd.DataFrame(fin_df[fin_df.has_a_bank_account == 'No'], columns = ['country', 'type_of_location']) # Creating a subset of the country and type of location columns from the main dataframe\n",
        "\n",
        "location_no = pd.DataFrame(location_no.groupby('country')['type_of_location'].value_counts()) # Grouping the data per country to give the number of people from rural and urban areas surveyed per country\n",
        "\n",
        "location_no"
      ],
      "execution_count": 93,
      "outputs": [
        {
          "output_type": "execute_result",
          "data": {
            "text/html": [
              "<div>\n",
              "<style scoped>\n",
              "    .dataframe tbody tr th:only-of-type {\n",
              "        vertical-align: middle;\n",
              "    }\n",
              "\n",
              "    .dataframe tbody tr th {\n",
              "        vertical-align: top;\n",
              "    }\n",
              "\n",
              "    .dataframe thead th {\n",
              "        text-align: right;\n",
              "    }\n",
              "</style>\n",
              "<table border=\"1\" class=\"dataframe\">\n",
              "  <thead>\n",
              "    <tr style=\"text-align: right;\">\n",
              "      <th></th>\n",
              "      <th></th>\n",
              "      <th>type_of_location</th>\n",
              "    </tr>\n",
              "    <tr>\n",
              "      <th>country</th>\n",
              "      <th>type_of_location</th>\n",
              "      <th></th>\n",
              "    </tr>\n",
              "  </thead>\n",
              "  <tbody>\n",
              "    <tr>\n",
              "      <th rowspan=\"2\" valign=\"top\">Kenya</th>\n",
              "      <th>Rural</th>\n",
              "      <td>2926</td>\n",
              "    </tr>\n",
              "    <tr>\n",
              "      <th>Urban</th>\n",
              "      <td>1618</td>\n",
              "    </tr>\n",
              "    <tr>\n",
              "      <th rowspan=\"2\" valign=\"top\">Rwanda</th>\n",
              "      <th>Rural</th>\n",
              "      <td>6826</td>\n",
              "    </tr>\n",
              "    <tr>\n",
              "      <th>Urban</th>\n",
              "      <td>861</td>\n",
              "    </tr>\n",
              "    <tr>\n",
              "      <th rowspan=\"2\" valign=\"top\">Tanzania</th>\n",
              "      <th>Urban</th>\n",
              "      <td>4494</td>\n",
              "    </tr>\n",
              "    <tr>\n",
              "      <th>Rural</th>\n",
              "      <td>1407</td>\n",
              "    </tr>\n",
              "    <tr>\n",
              "      <th rowspan=\"2\" valign=\"top\">Uganda</th>\n",
              "      <th>Rural</th>\n",
              "      <td>1442</td>\n",
              "    </tr>\n",
              "    <tr>\n",
              "      <th>Urban</th>\n",
              "      <td>472</td>\n",
              "    </tr>\n",
              "  </tbody>\n",
              "</table>\n",
              "</div>"
            ],
            "text/plain": [
              "                           type_of_location\n",
              "country  type_of_location                  \n",
              "Kenya    Rural                         2926\n",
              "         Urban                         1618\n",
              "Rwanda   Rural                         6826\n",
              "         Urban                          861\n",
              "Tanzania Urban                         4494\n",
              "         Rural                         1407\n",
              "Uganda   Rural                         1442\n",
              "         Urban                          472"
            ]
          },
          "metadata": {
            "tags": []
          },
          "execution_count": 93
        }
      ]
    },
    {
      "cell_type": "markdown",
      "metadata": {
        "id": "cVJLRTKGutVi",
        "colab_type": "text"
      },
      "source": [
        "#### By Gender of Respondents"
      ]
    },
    {
      "cell_type": "code",
      "metadata": {
        "id": "YmENtkO0lwcK",
        "colab_type": "code",
        "outputId": "a81499bb-68d9-46f5-db02-a6a51cb700e3",
        "colab": {
          "base_uri": "https://localhost:8080/",
          "height": 325
        }
      },
      "source": [
        "# Investigating the number of male and female respondents per country\n",
        "\n",
        "gender = pd.DataFrame(fin_df, columns = ['country', 'gender_of_respondent']) # Creating a subset of the dataset of the country and the gender of the respondents.\n",
        "\n",
        "gender = pd.DataFrame(gender.groupby('country')['gender_of_respondent'].value_counts()) # Grouping the subset data to give the total number of male and female respondents per country.\n",
        "\n",
        "gender"
      ],
      "execution_count": 94,
      "outputs": [
        {
          "output_type": "execute_result",
          "data": {
            "text/html": [
              "<div>\n",
              "<style scoped>\n",
              "    .dataframe tbody tr th:only-of-type {\n",
              "        vertical-align: middle;\n",
              "    }\n",
              "\n",
              "    .dataframe tbody tr th {\n",
              "        vertical-align: top;\n",
              "    }\n",
              "\n",
              "    .dataframe thead th {\n",
              "        text-align: right;\n",
              "    }\n",
              "</style>\n",
              "<table border=\"1\" class=\"dataframe\">\n",
              "  <thead>\n",
              "    <tr style=\"text-align: right;\">\n",
              "      <th></th>\n",
              "      <th></th>\n",
              "      <th>gender_of_respondent</th>\n",
              "    </tr>\n",
              "    <tr>\n",
              "      <th>country</th>\n",
              "      <th>gender_of_respondent</th>\n",
              "      <th></th>\n",
              "    </tr>\n",
              "  </thead>\n",
              "  <tbody>\n",
              "    <tr>\n",
              "      <th rowspan=\"2\" valign=\"top\">Kenya</th>\n",
              "      <th>Female</th>\n",
              "      <td>3480</td>\n",
              "    </tr>\n",
              "    <tr>\n",
              "      <th>Male</th>\n",
              "      <td>2584</td>\n",
              "    </tr>\n",
              "    <tr>\n",
              "      <th rowspan=\"2\" valign=\"top\">Rwanda</th>\n",
              "      <th>Female</th>\n",
              "      <td>5173</td>\n",
              "    </tr>\n",
              "    <tr>\n",
              "      <th>Male</th>\n",
              "      <td>3511</td>\n",
              "    </tr>\n",
              "    <tr>\n",
              "      <th rowspan=\"2\" valign=\"top\">Tanzania</th>\n",
              "      <th>Female</th>\n",
              "      <td>3732</td>\n",
              "    </tr>\n",
              "    <tr>\n",
              "      <th>Male</th>\n",
              "      <td>2768</td>\n",
              "    </tr>\n",
              "    <tr>\n",
              "      <th rowspan=\"2\" valign=\"top\">Uganda</th>\n",
              "      <th>Female</th>\n",
              "      <td>1382</td>\n",
              "    </tr>\n",
              "    <tr>\n",
              "      <th>Male</th>\n",
              "      <td>713</td>\n",
              "    </tr>\n",
              "  </tbody>\n",
              "</table>\n",
              "</div>"
            ],
            "text/plain": [
              "                               gender_of_respondent\n",
              "country  gender_of_respondent                      \n",
              "Kenya    Female                                3480\n",
              "         Male                                  2584\n",
              "Rwanda   Female                                5173\n",
              "         Male                                  3511\n",
              "Tanzania Female                                3732\n",
              "         Male                                  2768\n",
              "Uganda   Female                                1382\n",
              "         Male                                   713"
            ]
          },
          "metadata": {
            "tags": []
          },
          "execution_count": 94
        }
      ]
    },
    {
      "cell_type": "code",
      "metadata": {
        "id": "rlJOyJNhpljd",
        "colab_type": "code",
        "outputId": "d0b16827-1957-420b-ee3a-cf24c884d587",
        "colab": {
          "base_uri": "https://localhost:8080/",
          "height": 325
        }
      },
      "source": [
        "# Investigating the number of male and female respondents per country with bank accounts\n",
        "\n",
        "gender_yes = pd.DataFrame(fin_df[fin_df.has_a_bank_account == 'Yes'], columns = ['country', 'gender_of_respondent']) # Creating a subset of the dataset of the country and the gender of the respondents with bank accounts\n",
        "\n",
        "gender_yes = pd.DataFrame(gender_yes.groupby('country')['gender_of_respondent'].value_counts()) # Grouping the subset data to give the total number of male and female respondents per country.\n",
        "\n",
        "gender_yes"
      ],
      "execution_count": 95,
      "outputs": [
        {
          "output_type": "execute_result",
          "data": {
            "text/html": [
              "<div>\n",
              "<style scoped>\n",
              "    .dataframe tbody tr th:only-of-type {\n",
              "        vertical-align: middle;\n",
              "    }\n",
              "\n",
              "    .dataframe tbody tr th {\n",
              "        vertical-align: top;\n",
              "    }\n",
              "\n",
              "    .dataframe thead th {\n",
              "        text-align: right;\n",
              "    }\n",
              "</style>\n",
              "<table border=\"1\" class=\"dataframe\">\n",
              "  <thead>\n",
              "    <tr style=\"text-align: right;\">\n",
              "      <th></th>\n",
              "      <th></th>\n",
              "      <th>gender_of_respondent</th>\n",
              "    </tr>\n",
              "    <tr>\n",
              "      <th>country</th>\n",
              "      <th>gender_of_respondent</th>\n",
              "      <th></th>\n",
              "    </tr>\n",
              "  </thead>\n",
              "  <tbody>\n",
              "    <tr>\n",
              "      <th rowspan=\"2\" valign=\"top\">Kenya</th>\n",
              "      <th>Male</th>\n",
              "      <td>820</td>\n",
              "    </tr>\n",
              "    <tr>\n",
              "      <th>Female</th>\n",
              "      <td>700</td>\n",
              "    </tr>\n",
              "    <tr>\n",
              "      <th rowspan=\"2\" valign=\"top\">Rwanda</th>\n",
              "      <th>Male</th>\n",
              "      <td>553</td>\n",
              "    </tr>\n",
              "    <tr>\n",
              "      <th>Female</th>\n",
              "      <td>444</td>\n",
              "    </tr>\n",
              "    <tr>\n",
              "      <th rowspan=\"2\" valign=\"top\">Tanzania</th>\n",
              "      <th>Male</th>\n",
              "      <td>360</td>\n",
              "    </tr>\n",
              "    <tr>\n",
              "      <th>Female</th>\n",
              "      <td>239</td>\n",
              "    </tr>\n",
              "    <tr>\n",
              "      <th rowspan=\"2\" valign=\"top\">Uganda</th>\n",
              "      <th>Female</th>\n",
              "      <td>97</td>\n",
              "    </tr>\n",
              "    <tr>\n",
              "      <th>Male</th>\n",
              "      <td>84</td>\n",
              "    </tr>\n",
              "  </tbody>\n",
              "</table>\n",
              "</div>"
            ],
            "text/plain": [
              "                               gender_of_respondent\n",
              "country  gender_of_respondent                      \n",
              "Kenya    Male                                   820\n",
              "         Female                                 700\n",
              "Rwanda   Male                                   553\n",
              "         Female                                 444\n",
              "Tanzania Male                                   360\n",
              "         Female                                 239\n",
              "Uganda   Female                                  97\n",
              "         Male                                    84"
            ]
          },
          "metadata": {
            "tags": []
          },
          "execution_count": 95
        }
      ]
    },
    {
      "cell_type": "code",
      "metadata": {
        "id": "y3pm6Ru_qDl6",
        "colab_type": "code",
        "outputId": "7c0d97d7-331c-4886-d3cb-93c5434ff304",
        "colab": {
          "base_uri": "https://localhost:8080/",
          "height": 325
        }
      },
      "source": [
        "# Investigating the number of male and female respondents per country without Bank Accounts\n",
        "\n",
        "gender_no = pd.DataFrame(fin_df, columns = ['country', 'gender_of_respondent']) # Creating a subset of the dataset of the country and the gender of the respondents.\n",
        "\n",
        "gender_no = pd.DataFrame(gender_no.groupby('country')['gender_of_respondent'].value_counts()) # Grouping the subset data to give the total number of male and female respondents per country.\n",
        "\n",
        "gender_no"
      ],
      "execution_count": 96,
      "outputs": [
        {
          "output_type": "execute_result",
          "data": {
            "text/html": [
              "<div>\n",
              "<style scoped>\n",
              "    .dataframe tbody tr th:only-of-type {\n",
              "        vertical-align: middle;\n",
              "    }\n",
              "\n",
              "    .dataframe tbody tr th {\n",
              "        vertical-align: top;\n",
              "    }\n",
              "\n",
              "    .dataframe thead th {\n",
              "        text-align: right;\n",
              "    }\n",
              "</style>\n",
              "<table border=\"1\" class=\"dataframe\">\n",
              "  <thead>\n",
              "    <tr style=\"text-align: right;\">\n",
              "      <th></th>\n",
              "      <th></th>\n",
              "      <th>gender_of_respondent</th>\n",
              "    </tr>\n",
              "    <tr>\n",
              "      <th>country</th>\n",
              "      <th>gender_of_respondent</th>\n",
              "      <th></th>\n",
              "    </tr>\n",
              "  </thead>\n",
              "  <tbody>\n",
              "    <tr>\n",
              "      <th rowspan=\"2\" valign=\"top\">Kenya</th>\n",
              "      <th>Female</th>\n",
              "      <td>3480</td>\n",
              "    </tr>\n",
              "    <tr>\n",
              "      <th>Male</th>\n",
              "      <td>2584</td>\n",
              "    </tr>\n",
              "    <tr>\n",
              "      <th rowspan=\"2\" valign=\"top\">Rwanda</th>\n",
              "      <th>Female</th>\n",
              "      <td>5173</td>\n",
              "    </tr>\n",
              "    <tr>\n",
              "      <th>Male</th>\n",
              "      <td>3511</td>\n",
              "    </tr>\n",
              "    <tr>\n",
              "      <th rowspan=\"2\" valign=\"top\">Tanzania</th>\n",
              "      <th>Female</th>\n",
              "      <td>3732</td>\n",
              "    </tr>\n",
              "    <tr>\n",
              "      <th>Male</th>\n",
              "      <td>2768</td>\n",
              "    </tr>\n",
              "    <tr>\n",
              "      <th rowspan=\"2\" valign=\"top\">Uganda</th>\n",
              "      <th>Female</th>\n",
              "      <td>1382</td>\n",
              "    </tr>\n",
              "    <tr>\n",
              "      <th>Male</th>\n",
              "      <td>713</td>\n",
              "    </tr>\n",
              "  </tbody>\n",
              "</table>\n",
              "</div>"
            ],
            "text/plain": [
              "                               gender_of_respondent\n",
              "country  gender_of_respondent                      \n",
              "Kenya    Female                                3480\n",
              "         Male                                  2584\n",
              "Rwanda   Female                                5173\n",
              "         Male                                  3511\n",
              "Tanzania Female                                3732\n",
              "         Male                                  2768\n",
              "Uganda   Female                                1382\n",
              "         Male                                   713"
            ]
          },
          "metadata": {
            "tags": []
          },
          "execution_count": 96
        }
      ]
    },
    {
      "cell_type": "markdown",
      "metadata": {
        "id": "rl6yKBQvu16J",
        "colab_type": "text"
      },
      "source": [
        "####  By Level of Education of Respondents"
      ]
    },
    {
      "cell_type": "code",
      "metadata": {
        "id": "njhypI-Aq8xc",
        "colab_type": "code",
        "outputId": "b6b0c6ac-31d8-4027-928e-1cc3ff3ff7d9",
        "colab": {
          "base_uri": "https://localhost:8080/",
          "height": 815
        }
      },
      "source": [
        "# Determining the level of education of the respondents in each country\n",
        "\n",
        "loe_df = pd.DataFrame(fin_df, columns = ['country', 'level_of_educuation']) # Creating a slice of the dataframe containing the country and level of education columns\n",
        "\n",
        "loe_df = pd.DataFrame(loe_df.groupby('country')['level_of_educuation'].value_counts())\n",
        "\n",
        "loe_df"
      ],
      "execution_count": 97,
      "outputs": [
        {
          "output_type": "execute_result",
          "data": {
            "text/html": [
              "<div>\n",
              "<style scoped>\n",
              "    .dataframe tbody tr th:only-of-type {\n",
              "        vertical-align: middle;\n",
              "    }\n",
              "\n",
              "    .dataframe tbody tr th {\n",
              "        vertical-align: top;\n",
              "    }\n",
              "\n",
              "    .dataframe thead th {\n",
              "        text-align: right;\n",
              "    }\n",
              "</style>\n",
              "<table border=\"1\" class=\"dataframe\">\n",
              "  <thead>\n",
              "    <tr style=\"text-align: right;\">\n",
              "      <th></th>\n",
              "      <th></th>\n",
              "      <th>level_of_educuation</th>\n",
              "    </tr>\n",
              "    <tr>\n",
              "      <th>country</th>\n",
              "      <th>level_of_educuation</th>\n",
              "      <th></th>\n",
              "    </tr>\n",
              "  </thead>\n",
              "  <tbody>\n",
              "    <tr>\n",
              "      <th rowspan=\"6\" valign=\"top\">Kenya</th>\n",
              "      <th>Primary education</th>\n",
              "      <td>2596</td>\n",
              "    </tr>\n",
              "    <tr>\n",
              "      <th>Secondary education</th>\n",
              "      <td>1785</td>\n",
              "    </tr>\n",
              "    <tr>\n",
              "      <th>No formal education</th>\n",
              "      <td>941</td>\n",
              "    </tr>\n",
              "    <tr>\n",
              "      <th>Vocational/Specialised training</th>\n",
              "      <td>442</td>\n",
              "    </tr>\n",
              "    <tr>\n",
              "      <th>Tertiary education</th>\n",
              "      <td>292</td>\n",
              "    </tr>\n",
              "    <tr>\n",
              "      <th>Other/Dont know/RTA</th>\n",
              "      <td>8</td>\n",
              "    </tr>\n",
              "    <tr>\n",
              "      <th rowspan=\"6\" valign=\"top\">Rwanda</th>\n",
              "      <th>Primary education</th>\n",
              "      <td>4809</td>\n",
              "    </tr>\n",
              "    <tr>\n",
              "      <th>No formal education</th>\n",
              "      <td>2105</td>\n",
              "    </tr>\n",
              "    <tr>\n",
              "      <th>Secondary education</th>\n",
              "      <td>1485</td>\n",
              "    </tr>\n",
              "    <tr>\n",
              "      <th>Tertiary education</th>\n",
              "      <td>176</td>\n",
              "    </tr>\n",
              "    <tr>\n",
              "      <th>Vocational/Specialised training</th>\n",
              "      <td>91</td>\n",
              "    </tr>\n",
              "    <tr>\n",
              "      <th>6</th>\n",
              "      <td>18</td>\n",
              "    </tr>\n",
              "    <tr>\n",
              "      <th rowspan=\"6\" valign=\"top\">Tanzania</th>\n",
              "      <th>Primary education</th>\n",
              "      <td>4158</td>\n",
              "    </tr>\n",
              "    <tr>\n",
              "      <th>No formal education</th>\n",
              "      <td>1102</td>\n",
              "    </tr>\n",
              "    <tr>\n",
              "      <th>Tertiary education</th>\n",
              "      <td>644</td>\n",
              "    </tr>\n",
              "    <tr>\n",
              "      <th>Secondary education</th>\n",
              "      <td>424</td>\n",
              "    </tr>\n",
              "    <tr>\n",
              "      <th>Vocational/Specialised training</th>\n",
              "      <td>169</td>\n",
              "    </tr>\n",
              "    <tr>\n",
              "      <th>6</th>\n",
              "      <td>3</td>\n",
              "    </tr>\n",
              "    <tr>\n",
              "      <th rowspan=\"6\" valign=\"top\">Uganda</th>\n",
              "      <th>Primary education</th>\n",
              "      <td>1126</td>\n",
              "    </tr>\n",
              "    <tr>\n",
              "      <th>Secondary education</th>\n",
              "      <td>513</td>\n",
              "    </tr>\n",
              "    <tr>\n",
              "      <th>No formal education</th>\n",
              "      <td>319</td>\n",
              "    </tr>\n",
              "    <tr>\n",
              "      <th>Vocational/Specialised training</th>\n",
              "      <td>99</td>\n",
              "    </tr>\n",
              "    <tr>\n",
              "      <th>Tertiary education</th>\n",
              "      <td>32</td>\n",
              "    </tr>\n",
              "    <tr>\n",
              "      <th>6</th>\n",
              "      <td>6</td>\n",
              "    </tr>\n",
              "  </tbody>\n",
              "</table>\n",
              "</div>"
            ],
            "text/plain": [
              "                                          level_of_educuation\n",
              "country  level_of_educuation                                 \n",
              "Kenya    Primary education                               2596\n",
              "         Secondary education                             1785\n",
              "         No formal education                              941\n",
              "         Vocational/Specialised training                  442\n",
              "         Tertiary education                               292\n",
              "         Other/Dont know/RTA                                8\n",
              "Rwanda   Primary education                               4809\n",
              "         No formal education                             2105\n",
              "         Secondary education                             1485\n",
              "         Tertiary education                               176\n",
              "         Vocational/Specialised training                   91\n",
              "         6                                                 18\n",
              "Tanzania Primary education                               4158\n",
              "         No formal education                             1102\n",
              "         Tertiary education                               644\n",
              "         Secondary education                              424\n",
              "         Vocational/Specialised training                  169\n",
              "         6                                                  3\n",
              "Uganda   Primary education                               1126\n",
              "         Secondary education                              513\n",
              "         No formal education                              319\n",
              "         Vocational/Specialised training                   99\n",
              "         Tertiary education                                32\n",
              "         6                                                  6"
            ]
          },
          "metadata": {
            "tags": []
          },
          "execution_count": 97
        }
      ]
    },
    {
      "cell_type": "code",
      "metadata": {
        "id": "rikOVcnvtdMN",
        "colab_type": "code",
        "outputId": "95869666-84c1-4832-f6c7-980a62993a8c",
        "colab": {
          "base_uri": "https://localhost:8080/",
          "height": 785
        }
      },
      "source": [
        "# Determining the level of education of the respondents with a bank account in each country\n",
        "\n",
        "y_loe_df = pd.DataFrame(fin_df[fin_df.has_a_bank_account == 'Yes'], columns = ['country', 'level_of_educuation']) # Creating a slice of the dataframe containing the country and level of education columns\n",
        "\n",
        "y_loe_df = pd.DataFrame(y_loe_df.groupby('country')['level_of_educuation'].value_counts())\n",
        "\n",
        "y_loe_df"
      ],
      "execution_count": 98,
      "outputs": [
        {
          "output_type": "execute_result",
          "data": {
            "text/html": [
              "<div>\n",
              "<style scoped>\n",
              "    .dataframe tbody tr th:only-of-type {\n",
              "        vertical-align: middle;\n",
              "    }\n",
              "\n",
              "    .dataframe tbody tr th {\n",
              "        vertical-align: top;\n",
              "    }\n",
              "\n",
              "    .dataframe thead th {\n",
              "        text-align: right;\n",
              "    }\n",
              "</style>\n",
              "<table border=\"1\" class=\"dataframe\">\n",
              "  <thead>\n",
              "    <tr style=\"text-align: right;\">\n",
              "      <th></th>\n",
              "      <th></th>\n",
              "      <th>level_of_educuation</th>\n",
              "    </tr>\n",
              "    <tr>\n",
              "      <th>country</th>\n",
              "      <th>level_of_educuation</th>\n",
              "      <th></th>\n",
              "    </tr>\n",
              "  </thead>\n",
              "  <tbody>\n",
              "    <tr>\n",
              "      <th rowspan=\"6\" valign=\"top\">Kenya</th>\n",
              "      <th>Secondary education</th>\n",
              "      <td>548</td>\n",
              "    </tr>\n",
              "    <tr>\n",
              "      <th>Primary education</th>\n",
              "      <td>402</td>\n",
              "    </tr>\n",
              "    <tr>\n",
              "      <th>Vocational/Specialised training</th>\n",
              "      <td>265</td>\n",
              "    </tr>\n",
              "    <tr>\n",
              "      <th>Tertiary education</th>\n",
              "      <td>218</td>\n",
              "    </tr>\n",
              "    <tr>\n",
              "      <th>No formal education</th>\n",
              "      <td>81</td>\n",
              "    </tr>\n",
              "    <tr>\n",
              "      <th>Other/Dont know/RTA</th>\n",
              "      <td>6</td>\n",
              "    </tr>\n",
              "    <tr>\n",
              "      <th rowspan=\"6\" valign=\"top\">Rwanda</th>\n",
              "      <th>Primary education</th>\n",
              "      <td>430</td>\n",
              "    </tr>\n",
              "    <tr>\n",
              "      <th>Secondary education</th>\n",
              "      <td>331</td>\n",
              "    </tr>\n",
              "    <tr>\n",
              "      <th>Tertiary education</th>\n",
              "      <td>135</td>\n",
              "    </tr>\n",
              "    <tr>\n",
              "      <th>No formal education</th>\n",
              "      <td>76</td>\n",
              "    </tr>\n",
              "    <tr>\n",
              "      <th>Vocational/Specialised training</th>\n",
              "      <td>21</td>\n",
              "    </tr>\n",
              "    <tr>\n",
              "      <th>6</th>\n",
              "      <td>4</td>\n",
              "    </tr>\n",
              "    <tr>\n",
              "      <th rowspan=\"6\" valign=\"top\">Tanzania</th>\n",
              "      <th>Primary education</th>\n",
              "      <td>213</td>\n",
              "    </tr>\n",
              "    <tr>\n",
              "      <th>Tertiary education</th>\n",
              "      <td>212</td>\n",
              "    </tr>\n",
              "    <tr>\n",
              "      <th>Vocational/Specialised training</th>\n",
              "      <td>123</td>\n",
              "    </tr>\n",
              "    <tr>\n",
              "      <th>Secondary education</th>\n",
              "      <td>35</td>\n",
              "    </tr>\n",
              "    <tr>\n",
              "      <th>No formal education</th>\n",
              "      <td>15</td>\n",
              "    </tr>\n",
              "    <tr>\n",
              "      <th>6</th>\n",
              "      <td>1</td>\n",
              "    </tr>\n",
              "    <tr>\n",
              "      <th rowspan=\"5\" valign=\"top\">Uganda</th>\n",
              "      <th>Secondary education</th>\n",
              "      <td>67</td>\n",
              "    </tr>\n",
              "    <tr>\n",
              "      <th>Vocational/Specialised training</th>\n",
              "      <td>47</td>\n",
              "    </tr>\n",
              "    <tr>\n",
              "      <th>Primary education</th>\n",
              "      <td>38</td>\n",
              "    </tr>\n",
              "    <tr>\n",
              "      <th>Tertiary education</th>\n",
              "      <td>25</td>\n",
              "    </tr>\n",
              "    <tr>\n",
              "      <th>No formal education</th>\n",
              "      <td>4</td>\n",
              "    </tr>\n",
              "  </tbody>\n",
              "</table>\n",
              "</div>"
            ],
            "text/plain": [
              "                                          level_of_educuation\n",
              "country  level_of_educuation                                 \n",
              "Kenya    Secondary education                              548\n",
              "         Primary education                                402\n",
              "         Vocational/Specialised training                  265\n",
              "         Tertiary education                               218\n",
              "         No formal education                               81\n",
              "         Other/Dont know/RTA                                6\n",
              "Rwanda   Primary education                                430\n",
              "         Secondary education                              331\n",
              "         Tertiary education                               135\n",
              "         No formal education                               76\n",
              "         Vocational/Specialised training                   21\n",
              "         6                                                  4\n",
              "Tanzania Primary education                                213\n",
              "         Tertiary education                               212\n",
              "         Vocational/Specialised training                  123\n",
              "         Secondary education                               35\n",
              "         No formal education                               15\n",
              "         6                                                  1\n",
              "Uganda   Secondary education                               67\n",
              "         Vocational/Specialised training                   47\n",
              "         Primary education                                 38\n",
              "         Tertiary education                                25\n",
              "         No formal education                                4"
            ]
          },
          "metadata": {
            "tags": []
          },
          "execution_count": 98
        }
      ]
    },
    {
      "cell_type": "code",
      "metadata": {
        "id": "xOcRO3J4tvkg",
        "colab_type": "code",
        "outputId": "4d94def2-bebe-4468-da31-80fe98b53986",
        "colab": {
          "base_uri": "https://localhost:8080/",
          "height": 815
        }
      },
      "source": [
        "# Determining the level of education of the respondents without a bank account in each country\n",
        "\n",
        "n_loe_df = pd.DataFrame(fin_df[fin_df.has_a_bank_account == 'No'], columns = ['country', 'level_of_educuation']) # Creating a slice of the dataframe containing the country and level of education columns\n",
        "\n",
        "n_loe_df = pd.DataFrame(n_loe_df.groupby('country')['level_of_educuation'].value_counts())\n",
        "\n",
        "n_loe_df"
      ],
      "execution_count": 99,
      "outputs": [
        {
          "output_type": "execute_result",
          "data": {
            "text/html": [
              "<div>\n",
              "<style scoped>\n",
              "    .dataframe tbody tr th:only-of-type {\n",
              "        vertical-align: middle;\n",
              "    }\n",
              "\n",
              "    .dataframe tbody tr th {\n",
              "        vertical-align: top;\n",
              "    }\n",
              "\n",
              "    .dataframe thead th {\n",
              "        text-align: right;\n",
              "    }\n",
              "</style>\n",
              "<table border=\"1\" class=\"dataframe\">\n",
              "  <thead>\n",
              "    <tr style=\"text-align: right;\">\n",
              "      <th></th>\n",
              "      <th></th>\n",
              "      <th>level_of_educuation</th>\n",
              "    </tr>\n",
              "    <tr>\n",
              "      <th>country</th>\n",
              "      <th>level_of_educuation</th>\n",
              "      <th></th>\n",
              "    </tr>\n",
              "  </thead>\n",
              "  <tbody>\n",
              "    <tr>\n",
              "      <th rowspan=\"6\" valign=\"top\">Kenya</th>\n",
              "      <th>Primary education</th>\n",
              "      <td>2194</td>\n",
              "    </tr>\n",
              "    <tr>\n",
              "      <th>Secondary education</th>\n",
              "      <td>1237</td>\n",
              "    </tr>\n",
              "    <tr>\n",
              "      <th>No formal education</th>\n",
              "      <td>860</td>\n",
              "    </tr>\n",
              "    <tr>\n",
              "      <th>Vocational/Specialised training</th>\n",
              "      <td>177</td>\n",
              "    </tr>\n",
              "    <tr>\n",
              "      <th>Tertiary education</th>\n",
              "      <td>74</td>\n",
              "    </tr>\n",
              "    <tr>\n",
              "      <th>Other/Dont know/RTA</th>\n",
              "      <td>2</td>\n",
              "    </tr>\n",
              "    <tr>\n",
              "      <th rowspan=\"6\" valign=\"top\">Rwanda</th>\n",
              "      <th>Primary education</th>\n",
              "      <td>4379</td>\n",
              "    </tr>\n",
              "    <tr>\n",
              "      <th>No formal education</th>\n",
              "      <td>2029</td>\n",
              "    </tr>\n",
              "    <tr>\n",
              "      <th>Secondary education</th>\n",
              "      <td>1154</td>\n",
              "    </tr>\n",
              "    <tr>\n",
              "      <th>Vocational/Specialised training</th>\n",
              "      <td>70</td>\n",
              "    </tr>\n",
              "    <tr>\n",
              "      <th>Tertiary education</th>\n",
              "      <td>41</td>\n",
              "    </tr>\n",
              "    <tr>\n",
              "      <th>6</th>\n",
              "      <td>14</td>\n",
              "    </tr>\n",
              "    <tr>\n",
              "      <th rowspan=\"6\" valign=\"top\">Tanzania</th>\n",
              "      <th>Primary education</th>\n",
              "      <td>3945</td>\n",
              "    </tr>\n",
              "    <tr>\n",
              "      <th>No formal education</th>\n",
              "      <td>1087</td>\n",
              "    </tr>\n",
              "    <tr>\n",
              "      <th>Tertiary education</th>\n",
              "      <td>432</td>\n",
              "    </tr>\n",
              "    <tr>\n",
              "      <th>Secondary education</th>\n",
              "      <td>389</td>\n",
              "    </tr>\n",
              "    <tr>\n",
              "      <th>Vocational/Specialised training</th>\n",
              "      <td>46</td>\n",
              "    </tr>\n",
              "    <tr>\n",
              "      <th>6</th>\n",
              "      <td>2</td>\n",
              "    </tr>\n",
              "    <tr>\n",
              "      <th rowspan=\"6\" valign=\"top\">Uganda</th>\n",
              "      <th>Primary education</th>\n",
              "      <td>1088</td>\n",
              "    </tr>\n",
              "    <tr>\n",
              "      <th>Secondary education</th>\n",
              "      <td>446</td>\n",
              "    </tr>\n",
              "    <tr>\n",
              "      <th>No formal education</th>\n",
              "      <td>315</td>\n",
              "    </tr>\n",
              "    <tr>\n",
              "      <th>Vocational/Specialised training</th>\n",
              "      <td>52</td>\n",
              "    </tr>\n",
              "    <tr>\n",
              "      <th>Tertiary education</th>\n",
              "      <td>7</td>\n",
              "    </tr>\n",
              "    <tr>\n",
              "      <th>6</th>\n",
              "      <td>6</td>\n",
              "    </tr>\n",
              "  </tbody>\n",
              "</table>\n",
              "</div>"
            ],
            "text/plain": [
              "                                          level_of_educuation\n",
              "country  level_of_educuation                                 \n",
              "Kenya    Primary education                               2194\n",
              "         Secondary education                             1237\n",
              "         No formal education                              860\n",
              "         Vocational/Specialised training                  177\n",
              "         Tertiary education                                74\n",
              "         Other/Dont know/RTA                                2\n",
              "Rwanda   Primary education                               4379\n",
              "         No formal education                             2029\n",
              "         Secondary education                             1154\n",
              "         Vocational/Specialised training                   70\n",
              "         Tertiary education                                41\n",
              "         6                                                 14\n",
              "Tanzania Primary education                               3945\n",
              "         No formal education                             1087\n",
              "         Tertiary education                               432\n",
              "         Secondary education                              389\n",
              "         Vocational/Specialised training                   46\n",
              "         6                                                  2\n",
              "Uganda   Primary education                               1088\n",
              "         Secondary education                              446\n",
              "         No formal education                              315\n",
              "         Vocational/Specialised training                   52\n",
              "         Tertiary education                                 7\n",
              "         6                                                  6"
            ]
          },
          "metadata": {
            "tags": []
          },
          "execution_count": 99
        }
      ]
    },
    {
      "cell_type": "markdown",
      "metadata": {
        "id": "eDBDGmwfvQNE",
        "colab_type": "text"
      },
      "source": [
        "#### By Type of Job of the Respondents\n"
      ]
    },
    {
      "cell_type": "code",
      "metadata": {
        "id": "MOEqJRnYvYSZ",
        "colab_type": "code",
        "outputId": "ea186c25-f13c-4b2e-edd9-792993a183bf",
        "colab": {
          "base_uri": "https://localhost:8080/",
          "height": 1000
        }
      },
      "source": [
        "# Determining the type of jobs of the respondents in each country\n",
        "\n",
        "job = pd.DataFrame(fin_df, columns = ['country', 'type_of_job']) # Creating a slice of the dataframe containing the country and type of job columns\n",
        "\n",
        "job = pd.DataFrame(job.groupby('country')['type_of_job'].value_counts())\n",
        "\n",
        "job"
      ],
      "execution_count": 100,
      "outputs": [
        {
          "output_type": "execute_result",
          "data": {
            "text/html": [
              "<div>\n",
              "<style scoped>\n",
              "    .dataframe tbody tr th:only-of-type {\n",
              "        vertical-align: middle;\n",
              "    }\n",
              "\n",
              "    .dataframe tbody tr th {\n",
              "        vertical-align: top;\n",
              "    }\n",
              "\n",
              "    .dataframe thead th {\n",
              "        text-align: right;\n",
              "    }\n",
              "</style>\n",
              "<table border=\"1\" class=\"dataframe\">\n",
              "  <thead>\n",
              "    <tr style=\"text-align: right;\">\n",
              "      <th></th>\n",
              "      <th></th>\n",
              "      <th>type_of_job</th>\n",
              "    </tr>\n",
              "    <tr>\n",
              "      <th>country</th>\n",
              "      <th>type_of_job</th>\n",
              "      <th></th>\n",
              "    </tr>\n",
              "  </thead>\n",
              "  <tbody>\n",
              "    <tr>\n",
              "      <th rowspan=\"9\" valign=\"top\">Kenya</th>\n",
              "      <th>Farming and Fishing</th>\n",
              "      <td>1606</td>\n",
              "    </tr>\n",
              "    <tr>\n",
              "      <th>Informally employed</th>\n",
              "      <td>1419</td>\n",
              "    </tr>\n",
              "    <tr>\n",
              "      <th>Remittance Dependent</th>\n",
              "      <td>1188</td>\n",
              "    </tr>\n",
              "    <tr>\n",
              "      <th>Self employed</th>\n",
              "      <td>954</td>\n",
              "    </tr>\n",
              "    <tr>\n",
              "      <th>Formally employed Private</th>\n",
              "      <td>416</td>\n",
              "    </tr>\n",
              "    <tr>\n",
              "      <th>Formally employed Government</th>\n",
              "      <td>259</td>\n",
              "    </tr>\n",
              "    <tr>\n",
              "      <th>Other Income</th>\n",
              "      <td>154</td>\n",
              "    </tr>\n",
              "    <tr>\n",
              "      <th>Government Dependent</th>\n",
              "      <td>65</td>\n",
              "    </tr>\n",
              "    <tr>\n",
              "      <th>Dont Know/Refuse to answer</th>\n",
              "      <td>3</td>\n",
              "    </tr>\n",
              "    <tr>\n",
              "      <th rowspan=\"9\" valign=\"top\">Rwanda</th>\n",
              "      <th>Farming and Fishing</th>\n",
              "      <td>3816</td>\n",
              "    </tr>\n",
              "    <tr>\n",
              "      <th>Informally employed</th>\n",
              "      <td>2854</td>\n",
              "    </tr>\n",
              "    <tr>\n",
              "      <th>Remittance Dependent</th>\n",
              "      <td>657</td>\n",
              "    </tr>\n",
              "    <tr>\n",
              "      <th>Self employed</th>\n",
              "      <td>600</td>\n",
              "    </tr>\n",
              "    <tr>\n",
              "      <th>Other Income</th>\n",
              "      <td>323</td>\n",
              "    </tr>\n",
              "    <tr>\n",
              "      <th>Formally employed Private</th>\n",
              "      <td>161</td>\n",
              "    </tr>\n",
              "    <tr>\n",
              "      <th>Formally employed Government</th>\n",
              "      <td>127</td>\n",
              "    </tr>\n",
              "    <tr>\n",
              "      <th>Government Dependent</th>\n",
              "      <td>91</td>\n",
              "    </tr>\n",
              "    <tr>\n",
              "      <th>Dont Know/Refuse to answer</th>\n",
              "      <td>55</td>\n",
              "    </tr>\n",
              "    <tr>\n",
              "      <th rowspan=\"7\" valign=\"top\">Tanzania</th>\n",
              "      <th>Self employed</th>\n",
              "      <td>3705</td>\n",
              "    </tr>\n",
              "    <tr>\n",
              "      <th>Informally employed</th>\n",
              "      <td>1277</td>\n",
              "    </tr>\n",
              "    <tr>\n",
              "      <th>Remittance Dependent</th>\n",
              "      <td>664</td>\n",
              "    </tr>\n",
              "    <tr>\n",
              "      <th>No Income</th>\n",
              "      <td>373</td>\n",
              "    </tr>\n",
              "    <tr>\n",
              "      <th>Formally employed Private</th>\n",
              "      <td>363</td>\n",
              "    </tr>\n",
              "    <tr>\n",
              "      <th>Government Dependent</th>\n",
              "      <td>84</td>\n",
              "    </tr>\n",
              "    <tr>\n",
              "      <th>Other Income</th>\n",
              "      <td>34</td>\n",
              "    </tr>\n",
              "    <tr>\n",
              "      <th rowspan=\"6\" valign=\"top\">Uganda</th>\n",
              "      <th>Self employed</th>\n",
              "      <td>1102</td>\n",
              "    </tr>\n",
              "    <tr>\n",
              "      <th>Other Income</th>\n",
              "      <td>566</td>\n",
              "    </tr>\n",
              "    <tr>\n",
              "      <th>No Income</th>\n",
              "      <td>245</td>\n",
              "    </tr>\n",
              "    <tr>\n",
              "      <th>Formally employed Private</th>\n",
              "      <td>108</td>\n",
              "    </tr>\n",
              "    <tr>\n",
              "      <th>Dont Know/Refuse to answer</th>\n",
              "      <td>67</td>\n",
              "    </tr>\n",
              "    <tr>\n",
              "      <th>Government Dependent</th>\n",
              "      <td>7</td>\n",
              "    </tr>\n",
              "  </tbody>\n",
              "</table>\n",
              "</div>"
            ],
            "text/plain": [
              "                                       type_of_job\n",
              "country  type_of_job                              \n",
              "Kenya    Farming and Fishing                  1606\n",
              "         Informally employed                  1419\n",
              "         Remittance Dependent                 1188\n",
              "         Self employed                         954\n",
              "         Formally employed Private             416\n",
              "         Formally employed Government          259\n",
              "         Other Income                          154\n",
              "         Government Dependent                   65\n",
              "         Dont Know/Refuse to answer              3\n",
              "Rwanda   Farming and Fishing                  3816\n",
              "         Informally employed                  2854\n",
              "         Remittance Dependent                  657\n",
              "         Self employed                         600\n",
              "         Other Income                          323\n",
              "         Formally employed Private             161\n",
              "         Formally employed Government          127\n",
              "         Government Dependent                   91\n",
              "         Dont Know/Refuse to answer             55\n",
              "Tanzania Self employed                        3705\n",
              "         Informally employed                  1277\n",
              "         Remittance Dependent                  664\n",
              "         No Income                             373\n",
              "         Formally employed Private             363\n",
              "         Government Dependent                   84\n",
              "         Other Income                           34\n",
              "Uganda   Self employed                        1102\n",
              "         Other Income                          566\n",
              "         No Income                             245\n",
              "         Formally employed Private             108\n",
              "         Dont Know/Refuse to answer             67\n",
              "         Government Dependent                    7"
            ]
          },
          "metadata": {
            "tags": []
          },
          "execution_count": 100
        }
      ]
    },
    {
      "cell_type": "code",
      "metadata": {
        "id": "thvenMdLwDb5",
        "colab_type": "code",
        "outputId": "37f36af1-28e4-4930-8937-74b1f75aa75f",
        "colab": {
          "base_uri": "https://localhost:8080/",
          "height": 1000
        }
      },
      "source": [
        "# Determining the type of jobs of the respondents with bank accounts in each country\n",
        "\n",
        "job_yes = pd.DataFrame(fin_df[fin_df.has_a_bank_account == 'Yes'], columns = ['country', 'type_of_job']) # Creating a slice of the dataframe containing the country and type of job columns\n",
        "\n",
        "job_yes = pd.DataFrame(job_yes.groupby('country')['type_of_job'].value_counts())\n",
        "\n",
        "job_yes"
      ],
      "execution_count": 101,
      "outputs": [
        {
          "output_type": "execute_result",
          "data": {
            "text/html": [
              "<div>\n",
              "<style scoped>\n",
              "    .dataframe tbody tr th:only-of-type {\n",
              "        vertical-align: middle;\n",
              "    }\n",
              "\n",
              "    .dataframe tbody tr th {\n",
              "        vertical-align: top;\n",
              "    }\n",
              "\n",
              "    .dataframe thead th {\n",
              "        text-align: right;\n",
              "    }\n",
              "</style>\n",
              "<table border=\"1\" class=\"dataframe\">\n",
              "  <thead>\n",
              "    <tr style=\"text-align: right;\">\n",
              "      <th></th>\n",
              "      <th></th>\n",
              "      <th>type_of_job</th>\n",
              "    </tr>\n",
              "    <tr>\n",
              "      <th>country</th>\n",
              "      <th>type_of_job</th>\n",
              "      <th></th>\n",
              "    </tr>\n",
              "  </thead>\n",
              "  <tbody>\n",
              "    <tr>\n",
              "      <th rowspan=\"9\" valign=\"top\">Kenya</th>\n",
              "      <th>Self employed</th>\n",
              "      <td>364</td>\n",
              "    </tr>\n",
              "    <tr>\n",
              "      <th>Farming and Fishing</th>\n",
              "      <td>310</td>\n",
              "    </tr>\n",
              "    <tr>\n",
              "      <th>Formally employed Private</th>\n",
              "      <td>225</td>\n",
              "    </tr>\n",
              "    <tr>\n",
              "      <th>Formally employed Government</th>\n",
              "      <td>215</td>\n",
              "    </tr>\n",
              "    <tr>\n",
              "      <th>Informally employed</th>\n",
              "      <td>186</td>\n",
              "    </tr>\n",
              "    <tr>\n",
              "      <th>Remittance Dependent</th>\n",
              "      <td>137</td>\n",
              "    </tr>\n",
              "    <tr>\n",
              "      <th>Other Income</th>\n",
              "      <td>63</td>\n",
              "    </tr>\n",
              "    <tr>\n",
              "      <th>Government Dependent</th>\n",
              "      <td>19</td>\n",
              "    </tr>\n",
              "    <tr>\n",
              "      <th>Dont Know/Refuse to answer</th>\n",
              "      <td>1</td>\n",
              "    </tr>\n",
              "    <tr>\n",
              "      <th rowspan=\"9\" valign=\"top\">Rwanda</th>\n",
              "      <th>Farming and Fishing</th>\n",
              "      <td>324</td>\n",
              "    </tr>\n",
              "    <tr>\n",
              "      <th>Informally employed</th>\n",
              "      <td>189</td>\n",
              "    </tr>\n",
              "    <tr>\n",
              "      <th>Self employed</th>\n",
              "      <td>180</td>\n",
              "    </tr>\n",
              "    <tr>\n",
              "      <th>Formally employed Government</th>\n",
              "      <td>84</td>\n",
              "    </tr>\n",
              "    <tr>\n",
              "      <th>Other Income</th>\n",
              "      <td>82</td>\n",
              "    </tr>\n",
              "    <tr>\n",
              "      <th>Remittance Dependent</th>\n",
              "      <td>69</td>\n",
              "    </tr>\n",
              "    <tr>\n",
              "      <th>Formally employed Private</th>\n",
              "      <td>56</td>\n",
              "    </tr>\n",
              "    <tr>\n",
              "      <th>Dont Know/Refuse to answer</th>\n",
              "      <td>8</td>\n",
              "    </tr>\n",
              "    <tr>\n",
              "      <th>Government Dependent</th>\n",
              "      <td>5</td>\n",
              "    </tr>\n",
              "    <tr>\n",
              "      <th rowspan=\"7\" valign=\"top\">Tanzania</th>\n",
              "      <th>Formally employed Private</th>\n",
              "      <td>232</td>\n",
              "    </tr>\n",
              "    <tr>\n",
              "      <th>Self employed</th>\n",
              "      <td>232</td>\n",
              "    </tr>\n",
              "    <tr>\n",
              "      <th>Informally employed</th>\n",
              "      <td>65</td>\n",
              "    </tr>\n",
              "    <tr>\n",
              "      <th>Remittance Dependent</th>\n",
              "      <td>34</td>\n",
              "    </tr>\n",
              "    <tr>\n",
              "      <th>Government Dependent</th>\n",
              "      <td>23</td>\n",
              "    </tr>\n",
              "    <tr>\n",
              "      <th>No Income</th>\n",
              "      <td>8</td>\n",
              "    </tr>\n",
              "    <tr>\n",
              "      <th>Other Income</th>\n",
              "      <td>5</td>\n",
              "    </tr>\n",
              "    <tr>\n",
              "      <th rowspan=\"6\" valign=\"top\">Uganda</th>\n",
              "      <th>Self employed</th>\n",
              "      <td>68</td>\n",
              "    </tr>\n",
              "    <tr>\n",
              "      <th>Formally employed Private</th>\n",
              "      <td>54</td>\n",
              "    </tr>\n",
              "    <tr>\n",
              "      <th>Other Income</th>\n",
              "      <td>46</td>\n",
              "    </tr>\n",
              "    <tr>\n",
              "      <th>Dont Know/Refuse to answer</th>\n",
              "      <td>5</td>\n",
              "    </tr>\n",
              "    <tr>\n",
              "      <th>No Income</th>\n",
              "      <td>5</td>\n",
              "    </tr>\n",
              "    <tr>\n",
              "      <th>Government Dependent</th>\n",
              "      <td>3</td>\n",
              "    </tr>\n",
              "  </tbody>\n",
              "</table>\n",
              "</div>"
            ],
            "text/plain": [
              "                                       type_of_job\n",
              "country  type_of_job                              \n",
              "Kenya    Self employed                         364\n",
              "         Farming and Fishing                   310\n",
              "         Formally employed Private             225\n",
              "         Formally employed Government          215\n",
              "         Informally employed                   186\n",
              "         Remittance Dependent                  137\n",
              "         Other Income                           63\n",
              "         Government Dependent                   19\n",
              "         Dont Know/Refuse to answer              1\n",
              "Rwanda   Farming and Fishing                   324\n",
              "         Informally employed                   189\n",
              "         Self employed                         180\n",
              "         Formally employed Government           84\n",
              "         Other Income                           82\n",
              "         Remittance Dependent                   69\n",
              "         Formally employed Private              56\n",
              "         Dont Know/Refuse to answer              8\n",
              "         Government Dependent                    5\n",
              "Tanzania Formally employed Private             232\n",
              "         Self employed                         232\n",
              "         Informally employed                    65\n",
              "         Remittance Dependent                   34\n",
              "         Government Dependent                   23\n",
              "         No Income                               8\n",
              "         Other Income                            5\n",
              "Uganda   Self employed                          68\n",
              "         Formally employed Private              54\n",
              "         Other Income                           46\n",
              "         Dont Know/Refuse to answer              5\n",
              "         No Income                               5\n",
              "         Government Dependent                    3"
            ]
          },
          "metadata": {
            "tags": []
          },
          "execution_count": 101
        }
      ]
    },
    {
      "cell_type": "code",
      "metadata": {
        "id": "KZRcl-aiwIQT",
        "colab_type": "code",
        "outputId": "e1ebe93d-10b0-4b4b-9eb4-e38b9a8b5439",
        "colab": {
          "base_uri": "https://localhost:8080/",
          "height": 1000
        }
      },
      "source": [
        "# Determining the type of jobs of the respondents without bank accounts in each country\n",
        "\n",
        "job_no = pd.DataFrame(fin_df, columns = ['country', 'type_of_job']) # Creating a slice of the dataframe containing the country and type of job columns\n",
        "\n",
        "job_no = pd.DataFrame(job_no.groupby('country')['type_of_job'].value_counts())\n",
        "\n",
        "job_no"
      ],
      "execution_count": 102,
      "outputs": [
        {
          "output_type": "execute_result",
          "data": {
            "text/html": [
              "<div>\n",
              "<style scoped>\n",
              "    .dataframe tbody tr th:only-of-type {\n",
              "        vertical-align: middle;\n",
              "    }\n",
              "\n",
              "    .dataframe tbody tr th {\n",
              "        vertical-align: top;\n",
              "    }\n",
              "\n",
              "    .dataframe thead th {\n",
              "        text-align: right;\n",
              "    }\n",
              "</style>\n",
              "<table border=\"1\" class=\"dataframe\">\n",
              "  <thead>\n",
              "    <tr style=\"text-align: right;\">\n",
              "      <th></th>\n",
              "      <th></th>\n",
              "      <th>type_of_job</th>\n",
              "    </tr>\n",
              "    <tr>\n",
              "      <th>country</th>\n",
              "      <th>type_of_job</th>\n",
              "      <th></th>\n",
              "    </tr>\n",
              "  </thead>\n",
              "  <tbody>\n",
              "    <tr>\n",
              "      <th rowspan=\"9\" valign=\"top\">Kenya</th>\n",
              "      <th>Farming and Fishing</th>\n",
              "      <td>1606</td>\n",
              "    </tr>\n",
              "    <tr>\n",
              "      <th>Informally employed</th>\n",
              "      <td>1419</td>\n",
              "    </tr>\n",
              "    <tr>\n",
              "      <th>Remittance Dependent</th>\n",
              "      <td>1188</td>\n",
              "    </tr>\n",
              "    <tr>\n",
              "      <th>Self employed</th>\n",
              "      <td>954</td>\n",
              "    </tr>\n",
              "    <tr>\n",
              "      <th>Formally employed Private</th>\n",
              "      <td>416</td>\n",
              "    </tr>\n",
              "    <tr>\n",
              "      <th>Formally employed Government</th>\n",
              "      <td>259</td>\n",
              "    </tr>\n",
              "    <tr>\n",
              "      <th>Other Income</th>\n",
              "      <td>154</td>\n",
              "    </tr>\n",
              "    <tr>\n",
              "      <th>Government Dependent</th>\n",
              "      <td>65</td>\n",
              "    </tr>\n",
              "    <tr>\n",
              "      <th>Dont Know/Refuse to answer</th>\n",
              "      <td>3</td>\n",
              "    </tr>\n",
              "    <tr>\n",
              "      <th rowspan=\"9\" valign=\"top\">Rwanda</th>\n",
              "      <th>Farming and Fishing</th>\n",
              "      <td>3816</td>\n",
              "    </tr>\n",
              "    <tr>\n",
              "      <th>Informally employed</th>\n",
              "      <td>2854</td>\n",
              "    </tr>\n",
              "    <tr>\n",
              "      <th>Remittance Dependent</th>\n",
              "      <td>657</td>\n",
              "    </tr>\n",
              "    <tr>\n",
              "      <th>Self employed</th>\n",
              "      <td>600</td>\n",
              "    </tr>\n",
              "    <tr>\n",
              "      <th>Other Income</th>\n",
              "      <td>323</td>\n",
              "    </tr>\n",
              "    <tr>\n",
              "      <th>Formally employed Private</th>\n",
              "      <td>161</td>\n",
              "    </tr>\n",
              "    <tr>\n",
              "      <th>Formally employed Government</th>\n",
              "      <td>127</td>\n",
              "    </tr>\n",
              "    <tr>\n",
              "      <th>Government Dependent</th>\n",
              "      <td>91</td>\n",
              "    </tr>\n",
              "    <tr>\n",
              "      <th>Dont Know/Refuse to answer</th>\n",
              "      <td>55</td>\n",
              "    </tr>\n",
              "    <tr>\n",
              "      <th rowspan=\"7\" valign=\"top\">Tanzania</th>\n",
              "      <th>Self employed</th>\n",
              "      <td>3705</td>\n",
              "    </tr>\n",
              "    <tr>\n",
              "      <th>Informally employed</th>\n",
              "      <td>1277</td>\n",
              "    </tr>\n",
              "    <tr>\n",
              "      <th>Remittance Dependent</th>\n",
              "      <td>664</td>\n",
              "    </tr>\n",
              "    <tr>\n",
              "      <th>No Income</th>\n",
              "      <td>373</td>\n",
              "    </tr>\n",
              "    <tr>\n",
              "      <th>Formally employed Private</th>\n",
              "      <td>363</td>\n",
              "    </tr>\n",
              "    <tr>\n",
              "      <th>Government Dependent</th>\n",
              "      <td>84</td>\n",
              "    </tr>\n",
              "    <tr>\n",
              "      <th>Other Income</th>\n",
              "      <td>34</td>\n",
              "    </tr>\n",
              "    <tr>\n",
              "      <th rowspan=\"6\" valign=\"top\">Uganda</th>\n",
              "      <th>Self employed</th>\n",
              "      <td>1102</td>\n",
              "    </tr>\n",
              "    <tr>\n",
              "      <th>Other Income</th>\n",
              "      <td>566</td>\n",
              "    </tr>\n",
              "    <tr>\n",
              "      <th>No Income</th>\n",
              "      <td>245</td>\n",
              "    </tr>\n",
              "    <tr>\n",
              "      <th>Formally employed Private</th>\n",
              "      <td>108</td>\n",
              "    </tr>\n",
              "    <tr>\n",
              "      <th>Dont Know/Refuse to answer</th>\n",
              "      <td>67</td>\n",
              "    </tr>\n",
              "    <tr>\n",
              "      <th>Government Dependent</th>\n",
              "      <td>7</td>\n",
              "    </tr>\n",
              "  </tbody>\n",
              "</table>\n",
              "</div>"
            ],
            "text/plain": [
              "                                       type_of_job\n",
              "country  type_of_job                              \n",
              "Kenya    Farming and Fishing                  1606\n",
              "         Informally employed                  1419\n",
              "         Remittance Dependent                 1188\n",
              "         Self employed                         954\n",
              "         Formally employed Private             416\n",
              "         Formally employed Government          259\n",
              "         Other Income                          154\n",
              "         Government Dependent                   65\n",
              "         Dont Know/Refuse to answer              3\n",
              "Rwanda   Farming and Fishing                  3816\n",
              "         Informally employed                  2854\n",
              "         Remittance Dependent                  657\n",
              "         Self employed                         600\n",
              "         Other Income                          323\n",
              "         Formally employed Private             161\n",
              "         Formally employed Government          127\n",
              "         Government Dependent                   91\n",
              "         Dont Know/Refuse to answer             55\n",
              "Tanzania Self employed                        3705\n",
              "         Informally employed                  1277\n",
              "         Remittance Dependent                  664\n",
              "         No Income                             373\n",
              "         Formally employed Private             363\n",
              "         Government Dependent                   84\n",
              "         Other Income                           34\n",
              "Uganda   Self employed                        1102\n",
              "         Other Income                          566\n",
              "         No Income                             245\n",
              "         Formally employed Private             108\n",
              "         Dont Know/Refuse to answer             67\n",
              "         Government Dependent                    7"
            ]
          },
          "metadata": {
            "tags": []
          },
          "execution_count": 102
        }
      ]
    },
    {
      "cell_type": "markdown",
      "metadata": {
        "id": "GjV_26llv7t4",
        "colab_type": "text"
      },
      "source": [
        "### Non-Graphical EDA on Numerical Data\n",
        "\n",
        "- Involves calculating the mean, mode and median, variance, IQR  and standard deviation of numerical variables.\n",
        "\n",
        "- Skewness and kurtosis"
      ]
    },
    {
      "cell_type": "code",
      "metadata": {
        "id": "EwIw14kd3Uak",
        "colab_type": "code",
        "outputId": "cac7f67d-a41b-4adf-95ea-f30049270c97",
        "colab": {
          "base_uri": "https://localhost:8080/",
          "height": 294
        }
      },
      "source": [
        "#we will usde the descibe() function to give a summary of the calculated measures\n",
        "#of central tendencies and dispersion\n",
        "\n",
        "fin_df.describe() "
      ],
      "execution_count": 103,
      "outputs": [
        {
          "output_type": "execute_result",
          "data": {
            "text/html": [
              "<div>\n",
              "<style scoped>\n",
              "    .dataframe tbody tr th:only-of-type {\n",
              "        vertical-align: middle;\n",
              "    }\n",
              "\n",
              "    .dataframe tbody tr th {\n",
              "        vertical-align: top;\n",
              "    }\n",
              "\n",
              "    .dataframe thead th {\n",
              "        text-align: right;\n",
              "    }\n",
              "</style>\n",
              "<table border=\"1\" class=\"dataframe\">\n",
              "  <thead>\n",
              "    <tr style=\"text-align: right;\">\n",
              "      <th></th>\n",
              "      <th>year</th>\n",
              "      <th>household_size</th>\n",
              "      <th>respondent_age</th>\n",
              "    </tr>\n",
              "  </thead>\n",
              "  <tbody>\n",
              "    <tr>\n",
              "      <th>count</th>\n",
              "      <td>23343.000000</td>\n",
              "      <td>23343.000000</td>\n",
              "      <td>23343.000000</td>\n",
              "    </tr>\n",
              "    <tr>\n",
              "      <th>mean</th>\n",
              "      <td>2016.980594</td>\n",
              "      <td>3.688643</td>\n",
              "      <td>38.805509</td>\n",
              "    </tr>\n",
              "    <tr>\n",
              "      <th>std</th>\n",
              "      <td>0.901740</td>\n",
              "      <td>2.281184</td>\n",
              "      <td>16.519803</td>\n",
              "    </tr>\n",
              "    <tr>\n",
              "      <th>min</th>\n",
              "      <td>2016.000000</td>\n",
              "      <td>0.000000</td>\n",
              "      <td>16.000000</td>\n",
              "    </tr>\n",
              "    <tr>\n",
              "      <th>25%</th>\n",
              "      <td>2016.000000</td>\n",
              "      <td>2.000000</td>\n",
              "      <td>26.000000</td>\n",
              "    </tr>\n",
              "    <tr>\n",
              "      <th>50%</th>\n",
              "      <td>2017.000000</td>\n",
              "      <td>3.000000</td>\n",
              "      <td>35.000000</td>\n",
              "    </tr>\n",
              "    <tr>\n",
              "      <th>75%</th>\n",
              "      <td>2018.000000</td>\n",
              "      <td>5.000000</td>\n",
              "      <td>49.000000</td>\n",
              "    </tr>\n",
              "    <tr>\n",
              "      <th>max</th>\n",
              "      <td>2056.000000</td>\n",
              "      <td>21.000000</td>\n",
              "      <td>100.000000</td>\n",
              "    </tr>\n",
              "  </tbody>\n",
              "</table>\n",
              "</div>"
            ],
            "text/plain": [
              "               year  household_size  respondent_age\n",
              "count  23343.000000    23343.000000    23343.000000\n",
              "mean    2016.980594        3.688643       38.805509\n",
              "std        0.901740        2.281184       16.519803\n",
              "min     2016.000000        0.000000       16.000000\n",
              "25%     2016.000000        2.000000       26.000000\n",
              "50%     2017.000000        3.000000       35.000000\n",
              "75%     2018.000000        5.000000       49.000000\n",
              "max     2056.000000       21.000000      100.000000"
            ]
          },
          "metadata": {
            "tags": []
          },
          "execution_count": 103
        }
      ]
    },
    {
      "cell_type": "markdown",
      "metadata": {
        "id": "lJRsM4xz41X5",
        "colab_type": "text"
      },
      "source": [
        "###Graphical  Univariate EDA \n",
        "\n"
      ]
    },
    {
      "cell_type": "markdown",
      "metadata": {
        "id": "8GoYnkYm77QF",
        "colab_type": "text"
      },
      "source": [
        "#### By Country"
      ]
    },
    {
      "cell_type": "code",
      "metadata": {
        "id": "8fMp8wUE5MwG",
        "colab_type": "code",
        "outputId": "f2549fd0-8abb-4f0d-c299-3bdbb44ce3f5",
        "colab": {
          "base_uri": "https://localhost:8080/",
          "height": 843
        }
      },
      "source": [
        "# We will now plot pie charts to give graphically show the percentage of respondents sampled in each country.\n",
        "\n",
        "country_records.plot.pie(y = 'country', autopct = '%2.5f%%', startangle = 90)\n",
        "\n",
        "plt.axis('equal')\n",
        "plt.title('Proportion of the Sampled Respondents in Each Country', color = 'black', fontsize = 14)\n",
        "plt.ylabel('country', color = 'black')\n",
        "plt.show()\n",
        "print('\\n')\n",
        "\n",
        "# We also plot a pie chart to show the percentage of the respondents sampled with bank accounts per country.\n",
        "country_yes.plot.pie(y = 'country', autopct = '%2.5f%%', startangle = 90, )\n",
        "\n",
        "plt.axis('equal')\n",
        "plt.title('Proportion of the Sampled Respondents in Each Country With Bank Accounts', color = 'black', fontsize = 14)\n",
        "plt.ylabel('country', color = 'black')\n",
        "plt.show()\n",
        "print('\\n')\n",
        "\n",
        "# The final pie chart is that which shows the proportion of respondents without bank accounts in each country.\n",
        "country_no.plot.pie(y = 'country', autopct = '%2.5f%%', startangle = 90)\n",
        "\n",
        "plt.axis('equal')\n",
        "plt.title('Proportion of the Sampled Respondents in Each Country Without Bank Accounts', color = 'black', fontsize = 14)\n",
        "plt.ylabel('country', color = 'black')\n",
        "plt.show()\n"
      ],
      "execution_count": 104,
      "outputs": [
        {
          "output_type": "display_data",
          "data": {
            "image/png": "[encoded data removed]",
            "text/plain": [
              "<Figure size 432x288 with 1 Axes>"
            ]
          },
          "metadata": {
            "tags": []
          }
        },
        {
          "output_type": "stream",
          "text": [
            "\n",
            "\n"
          ],
          "name": "stdout"
        },
        {
          "output_type": "display_data",
          "data": {
            "image/png": "[encoded data removed]",
            "text/plain": [
              "<Figure size 432x288 with 1 Axes>"
            ]
          },
          "metadata": {
            "tags": []
          }
        },
        {
          "output_type": "stream",
          "text": [
            "\n",
            "\n"
          ],
          "name": "stdout"
        },
        {
          "output_type": "display_data",
          "data": {
            "image/png": "[encoded data removed]",
            "text/plain": [
              "<Figure size 432x288 with 1 Axes>"
            ]
          },
          "metadata": {
            "tags": []
          }
        }
      ]
    },
    {
      "cell_type": "markdown",
      "metadata": {
        "id": "N8sh48RT7-Tc",
        "colab_type": "text"
      },
      "source": [
        "#### By location of Respondents\n",
        "\n",
        "- We will use bar graphs to give a pictorial representation of the number of respondents by location in each country.\n",
        "\n",
        "- We will use the matplotib library for this plotting."
      ]
    },
    {
      "cell_type": "code",
      "metadata": {
        "id": "AYqgc_jl7mfl",
        "colab_type": "code",
        "outputId": "c325ab6e-a2ca-4a10-a9bd-36316ebe3fb0",
        "colab": {
          "base_uri": "https://localhost:8080/",
          "height": 1000
        }
      },
      "source": [
        "# Plotting the bar graphs for the number of respondents by location in each of the countries\n",
        "\n",
        "location.unstack().plot.bar()\n",
        "\n",
        "plt.xlabel('Country', color = 'black', fontsize = 12)\n",
        "plt.ylabel('Number of Respondents', color = 'black', fontsize = 12)\n",
        "plt.title('Bar Graph of the Number of Respondents by Location per Country', color = 'black', fontsize = 14)\n",
        "plt.show()\n",
        "print('\\n')\n",
        "\n",
        "\n",
        "# Plotting a bar graph giving a graphical representation of the number of people by location with bank accounts per country \n",
        "location_yes.unstack().plot.bar()\n",
        "\n",
        "plt.xlabel('Country', color = 'black', fontsize = 12)\n",
        "plt.ylabel('Number of Respondents', color = 'black', fontsize = 12)\n",
        "plt.title('Bar Graph of the Number of Respondents By Location Per Country With Bank Accounts', color = 'black', fontsize = 14)\n",
        "plt.show()\n",
        "print('\\n')\n",
        "\n",
        "# Plotting a bar graph giving a graphical representation of the number of people by location without bank accounts per country \n",
        "location_no.unstack().plot.bar()\n",
        "\n",
        "plt.xlabel('Country', color = 'black', fontsize = 12)\n",
        "plt.ylabel('Number of Respondents', color = 'black', fontsize = 12)\n",
        "plt.title('Bar Graph of the Number of Respondents by Location per Country Without Bank Accounts', color = 'black', fontsize = 14)\n",
        "plt.show()\n",
        "\n",
        "\n"
      ],
      "execution_count": 105,
      "outputs": [
        {
          "output_type": "display_data",
          "data": {
            "image/png": "[encoded data removed]",
            "text/plain": [
              "<Figure size 432x288 with 1 Axes>"
            ]
          },
          "metadata": {
            "tags": []
          }
        },
        {
          "output_type": "stream",
          "text": [
            "\n",
            "\n"
          ],
          "name": "stdout"
        },
        {
          "output_type": "display_data",
          "data": {
            "image/png": "[encoded data removed]",
            "text/plain": [
              "<Figure size 432x288 with 1 Axes>"
            ]
          },
          "metadata": {
            "tags": []
          }
        },
        {
          "output_type": "stream",
          "text": [
            "\n",
            "\n"
          ],
          "name": "stdout"
        },
        {
          "output_type": "display_data",
          "data": {
            "image/png": "[encoded data removed]",
            "text/plain": [
              "<Figure size 432x288 with 1 Axes>"
            ]
          },
          "metadata": {
            "tags": []
          }
        }
      ]
    },
    {
      "cell_type": "markdown",
      "metadata": {
        "id": "m4wypZ63EJsU",
        "colab_type": "text"
      },
      "source": [
        "#### By Gender of Respondents\n",
        "\n",
        "- We will now plot the graphs of the respondents by gender in each country"
      ]
    },
    {
      "cell_type": "code",
      "metadata": {
        "id": "II_pGTGsEzJA",
        "colab_type": "code",
        "outputId": "595cd8fc-619d-40e6-b1c0-b35cf32d21db",
        "colab": {
          "base_uri": "https://localhost:8080/",
          "height": 1000
        }
      },
      "source": [
        "#Plotting a bar graph of the total number of repondents by gender per country\n",
        "\n",
        "gender.unstack().plot.bar()\n",
        "\n",
        "plt.xlabel('Gender', color = 'black', fontsize = 12)\n",
        "plt.ylabel('Number of Respondents', color = 'black', fontsize = 12)\n",
        "plt.title('Bar Graph of the Number of Respondents By Gender Per Country', color = 'black', fontsize = 14)\n",
        "plt.show()\n",
        "print('\\n')\n",
        "\n",
        "#Plotting a bar graph of the total number of repondents by gender per country with bank accounts\n",
        "\n",
        "gender_yes.unstack().plot.bar()\n",
        "\n",
        "plt.xlabel('Gender', color = 'black', fontsize = 12)\n",
        "plt.ylabel('Number of Respondents', color = 'black', fontsize = 12)\n",
        "plt.title('Bar Graph of the Number of Respondents By Gender With Bank Accounts Per Country ', color = 'black', fontsize = 14)\n",
        "plt.show()\n",
        "print('\\n')\n",
        "\n",
        "#Plotting a bar graph of the total number of repondents by gender per country without bank accounts\n",
        "\n",
        "gender_no.unstack().plot.bar()\n",
        "\n",
        "plt.xlabel('Gender', color = 'black', fontsize = 12)\n",
        "plt.ylabel('Number of Respondents', color = 'black', fontsize = 12)\n",
        "plt.title('Bar Graph of the Number of Respondents By Gender Without Bank Accounts Per Country ', color = 'black', fontsize = 14)\n",
        "plt.show()\n"
      ],
      "execution_count": 106,
      "outputs": [
        {
          "output_type": "display_data",
          "data": {
            "image/png": "[encoded data removed]",
            "text/plain": [
              "<Figure size 432x288 with 1 Axes>"
            ]
          },
          "metadata": {
            "tags": []
          }
        },
        {
          "output_type": "stream",
          "text": [
            "\n",
            "\n"
          ],
          "name": "stdout"
        },
        {
          "output_type": "display_data",
          "data": {
            "image/png": "[encoded data removed]",
            "text/plain": [
              "<Figure size 432x288 with 1 Axes>"
            ]
          },
          "metadata": {
            "tags": []
          }
        },
        {
          "output_type": "stream",
          "text": [
            "\n",
            "\n"
          ],
          "name": "stdout"
        },
        {
          "output_type": "display_data",
          "data": {
            "image/png": "[encoded data removed]",
            "text/plain": [
              "<Figure size 432x288 with 1 Axes>"
            ]
          },
          "metadata": {
            "tags": []
          }
        }
      ]
    },
    {
      "cell_type": "markdown",
      "metadata": {
        "id": "Ud3THynSH3ZK",
        "colab_type": "text"
      },
      "source": [
        "#### By Level of Education of Respondents"
      ]
    },
    {
      "cell_type": "code",
      "metadata": {
        "id": "ByH8DMzCH_S_",
        "colab_type": "code",
        "outputId": "dcc19409-4c40-46ed-b5f9-55d5e0dcbaa7",
        "colab": {
          "base_uri": "https://localhost:8080/",
          "height": 1000
        }
      },
      "source": [
        "# Plotting the bar graphs for the number of respondents by location in each of the countries\n",
        "figsize = (30, 12)\n",
        "loe_df.unstack().plot.bar()\n",
        "\n",
        "plt.xlabel('Country', color = 'black', fontsize = 12)\n",
        "plt.ylabel('Number of Respondents', color = 'black', fontsize = 12)\n",
        "plt.title('Bar Graph of the Number of Respondents by Level of Education per Country', color = 'black', fontsize = 14)\n",
        "plt.show()\n",
        "print('\\n')\n",
        "\n",
        "\n",
        "# Plotting a bar graph giving a graphical representation of the number of people by location with bank accounts per country \n",
        "y_loe_df.unstack().plot.bar(legend = 'topright')\n",
        "\n",
        "plt.xlabel('Country', color = 'black', fontsize = 12)\n",
        "plt.ylabel('Number of Respondents', color = 'black', fontsize = 12)\n",
        "plt.title('Bar Graph of the Number of Respondents By Level of Education Per Country With Bank Accounts', color = 'black', fontsize = 14)\n",
        "plt.show()\n",
        "print('\\n')\n",
        "\n",
        "# Plotting a bar graph giving a graphical representation of the number of people by location without bank accounts per country \n",
        "n_loe_df.unstack().plot.bar()\n",
        "\n",
        "plt.xlabel('Country', color = 'black', fontsize = 12)\n",
        "plt.ylabel('Number of Respondents', color = 'black', fontsize = 12)\n",
        "plt.title('Bar Graph of the Number of Respondents by Level of Education per Country Without Bank Accounts', color = 'black', fontsize = 14)\n",
        "plt.show()\n"
      ],
      "execution_count": 107,
      "outputs": [
        {
          "output_type": "display_data",
          "data": {
            "image/png": "[encoded data removed]",
            "text/plain": [
              "<Figure size 432x288 with 1 Axes>"
            ]
          },
          "metadata": {
            "tags": []
          }
        },
        {
          "output_type": "stream",
          "text": [
            "\n",
            "\n"
          ],
          "name": "stdout"
        },
        {
          "output_type": "display_data",
          "data": {
            "image/png": "[encoded data removed]",
            "text/plain": [
              "<Figure size 432x288 with 1 Axes>"
            ]
          },
          "metadata": {
            "tags": []
          }
        },
        {
          "output_type": "stream",
          "text": [
            "\n",
            "\n"
          ],
          "name": "stdout"
        },
        {
          "output_type": "display_data",
          "data": {
            "image/png": "[encoded data removed]",
            "text/plain": [
              "<Figure size 432x288 with 1 Axes>"
            ]
          },
          "metadata": {
            "tags": []
          }
        }
      ]
    },
    {
      "cell_type": "markdown",
      "metadata": {
        "id": "Ic_5fPTwOyGv",
        "colab_type": "text"
      },
      "source": [
        "#### By Type of Job of the Respondents"
      ]
    },
    {
      "cell_type": "code",
      "metadata": {
        "id": "nBKKQUXwO9hh",
        "colab_type": "code",
        "outputId": "c82d003a-abc6-4d08-e6d9-b72e26c24dd6",
        "colab": {
          "base_uri": "https://localhost:8080/",
          "height": 1000
        }
      },
      "source": [
        "# Plotting the bar graphs for the number of respondents by the type of job in each of the countries\n",
        "\n",
        "job.unstack().plot.bar()\n",
        "\n",
        "plt.xlabel('Country', color = 'black', fontsize = 12)\n",
        "plt.ylabel('Number of Respondents', color = 'black', fontsize = 12)\n",
        "plt.title('Bar Graph of the Number of Respondents by Tyoe of Job per Country', color = 'black', fontsize = 14)\n",
        "plt.show()\n",
        "print('\\n')\n",
        "\n",
        "\n",
        "# Plotting a bar graph giving a graphical representation of the number of people by the type of job with bank accounts per country \n",
        "job_yes.unstack().plot.bar()\n",
        "\n",
        "plt.xlabel('Country', color = 'black', fontsize = 12)\n",
        "plt.ylabel('Number of Respondents', color = 'black', fontsize = 12)\n",
        "plt.title('Bar Graph of the Number of Respondents By Type of Job Per Country With Bank Accounts', color = 'black', fontsize = 14)\n",
        "plt.show()\n",
        "print('\\n')\n",
        "\n",
        "# Plotting a bar graph giving a graphical representation of the number of people by the type of job without bank accounts per country \n",
        "job_no.unstack().plot.bar()\n",
        "\n",
        "plt.xlabel('Country', color = 'black', fontsize = 12)\n",
        "plt.ylabel('Number of Respondents', color = 'black', fontsize = 12)\n",
        "plt.title('Bar Graph of the Number of Respondents by Type of Job per Country Without Bank Accounts', color = 'black', fontsize = 14)\n",
        "plt.show()\n"
      ],
      "execution_count": 108,
      "outputs": [
        {
          "output_type": "display_data",
          "data": {
            "image/png": "[encoded data removed]",
            "text/plain": [
              "<Figure size 432x288 with 1 Axes>"
            ]
          },
          "metadata": {
            "tags": []
          }
        },
        {
          "output_type": "stream",
          "text": [
            "\n",
            "\n"
          ],
          "name": "stdout"
        },
        {
          "output_type": "display_data",
          "data": {
            "image/png": "[encoded data removed]",
            "text/plain": [
              "<Figure size 432x288 with 1 Axes>"
            ]
          },
          "metadata": {
            "tags": []
          }
        },
        {
          "output_type": "stream",
          "text": [
            "\n",
            "\n"
          ],
          "name": "stdout"
        },
        {
          "output_type": "display_data",
          "data": {
            "image/png": "[encoded data removed]",
            "text/plain": [
              "<Figure size 432x288 with 1 Axes>"
            ]
          },
          "metadata": {
            "tags": []
          }
        }
      ]
    },
    {
      "cell_type": "markdown",
      "metadata": {
        "id": "0zZsA0I-P4vd",
        "colab_type": "text"
      },
      "source": [
        "#### By Household Size\n",
        "\n",
        "- We use a histogram to determine the type of distibution of the household size column while presenting the information  graphically.\n",
        "\n",
        "- We will use the seaborn library to achieve this."
      ]
    },
    {
      "cell_type": "code",
      "metadata": {
        "id": "WhzmQVtbRF5N",
        "colab_type": "code",
        "outputId": "63f66484-ced5-46c5-e019-b2faeda2761c",
        "colab": {
          "base_uri": "https://localhost:8080/",
          "height": 299
        }
      },
      "source": [
        "# Plotting a seaborn histogram of the household size column of our data\n",
        "\n",
        "sns.distplot(fin_df.household_size, bins = None)\n",
        "\n",
        "plt.xlabel('Size of Household', color = 'black', fontsize =12)\n",
        "plt.ylabel('Number of people', color ='black', fontsize = 12)\n",
        "plt.title('Histogram of the Household Size', color = 'black', fontsize = 14)\n",
        "plt.show()"
      ],
      "execution_count": 109,
      "outputs": [
        {
          "output_type": "display_data",
          "data": {
            "image/png": "[encoded data removed]",
            "text/plain": [
              "<Figure size 432x288 with 1 Axes>"
            ]
          },
          "metadata": {
            "tags": []
          }
        }
      ]
    },
    {
      "cell_type": "markdown",
      "metadata": {
        "id": "2-3XirGNSn84",
        "colab_type": "text"
      },
      "source": [
        "- This data is not normally distributed"
      ]
    },
    {
      "cell_type": "code",
      "metadata": {
        "id": "88Z-9zokSwdo",
        "colab_type": "code",
        "outputId": "10266fd3-41eb-4852-8b0c-e022da0c319d",
        "colab": {
          "base_uri": "https://localhost:8080/",
          "height": 299
        }
      },
      "source": [
        "# Plotting a seaborn histogram of the respondent column of our data\n",
        "\n",
        "\n",
        "sns.distplot(fin_df.respondent_age)\n",
        "\n",
        "plt.xlabel('Age of Respondent', color = 'black', fontsize =12)\n",
        "plt.ylabel('Number of people', color ='black', fontsize = 12)\n",
        "plt.title('Histogram of the Respondent Age', color = 'black', fontsize = 14)\n",
        "plt.show()"
      ],
      "execution_count": 110,
      "outputs": [
        {
          "output_type": "display_data",
          "data": {
            "image/png": "[encoded data removed]",
            "text/plain": [
              "<Figure size 432x288 with 1 Axes>"
            ]
          },
          "metadata": {
            "tags": []
          }
        }
      ]
    },
    {
      "cell_type": "markdown",
      "metadata": {
        "id": "joBfCBGsTxdg",
        "colab_type": "text"
      },
      "source": [
        "- The respondents age is skewed to the right."
      ]
    },
    {
      "cell_type": "markdown",
      "metadata": {
        "id": "UP57fmk1z6Vk",
        "colab_type": "text"
      },
      "source": [
        "## Bivariate EDA\n",
        "\n",
        "- In bivariate exploratory data analysis, we aim to find the relationship between any two variables.\n",
        "- We will use various techniques to examine the correlation of variables.\n",
        "- The following are some of the methods used to to test for correlation:\n",
        "  - Seaborn Pairplots\n",
        "  - Heat Maps\n",
        "  - Pearson Correlation Coefficient\n",
        "\n",
        "#### Disclaimer!\n",
        "Correlation does not imply causation. It does not ascertain a cause and effect relationship."
      ]
    },
    {
      "cell_type": "code",
      "metadata": {
        "id": "luU1BKS8YRVo",
        "colab_type": "code",
        "outputId": "ec47d8d9-783e-4c7d-a759-839cd0a62dad",
        "colab": {
          "base_uri": "https://localhost:8080/",
          "height": 549
        }
      },
      "source": [
        "# Using the seaborn pairplot to investigayte the relationship between variables\n",
        "\n",
        "sns.pairplot(fin_df)\n",
        "plt.title('Pairplot of the Numerical Data')\n",
        "\n",
        "plt.show()"
      ],
      "execution_count": 111,
      "outputs": [
        {
          "output_type": "display_data",
          "data": {
            "image/png": "[encoded data removed]",
            "text/plain": [
              "<Figure size 540x540 with 12 Axes>"
            ]
          },
          "metadata": {
            "tags": []
          }
        }
      ]
    },
    {
      "cell_type": "markdown",
      "metadata": {
        "id": "Sc7JreJ70m-o",
        "colab_type": "text"
      },
      "source": [
        "- From the above plot, we see that there is absolutely no linear correlation between the numerical variables."
      ]
    },
    {
      "cell_type": "code",
      "metadata": {
        "id": "Ahg7vlmZi4KB",
        "colab_type": "code",
        "outputId": "74614e32-1794-4e91-bbe4-6bb43f6a6c72",
        "colab": {
          "base_uri": "https://localhost:8080/",
          "height": 283
        }
      },
      "source": [
        "# We then plot a heatmap to see the degree of correlation if any.\n",
        "\n",
        "# Finding the correlation between variables\n",
        "\n",
        "corr_df = fin_df.corr()\n",
        "\n",
        "#representing the correlation visually on a heatmap, we have:\n",
        "\n",
        "sns.heatmap(corr_df, annot = True)\n",
        "\n",
        "plt.title('Correlation between Different Numerical Data', color = 'black', fontsize = 14)\n",
        "\n",
        "plt.show()\n",
        "\n",
        "\n"
      ],
      "execution_count": 112,
      "outputs": [
        {
          "output_type": "display_data",
          "data": {
            "image/png": "[encoded data removed]",
            "text/plain": [
              "<Figure size 432x288 with 2 Axes>"
            ]
          },
          "metadata": {
            "tags": []
          }
        }
      ]
    },
    {
      "cell_type": "markdown",
      "metadata": {
        "id": "SaXhre_tlTpD",
        "colab_type": "text"
      },
      "source": [
        "- From the map we observe close to zero relation between variables"
      ]
    },
    {
      "cell_type": "markdown",
      "metadata": {
        "id": "Dxnr9aGwljRl",
        "colab_type": "text"
      },
      "source": [
        "##### Pearson Correlation Coefficient\n",
        "\n",
        "- To use the PCC to test for correlation, the following assumptions need to be met:\n",
        "\n",
        "    -  The data should follow a normal distribution\n",
        "    -  The variables ypu use are continuous and numeric\n",
        "    -  The variables are linearly related.\n",
        "    \n",
        "-  From our numerical variables, the data is continuous but not normally distributed nor linearly related. Hence we cannot use the PCC to check for correlation."
      ]
    },
    {
      "cell_type": "markdown",
      "metadata": {
        "id": "0lxjnFR49dsM",
        "colab_type": "text"
      },
      "source": [
        "##Data Cleaning"
      ]
    },
    {
      "cell_type": "markdown",
      "metadata": {
        "id": "h1-9BABko_VQ",
        "colab_type": "text"
      },
      "source": [
        "### Outliers - Identifying and Dealing with Outliers\n",
        "\n",
        "We will use box plots to identify outliers to check for outliers in the columns with numerical entries.\n"
      ]
    },
    {
      "cell_type": "markdown",
      "metadata": {
        "id": "P07ehbNkoyGi",
        "colab_type": "text"
      },
      "source": [
        "#### Year Column"
      ]
    },
    {
      "cell_type": "code",
      "metadata": {
        "id": "2p0kdzuCo2Q9",
        "colab_type": "code",
        "outputId": "21f467f3-5237-4c68-e08c-b135ce6da60c",
        "colab": {
          "base_uri": "https://localhost:8080/",
          "height": 35
        }
      },
      "source": [
        "# Let us identify the unique entries in this column\n",
        "\n",
        "fin_df['year'].unique()"
      ],
      "execution_count": 113,
      "outputs": [
        {
          "output_type": "execute_result",
          "data": {
            "text/plain": [
              "array([2018, 2029, 2056, 2016, 2039, 2017])"
            ]
          },
          "metadata": {
            "tags": []
          },
          "execution_count": 113
        }
      ]
    },
    {
      "cell_type": "markdown",
      "metadata": {
        "id": "zdS8_7XbpOED",
        "colab_type": "text"
      },
      "source": [
        "- We see that the years included are 2016,  2017, 2018 ,2029,  2039, 2056."
      ]
    },
    {
      "cell_type": "code",
      "metadata": {
        "id": "I6HijstEpWIq",
        "colab_type": "code",
        "outputId": "00b48cd4-f824-4786-deda-7571931b876e",
        "colab": {
          "base_uri": "https://localhost:8080/",
          "height": 283
        }
      },
      "source": [
        "# Plotting a boxplot using the seaborn library to get a visual representation of the data\n",
        "\n",
        "sns.boxplot(x = 'year', data = fin_df)\n",
        "plt.show()"
      ],
      "execution_count": 114,
      "outputs": [
        {
          "output_type": "display_data",
          "data": {
            "image/png": "[encoded data removed]",
            "text/plain": [
              "<Figure size 432x288 with 1 Axes>"
            ]
          },
          "metadata": {
            "tags": []
          }
        }
      ]
    },
    {
      "cell_type": "markdown",
      "metadata": {
        "id": "KiTCFPZepwVJ",
        "colab_type": "text"
      },
      "source": [
        "- The boxplot shows that the years 2029, 2039,2056 are clearly outliers and each year contains only one entry."
      ]
    },
    {
      "cell_type": "code",
      "metadata": {
        "id": "M41NztNmpvyd",
        "colab_type": "code",
        "outputId": "fc4c0af9-b7b4-46f3-d78a-0aa2d43a12f4",
        "colab": {
          "base_uri": "https://localhost:8080/",
          "height": 35
        }
      },
      "source": [
        "# Checking to confirm that the records have been deleted\n",
        "fin_df = fin_df[~((fin_df.year == 2029) | (fin_df.year == 2039) | (fin_df.year == 2056 ))]\n",
        "\n",
        "fin_df.year.unique()"
      ],
      "execution_count": 115,
      "outputs": [
        {
          "output_type": "execute_result",
          "data": {
            "text/plain": [
              "array([2018, 2016, 2017])"
            ]
          },
          "metadata": {
            "tags": []
          },
          "execution_count": 115
        }
      ]
    },
    {
      "cell_type": "markdown",
      "metadata": {
        "id": "hQBxxbsRqXeG",
        "colab_type": "text"
      },
      "source": [
        "- The entries with the years that are not in the average range of our study have been deleted. We use the unique() function to confirm that they have been removed."
      ]
    },
    {
      "cell_type": "code",
      "metadata": {
        "id": "QdaYGuJkqefb",
        "colab_type": "code",
        "outputId": "0930b971-0b60-41a7-f0a5-a86268cebc35",
        "colab": {
          "base_uri": "https://localhost:8080/",
          "height": 1000
        }
      },
      "source": [
        "#reindexing for uniformity\n",
        "\n",
        "fin_df.reindex(axis = 0)\n"
      ],
      "execution_count": 116,
      "outputs": [
        {
          "output_type": "execute_result",
          "data": {
            "text/html": [
              "<div>\n",
              "<style scoped>\n",
              "    .dataframe tbody tr th:only-of-type {\n",
              "        vertical-align: middle;\n",
              "    }\n",
              "\n",
              "    .dataframe tbody tr th {\n",
              "        vertical-align: top;\n",
              "    }\n",
              "\n",
              "    .dataframe thead th {\n",
              "        text-align: right;\n",
              "    }\n",
              "</style>\n",
              "<table border=\"1\" class=\"dataframe\">\n",
              "  <thead>\n",
              "    <tr style=\"text-align: right;\">\n",
              "      <th></th>\n",
              "      <th>country</th>\n",
              "      <th>year</th>\n",
              "      <th>uniqueid</th>\n",
              "      <th>has_a_bank_account</th>\n",
              "      <th>type_of_location</th>\n",
              "      <th>cell_phone_access</th>\n",
              "      <th>household_size</th>\n",
              "      <th>respondent_age</th>\n",
              "      <th>gender_of_respondent</th>\n",
              "      <th>the_relationship_with_head</th>\n",
              "      <th>marital_status</th>\n",
              "      <th>level_of_educuation</th>\n",
              "      <th>type_of_job</th>\n",
              "    </tr>\n",
              "  </thead>\n",
              "  <tbody>\n",
              "    <tr>\n",
              "      <th>0</th>\n",
              "      <td>Kenya</td>\n",
              "      <td>2018</td>\n",
              "      <td>uniqueid_1</td>\n",
              "      <td>Yes</td>\n",
              "      <td>Rural</td>\n",
              "      <td>Yes</td>\n",
              "      <td>3.0</td>\n",
              "      <td>24.0</td>\n",
              "      <td>Female</td>\n",
              "      <td>Spouse</td>\n",
              "      <td>Married/Living together</td>\n",
              "      <td>Secondary education</td>\n",
              "      <td>Self employed</td>\n",
              "    </tr>\n",
              "    <tr>\n",
              "      <th>1</th>\n",
              "      <td>Kenya</td>\n",
              "      <td>2018</td>\n",
              "      <td>uniqueid_2</td>\n",
              "      <td>No</td>\n",
              "      <td>Rural</td>\n",
              "      <td>No</td>\n",
              "      <td>5.0</td>\n",
              "      <td>70.0</td>\n",
              "      <td>Female</td>\n",
              "      <td>Head of Household</td>\n",
              "      <td>Widowed</td>\n",
              "      <td>No formal education</td>\n",
              "      <td>Government Dependent</td>\n",
              "    </tr>\n",
              "    <tr>\n",
              "      <th>2</th>\n",
              "      <td>Kenya</td>\n",
              "      <td>2018</td>\n",
              "      <td>uniqueid_3</td>\n",
              "      <td>Yes</td>\n",
              "      <td>Urban</td>\n",
              "      <td>Yes</td>\n",
              "      <td>5.0</td>\n",
              "      <td>26.0</td>\n",
              "      <td>Male</td>\n",
              "      <td>Other relative</td>\n",
              "      <td>Single/Never Married</td>\n",
              "      <td>Vocational/Specialised training</td>\n",
              "      <td>Self employed</td>\n",
              "    </tr>\n",
              "    <tr>\n",
              "      <th>3</th>\n",
              "      <td>Kenya</td>\n",
              "      <td>2018</td>\n",
              "      <td>uniqueid_4</td>\n",
              "      <td>No</td>\n",
              "      <td>Rural</td>\n",
              "      <td>Yes</td>\n",
              "      <td>5.0</td>\n",
              "      <td>34.0</td>\n",
              "      <td>Female</td>\n",
              "      <td>Head of Household</td>\n",
              "      <td>Married/Living together</td>\n",
              "      <td>Primary education</td>\n",
              "      <td>Formally employed Private</td>\n",
              "    </tr>\n",
              "    <tr>\n",
              "      <th>4</th>\n",
              "      <td>Kenya</td>\n",
              "      <td>2018</td>\n",
              "      <td>uniqueid_5</td>\n",
              "      <td>No</td>\n",
              "      <td>Urban</td>\n",
              "      <td>No</td>\n",
              "      <td>8.0</td>\n",
              "      <td>26.0</td>\n",
              "      <td>Male</td>\n",
              "      <td>Child</td>\n",
              "      <td>Single/Never Married</td>\n",
              "      <td>Primary education</td>\n",
              "      <td>Informally employed</td>\n",
              "    </tr>\n",
              "    <tr>\n",
              "      <th>5</th>\n",
              "      <td>Kenya</td>\n",
              "      <td>2018</td>\n",
              "      <td>uniqueid_6</td>\n",
              "      <td>No</td>\n",
              "      <td>Rural</td>\n",
              "      <td>No</td>\n",
              "      <td>7.0</td>\n",
              "      <td>26.0</td>\n",
              "      <td>Female</td>\n",
              "      <td>Spouse</td>\n",
              "      <td>Married/Living together</td>\n",
              "      <td>Primary education</td>\n",
              "      <td>Informally employed</td>\n",
              "    </tr>\n",
              "    <tr>\n",
              "      <th>6</th>\n",
              "      <td>Kenya</td>\n",
              "      <td>2018</td>\n",
              "      <td>uniqueid_7</td>\n",
              "      <td>No</td>\n",
              "      <td>Rural</td>\n",
              "      <td>Yes</td>\n",
              "      <td>7.0</td>\n",
              "      <td>32.0</td>\n",
              "      <td>Female</td>\n",
              "      <td>Spouse</td>\n",
              "      <td>Married/Living together</td>\n",
              "      <td>Primary education</td>\n",
              "      <td>Self employed</td>\n",
              "    </tr>\n",
              "    <tr>\n",
              "      <th>7</th>\n",
              "      <td>Kenya</td>\n",
              "      <td>2018</td>\n",
              "      <td>uniqueid_8</td>\n",
              "      <td>No</td>\n",
              "      <td>Rural</td>\n",
              "      <td>Yes</td>\n",
              "      <td>1.0</td>\n",
              "      <td>42.0</td>\n",
              "      <td>Female</td>\n",
              "      <td>Head of Household</td>\n",
              "      <td>Married/Living together</td>\n",
              "      <td>Tertiary education</td>\n",
              "      <td>Formally employed Government</td>\n",
              "    </tr>\n",
              "    <tr>\n",
              "      <th>8</th>\n",
              "      <td>Kenya</td>\n",
              "      <td>2018</td>\n",
              "      <td>uniqueid_9</td>\n",
              "      <td>Yes</td>\n",
              "      <td>Rural</td>\n",
              "      <td>Yes</td>\n",
              "      <td>3.0</td>\n",
              "      <td>54.0</td>\n",
              "      <td>Male</td>\n",
              "      <td>Head of Household</td>\n",
              "      <td>Married/Living together</td>\n",
              "      <td>Secondary education</td>\n",
              "      <td>Farming and Fishing</td>\n",
              "    </tr>\n",
              "    <tr>\n",
              "      <th>9</th>\n",
              "      <td>Kenya</td>\n",
              "      <td>2018</td>\n",
              "      <td>uniqueid_10</td>\n",
              "      <td>No</td>\n",
              "      <td>Urban</td>\n",
              "      <td>Yes</td>\n",
              "      <td>3.0</td>\n",
              "      <td>76.0</td>\n",
              "      <td>Female</td>\n",
              "      <td>Head of Household</td>\n",
              "      <td>Divorced/Seperated</td>\n",
              "      <td>No formal education</td>\n",
              "      <td>Remittance Dependent</td>\n",
              "    </tr>\n",
              "    <tr>\n",
              "      <th>10</th>\n",
              "      <td>Kenya</td>\n",
              "      <td>2018</td>\n",
              "      <td>uniqueid_11</td>\n",
              "      <td>No</td>\n",
              "      <td>Rural</td>\n",
              "      <td>Yes</td>\n",
              "      <td>5.0</td>\n",
              "      <td>40.0</td>\n",
              "      <td>Female</td>\n",
              "      <td>Head of Household</td>\n",
              "      <td>Married/Living together</td>\n",
              "      <td>Secondary education</td>\n",
              "      <td>Farming and Fishing</td>\n",
              "    </tr>\n",
              "    <tr>\n",
              "      <th>11</th>\n",
              "      <td>Kenya</td>\n",
              "      <td>2018</td>\n",
              "      <td>uniqueid_12</td>\n",
              "      <td>Yes</td>\n",
              "      <td>Rural</td>\n",
              "      <td>Yes</td>\n",
              "      <td>3.0</td>\n",
              "      <td>69.0</td>\n",
              "      <td>Male</td>\n",
              "      <td>Head of Household</td>\n",
              "      <td>Married/Living together</td>\n",
              "      <td>Secondary education</td>\n",
              "      <td>Other Income</td>\n",
              "    </tr>\n",
              "    <tr>\n",
              "      <th>12</th>\n",
              "      <td>Kenya</td>\n",
              "      <td>2018</td>\n",
              "      <td>uniqueid_13</td>\n",
              "      <td>No</td>\n",
              "      <td>Rural</td>\n",
              "      <td>No</td>\n",
              "      <td>6.0</td>\n",
              "      <td>64.0</td>\n",
              "      <td>Female</td>\n",
              "      <td>Head of Household</td>\n",
              "      <td>Widowed</td>\n",
              "      <td>No formal education</td>\n",
              "      <td>Farming and Fishing</td>\n",
              "    </tr>\n",
              "    <tr>\n",
              "      <th>13</th>\n",
              "      <td>Kenya</td>\n",
              "      <td>2018</td>\n",
              "      <td>uniqueid_14</td>\n",
              "      <td>No</td>\n",
              "      <td>Rural</td>\n",
              "      <td>No</td>\n",
              "      <td>8.0</td>\n",
              "      <td>31.0</td>\n",
              "      <td>Female</td>\n",
              "      <td>Spouse</td>\n",
              "      <td>Married/Living together</td>\n",
              "      <td>Primary education</td>\n",
              "      <td>Self employed</td>\n",
              "    </tr>\n",
              "    <tr>\n",
              "      <th>14</th>\n",
              "      <td>Kenya</td>\n",
              "      <td>2018</td>\n",
              "      <td>uniqueid_15</td>\n",
              "      <td>No</td>\n",
              "      <td>Urban</td>\n",
              "      <td>Yes</td>\n",
              "      <td>4.0</td>\n",
              "      <td>26.0</td>\n",
              "      <td>Male</td>\n",
              "      <td>Head of Household</td>\n",
              "      <td>Married/Living together</td>\n",
              "      <td>Primary education</td>\n",
              "      <td>Informally employed</td>\n",
              "    </tr>\n",
              "    <tr>\n",
              "      <th>15</th>\n",
              "      <td>Kenya</td>\n",
              "      <td>2018</td>\n",
              "      <td>uniqueid_16</td>\n",
              "      <td>No</td>\n",
              "      <td>Rural</td>\n",
              "      <td>Yes</td>\n",
              "      <td>7.0</td>\n",
              "      <td>38.0</td>\n",
              "      <td>Male</td>\n",
              "      <td>Head of Household</td>\n",
              "      <td>Married/Living together</td>\n",
              "      <td>Primary education</td>\n",
              "      <td>Informally employed</td>\n",
              "    </tr>\n",
              "    <tr>\n",
              "      <th>16</th>\n",
              "      <td>Kenya</td>\n",
              "      <td>2018</td>\n",
              "      <td>uniqueid_17</td>\n",
              "      <td>No</td>\n",
              "      <td>Urban</td>\n",
              "      <td>Yes</td>\n",
              "      <td>1.0</td>\n",
              "      <td>47.0</td>\n",
              "      <td>Female</td>\n",
              "      <td>Head of Household</td>\n",
              "      <td>Married/Living together</td>\n",
              "      <td>Secondary education</td>\n",
              "      <td>Self employed</td>\n",
              "    </tr>\n",
              "    <tr>\n",
              "      <th>17</th>\n",
              "      <td>Kenya</td>\n",
              "      <td>2018</td>\n",
              "      <td>uniqueid_18</td>\n",
              "      <td>Yes</td>\n",
              "      <td>Rural</td>\n",
              "      <td>Yes</td>\n",
              "      <td>6.0</td>\n",
              "      <td>27.0</td>\n",
              "      <td>Female</td>\n",
              "      <td>Head of Household</td>\n",
              "      <td>Married/Living together</td>\n",
              "      <td>Secondary education</td>\n",
              "      <td>Self employed</td>\n",
              "    </tr>\n",
              "    <tr>\n",
              "      <th>18</th>\n",
              "      <td>Kenya</td>\n",
              "      <td>2018</td>\n",
              "      <td>uniqueid_19</td>\n",
              "      <td>No</td>\n",
              "      <td>Urban</td>\n",
              "      <td>Yes</td>\n",
              "      <td>1.0</td>\n",
              "      <td>48.0</td>\n",
              "      <td>Female</td>\n",
              "      <td>Head of Household</td>\n",
              "      <td>Single/Never Married</td>\n",
              "      <td>Vocational/Specialised training</td>\n",
              "      <td>Formally employed Private</td>\n",
              "    </tr>\n",
              "    <tr>\n",
              "      <th>19</th>\n",
              "      <td>Kenya</td>\n",
              "      <td>2018</td>\n",
              "      <td>uniqueid_20</td>\n",
              "      <td>No</td>\n",
              "      <td>Rural</td>\n",
              "      <td>No</td>\n",
              "      <td>4.0</td>\n",
              "      <td>25.0</td>\n",
              "      <td>Female</td>\n",
              "      <td>Spouse</td>\n",
              "      <td>Married/Living together</td>\n",
              "      <td>Primary education</td>\n",
              "      <td>Farming and Fishing</td>\n",
              "    </tr>\n",
              "    <tr>\n",
              "      <th>20</th>\n",
              "      <td>Kenya</td>\n",
              "      <td>2018</td>\n",
              "      <td>uniqueid_21</td>\n",
              "      <td>No</td>\n",
              "      <td>Rural</td>\n",
              "      <td>Yes</td>\n",
              "      <td>4.0</td>\n",
              "      <td>26.0</td>\n",
              "      <td>Male</td>\n",
              "      <td>Head of Household</td>\n",
              "      <td>Married/Living together</td>\n",
              "      <td>Primary education</td>\n",
              "      <td>Farming and Fishing</td>\n",
              "    </tr>\n",
              "    <tr>\n",
              "      <th>21</th>\n",
              "      <td>Kenya</td>\n",
              "      <td>2018</td>\n",
              "      <td>uniqueid_22</td>\n",
              "      <td>Yes</td>\n",
              "      <td>Urban</td>\n",
              "      <td>Yes</td>\n",
              "      <td>1.0</td>\n",
              "      <td>32.0</td>\n",
              "      <td>Male</td>\n",
              "      <td>Head of Household</td>\n",
              "      <td>Single/Never Married</td>\n",
              "      <td>Vocational/Specialised training</td>\n",
              "      <td>Self employed</td>\n",
              "    </tr>\n",
              "    <tr>\n",
              "      <th>22</th>\n",
              "      <td>Kenya</td>\n",
              "      <td>2018</td>\n",
              "      <td>uniqueid_23</td>\n",
              "      <td>No</td>\n",
              "      <td>Urban</td>\n",
              "      <td>Yes</td>\n",
              "      <td>4.0</td>\n",
              "      <td>34.0</td>\n",
              "      <td>Female</td>\n",
              "      <td>Spouse</td>\n",
              "      <td>Married/Living together</td>\n",
              "      <td>Secondary education</td>\n",
              "      <td>Self employed</td>\n",
              "    </tr>\n",
              "    <tr>\n",
              "      <th>23</th>\n",
              "      <td>Kenya</td>\n",
              "      <td>2018</td>\n",
              "      <td>uniqueid_24</td>\n",
              "      <td>No</td>\n",
              "      <td>Rural</td>\n",
              "      <td>Yes</td>\n",
              "      <td>3.0</td>\n",
              "      <td>21.0</td>\n",
              "      <td>Female</td>\n",
              "      <td>Spouse</td>\n",
              "      <td>Married/Living together</td>\n",
              "      <td>Secondary education</td>\n",
              "      <td>Informally employed</td>\n",
              "    </tr>\n",
              "    <tr>\n",
              "      <th>24</th>\n",
              "      <td>Kenya</td>\n",
              "      <td>2018</td>\n",
              "      <td>uniqueid_25</td>\n",
              "      <td>No</td>\n",
              "      <td>Urban</td>\n",
              "      <td>No</td>\n",
              "      <td>7.0</td>\n",
              "      <td>18.0</td>\n",
              "      <td>Male</td>\n",
              "      <td>Other relative</td>\n",
              "      <td>Single/Never Married</td>\n",
              "      <td>Secondary education</td>\n",
              "      <td>Remittance Dependent</td>\n",
              "    </tr>\n",
              "    <tr>\n",
              "      <th>25</th>\n",
              "      <td>Kenya</td>\n",
              "      <td>2018</td>\n",
              "      <td>uniqueid_26</td>\n",
              "      <td>No</td>\n",
              "      <td>Rural</td>\n",
              "      <td>Yes</td>\n",
              "      <td>5.0</td>\n",
              "      <td>22.0</td>\n",
              "      <td>Female</td>\n",
              "      <td>Child</td>\n",
              "      <td>Single/Never Married</td>\n",
              "      <td>Secondary education</td>\n",
              "      <td>Remittance Dependent</td>\n",
              "    </tr>\n",
              "    <tr>\n",
              "      <th>26</th>\n",
              "      <td>Kenya</td>\n",
              "      <td>2018</td>\n",
              "      <td>uniqueid_27</td>\n",
              "      <td>No</td>\n",
              "      <td>Rural</td>\n",
              "      <td>No</td>\n",
              "      <td>8.0</td>\n",
              "      <td>26.0</td>\n",
              "      <td>Male</td>\n",
              "      <td>Child</td>\n",
              "      <td>Married/Living together</td>\n",
              "      <td>Primary education</td>\n",
              "      <td>Self employed</td>\n",
              "    </tr>\n",
              "    <tr>\n",
              "      <th>27</th>\n",
              "      <td>Kenya</td>\n",
              "      <td>2018</td>\n",
              "      <td>uniqueid_28</td>\n",
              "      <td>No</td>\n",
              "      <td>Urban</td>\n",
              "      <td>Yes</td>\n",
              "      <td>1.0</td>\n",
              "      <td>31.0</td>\n",
              "      <td>Female</td>\n",
              "      <td>Head of Household</td>\n",
              "      <td>Single/Never Married</td>\n",
              "      <td>Primary education</td>\n",
              "      <td>Informally employed</td>\n",
              "    </tr>\n",
              "    <tr>\n",
              "      <th>28</th>\n",
              "      <td>Kenya</td>\n",
              "      <td>2018</td>\n",
              "      <td>uniqueid_29</td>\n",
              "      <td>No</td>\n",
              "      <td>Rural</td>\n",
              "      <td>Yes</td>\n",
              "      <td>4.0</td>\n",
              "      <td>26.0</td>\n",
              "      <td>Male</td>\n",
              "      <td>Head of Household</td>\n",
              "      <td>Married/Living together</td>\n",
              "      <td>Primary education</td>\n",
              "      <td>Formally employed Private</td>\n",
              "    </tr>\n",
              "    <tr>\n",
              "      <th>29</th>\n",
              "      <td>Kenya</td>\n",
              "      <td>2018</td>\n",
              "      <td>uniqueid_30</td>\n",
              "      <td>No</td>\n",
              "      <td>Rural</td>\n",
              "      <td>No</td>\n",
              "      <td>7.0</td>\n",
              "      <td>58.0</td>\n",
              "      <td>Female</td>\n",
              "      <td>Head of Household</td>\n",
              "      <td>Widowed</td>\n",
              "      <td>No formal education</td>\n",
              "      <td>Remittance Dependent</td>\n",
              "    </tr>\n",
              "    <tr>\n",
              "      <th>...</th>\n",
              "      <td>...</td>\n",
              "      <td>...</td>\n",
              "      <td>...</td>\n",
              "      <td>...</td>\n",
              "      <td>...</td>\n",
              "      <td>...</td>\n",
              "      <td>...</td>\n",
              "      <td>...</td>\n",
              "      <td>...</td>\n",
              "      <td>...</td>\n",
              "      <td>...</td>\n",
              "      <td>...</td>\n",
              "      <td>...</td>\n",
              "    </tr>\n",
              "    <tr>\n",
              "      <th>23488</th>\n",
              "      <td>Uganda</td>\n",
              "      <td>2018</td>\n",
              "      <td>uniqueid_2076</td>\n",
              "      <td>No</td>\n",
              "      <td>Urban</td>\n",
              "      <td>Yes</td>\n",
              "      <td>2.0</td>\n",
              "      <td>32.0</td>\n",
              "      <td>Female</td>\n",
              "      <td>Head of Household</td>\n",
              "      <td>Divorced/Seperated</td>\n",
              "      <td>Primary education</td>\n",
              "      <td>Self employed</td>\n",
              "    </tr>\n",
              "    <tr>\n",
              "      <th>23489</th>\n",
              "      <td>Uganda</td>\n",
              "      <td>2018</td>\n",
              "      <td>uniqueid_2077</td>\n",
              "      <td>No</td>\n",
              "      <td>Rural</td>\n",
              "      <td>No</td>\n",
              "      <td>4.0</td>\n",
              "      <td>52.0</td>\n",
              "      <td>Female</td>\n",
              "      <td>Head of Household</td>\n",
              "      <td>Widowed</td>\n",
              "      <td>Primary education</td>\n",
              "      <td>Self employed</td>\n",
              "    </tr>\n",
              "    <tr>\n",
              "      <th>23490</th>\n",
              "      <td>Uganda</td>\n",
              "      <td>2018</td>\n",
              "      <td>uniqueid_2078</td>\n",
              "      <td>No</td>\n",
              "      <td>Rural</td>\n",
              "      <td>Yes</td>\n",
              "      <td>3.0</td>\n",
              "      <td>28.0</td>\n",
              "      <td>Male</td>\n",
              "      <td>Head of Household</td>\n",
              "      <td>Married/Living together</td>\n",
              "      <td>Primary education</td>\n",
              "      <td>Self employed</td>\n",
              "    </tr>\n",
              "    <tr>\n",
              "      <th>23491</th>\n",
              "      <td>Uganda</td>\n",
              "      <td>2018</td>\n",
              "      <td>uniqueid_2079</td>\n",
              "      <td>No</td>\n",
              "      <td>Rural</td>\n",
              "      <td>No</td>\n",
              "      <td>3.0</td>\n",
              "      <td>49.0</td>\n",
              "      <td>Female</td>\n",
              "      <td>Head of Household</td>\n",
              "      <td>Married/Living together</td>\n",
              "      <td>Primary education</td>\n",
              "      <td>Dont Know/Refuse to answer</td>\n",
              "    </tr>\n",
              "    <tr>\n",
              "      <th>23492</th>\n",
              "      <td>Uganda</td>\n",
              "      <td>2018</td>\n",
              "      <td>uniqueid_2080</td>\n",
              "      <td>No</td>\n",
              "      <td>Urban</td>\n",
              "      <td>Yes</td>\n",
              "      <td>2.0</td>\n",
              "      <td>26.0</td>\n",
              "      <td>Male</td>\n",
              "      <td>Head of Household</td>\n",
              "      <td>Married/Living together</td>\n",
              "      <td>Secondary education</td>\n",
              "      <td>Other Income</td>\n",
              "    </tr>\n",
              "    <tr>\n",
              "      <th>23493</th>\n",
              "      <td>Uganda</td>\n",
              "      <td>2018</td>\n",
              "      <td>uniqueid_2081</td>\n",
              "      <td>No</td>\n",
              "      <td>Urban</td>\n",
              "      <td>Yes</td>\n",
              "      <td>3.0</td>\n",
              "      <td>28.0</td>\n",
              "      <td>Female</td>\n",
              "      <td>Head of Household</td>\n",
              "      <td>Widowed</td>\n",
              "      <td>Primary education</td>\n",
              "      <td>Self employed</td>\n",
              "    </tr>\n",
              "    <tr>\n",
              "      <th>23494</th>\n",
              "      <td>Uganda</td>\n",
              "      <td>2018</td>\n",
              "      <td>uniqueid_2082</td>\n",
              "      <td>No</td>\n",
              "      <td>Urban</td>\n",
              "      <td>Yes</td>\n",
              "      <td>2.0</td>\n",
              "      <td>25.0</td>\n",
              "      <td>Female</td>\n",
              "      <td>Spouse</td>\n",
              "      <td>Married/Living together</td>\n",
              "      <td>Secondary education</td>\n",
              "      <td>Other Income</td>\n",
              "    </tr>\n",
              "    <tr>\n",
              "      <th>23495</th>\n",
              "      <td>Uganda</td>\n",
              "      <td>2018</td>\n",
              "      <td>uniqueid_2083</td>\n",
              "      <td>No</td>\n",
              "      <td>Urban</td>\n",
              "      <td>No</td>\n",
              "      <td>9.0</td>\n",
              "      <td>21.0</td>\n",
              "      <td>Female</td>\n",
              "      <td>Head of Household</td>\n",
              "      <td>Married/Living together</td>\n",
              "      <td>Primary education</td>\n",
              "      <td>Self employed</td>\n",
              "    </tr>\n",
              "    <tr>\n",
              "      <th>23496</th>\n",
              "      <td>Uganda</td>\n",
              "      <td>2018</td>\n",
              "      <td>uniqueid_2084</td>\n",
              "      <td>No</td>\n",
              "      <td>Rural</td>\n",
              "      <td>No</td>\n",
              "      <td>1.0</td>\n",
              "      <td>60.0</td>\n",
              "      <td>Female</td>\n",
              "      <td>Head of Household</td>\n",
              "      <td>Widowed</td>\n",
              "      <td>No formal education</td>\n",
              "      <td>No Income</td>\n",
              "    </tr>\n",
              "    <tr>\n",
              "      <th>23497</th>\n",
              "      <td>Uganda</td>\n",
              "      <td>2018</td>\n",
              "      <td>uniqueid_2085</td>\n",
              "      <td>No</td>\n",
              "      <td>Urban</td>\n",
              "      <td>No</td>\n",
              "      <td>1.0</td>\n",
              "      <td>74.0</td>\n",
              "      <td>Female</td>\n",
              "      <td>Head of Household</td>\n",
              "      <td>Widowed</td>\n",
              "      <td>Secondary education</td>\n",
              "      <td>Other Income</td>\n",
              "    </tr>\n",
              "    <tr>\n",
              "      <th>23498</th>\n",
              "      <td>Uganda</td>\n",
              "      <td>2018</td>\n",
              "      <td>uniqueid_2086</td>\n",
              "      <td>No</td>\n",
              "      <td>Rural</td>\n",
              "      <td>Yes</td>\n",
              "      <td>6.0</td>\n",
              "      <td>26.0</td>\n",
              "      <td>Male</td>\n",
              "      <td>Head of Household</td>\n",
              "      <td>Married/Living together</td>\n",
              "      <td>Secondary education</td>\n",
              "      <td>Self employed</td>\n",
              "    </tr>\n",
              "    <tr>\n",
              "      <th>23499</th>\n",
              "      <td>Uganda</td>\n",
              "      <td>2018</td>\n",
              "      <td>uniqueid_2087</td>\n",
              "      <td>No</td>\n",
              "      <td>Urban</td>\n",
              "      <td>No</td>\n",
              "      <td>6.0</td>\n",
              "      <td>16.0</td>\n",
              "      <td>Female</td>\n",
              "      <td>Parent</td>\n",
              "      <td>Single/Never Married</td>\n",
              "      <td>Secondary education</td>\n",
              "      <td>No Income</td>\n",
              "    </tr>\n",
              "    <tr>\n",
              "      <th>23500</th>\n",
              "      <td>Uganda</td>\n",
              "      <td>2018</td>\n",
              "      <td>uniqueid_2088</td>\n",
              "      <td>No</td>\n",
              "      <td>Urban</td>\n",
              "      <td>No</td>\n",
              "      <td>6.0</td>\n",
              "      <td>26.0</td>\n",
              "      <td>Female</td>\n",
              "      <td>Spouse</td>\n",
              "      <td>Married/Living together</td>\n",
              "      <td>Primary education</td>\n",
              "      <td>No Income</td>\n",
              "    </tr>\n",
              "    <tr>\n",
              "      <th>23501</th>\n",
              "      <td>Uganda</td>\n",
              "      <td>2018</td>\n",
              "      <td>uniqueid_2089</td>\n",
              "      <td>No</td>\n",
              "      <td>Rural</td>\n",
              "      <td>No</td>\n",
              "      <td>3.0</td>\n",
              "      <td>22.0</td>\n",
              "      <td>Female</td>\n",
              "      <td>Spouse</td>\n",
              "      <td>Married/Living together</td>\n",
              "      <td>Secondary education</td>\n",
              "      <td>Self employed</td>\n",
              "    </tr>\n",
              "    <tr>\n",
              "      <th>23502</th>\n",
              "      <td>Uganda</td>\n",
              "      <td>2018</td>\n",
              "      <td>uniqueid_2090</td>\n",
              "      <td>No</td>\n",
              "      <td>Urban</td>\n",
              "      <td>Yes</td>\n",
              "      <td>3.0</td>\n",
              "      <td>17.0</td>\n",
              "      <td>Female</td>\n",
              "      <td>Parent</td>\n",
              "      <td>Single/Never Married</td>\n",
              "      <td>Vocational/Specialised training</td>\n",
              "      <td>Other Income</td>\n",
              "    </tr>\n",
              "    <tr>\n",
              "      <th>23503</th>\n",
              "      <td>Uganda</td>\n",
              "      <td>2018</td>\n",
              "      <td>uniqueid_2091</td>\n",
              "      <td>No</td>\n",
              "      <td>Rural</td>\n",
              "      <td>No</td>\n",
              "      <td>3.0</td>\n",
              "      <td>40.0</td>\n",
              "      <td>Female</td>\n",
              "      <td>Head of Household</td>\n",
              "      <td>Divorced/Seperated</td>\n",
              "      <td>Primary education</td>\n",
              "      <td>Self employed</td>\n",
              "    </tr>\n",
              "    <tr>\n",
              "      <th>23504</th>\n",
              "      <td>Uganda</td>\n",
              "      <td>2018</td>\n",
              "      <td>uniqueid_2093</td>\n",
              "      <td>No</td>\n",
              "      <td>Urban</td>\n",
              "      <td>Yes</td>\n",
              "      <td>3.0</td>\n",
              "      <td>24.0</td>\n",
              "      <td>Female</td>\n",
              "      <td>Spouse</td>\n",
              "      <td>Married/Living together</td>\n",
              "      <td>Vocational/Specialised training</td>\n",
              "      <td>No Income</td>\n",
              "    </tr>\n",
              "    <tr>\n",
              "      <th>23505</th>\n",
              "      <td>Uganda</td>\n",
              "      <td>2018</td>\n",
              "      <td>uniqueid_2095</td>\n",
              "      <td>No</td>\n",
              "      <td>Rural</td>\n",
              "      <td>Yes</td>\n",
              "      <td>7.0</td>\n",
              "      <td>45.0</td>\n",
              "      <td>Male</td>\n",
              "      <td>Head of Household</td>\n",
              "      <td>Married/Living together</td>\n",
              "      <td>Primary education</td>\n",
              "      <td>Self employed</td>\n",
              "    </tr>\n",
              "    <tr>\n",
              "      <th>23506</th>\n",
              "      <td>Uganda</td>\n",
              "      <td>2018</td>\n",
              "      <td>uniqueid_2096</td>\n",
              "      <td>No</td>\n",
              "      <td>Rural</td>\n",
              "      <td>No</td>\n",
              "      <td>7.0</td>\n",
              "      <td>22.0</td>\n",
              "      <td>Male</td>\n",
              "      <td>Child</td>\n",
              "      <td>Single/Never Married</td>\n",
              "      <td>Primary education</td>\n",
              "      <td>Self employed</td>\n",
              "    </tr>\n",
              "    <tr>\n",
              "      <th>23507</th>\n",
              "      <td>Uganda</td>\n",
              "      <td>2018</td>\n",
              "      <td>uniqueid_2097</td>\n",
              "      <td>No</td>\n",
              "      <td>Rural</td>\n",
              "      <td>No</td>\n",
              "      <td>8.0</td>\n",
              "      <td>28.0</td>\n",
              "      <td>Female</td>\n",
              "      <td>Head of Household</td>\n",
              "      <td>Married/Living together</td>\n",
              "      <td>Primary education</td>\n",
              "      <td>Self employed</td>\n",
              "    </tr>\n",
              "    <tr>\n",
              "      <th>23508</th>\n",
              "      <td>Uganda</td>\n",
              "      <td>2018</td>\n",
              "      <td>uniqueid_2098</td>\n",
              "      <td>No</td>\n",
              "      <td>Rural</td>\n",
              "      <td>Yes</td>\n",
              "      <td>6.0</td>\n",
              "      <td>65.0</td>\n",
              "      <td>Female</td>\n",
              "      <td>Head of Household</td>\n",
              "      <td>Widowed</td>\n",
              "      <td>Primary education</td>\n",
              "      <td>Self employed</td>\n",
              "    </tr>\n",
              "    <tr>\n",
              "      <th>23509</th>\n",
              "      <td>Uganda</td>\n",
              "      <td>2018</td>\n",
              "      <td>uniqueid_2099</td>\n",
              "      <td>No</td>\n",
              "      <td>Rural</td>\n",
              "      <td>No</td>\n",
              "      <td>4.0</td>\n",
              "      <td>20.0</td>\n",
              "      <td>Female</td>\n",
              "      <td>Spouse</td>\n",
              "      <td>Married/Living together</td>\n",
              "      <td>Primary education</td>\n",
              "      <td>Other Income</td>\n",
              "    </tr>\n",
              "    <tr>\n",
              "      <th>23510</th>\n",
              "      <td>Uganda</td>\n",
              "      <td>2018</td>\n",
              "      <td>uniqueid_2100</td>\n",
              "      <td>No</td>\n",
              "      <td>Rural</td>\n",
              "      <td>Yes</td>\n",
              "      <td>4.0</td>\n",
              "      <td>30.0</td>\n",
              "      <td>Female</td>\n",
              "      <td>Spouse</td>\n",
              "      <td>Married/Living together</td>\n",
              "      <td>No formal education</td>\n",
              "      <td>Other Income</td>\n",
              "    </tr>\n",
              "    <tr>\n",
              "      <th>23511</th>\n",
              "      <td>Uganda</td>\n",
              "      <td>2018</td>\n",
              "      <td>uniqueid_2101</td>\n",
              "      <td>No</td>\n",
              "      <td>Rural</td>\n",
              "      <td>No</td>\n",
              "      <td>6.0</td>\n",
              "      <td>19.0</td>\n",
              "      <td>Female</td>\n",
              "      <td>Parent</td>\n",
              "      <td>Single/Never Married</td>\n",
              "      <td>Secondary education</td>\n",
              "      <td>No Income</td>\n",
              "    </tr>\n",
              "    <tr>\n",
              "      <th>23512</th>\n",
              "      <td>Uganda</td>\n",
              "      <td>2018</td>\n",
              "      <td>uniqueid_2102</td>\n",
              "      <td>No</td>\n",
              "      <td>Rural</td>\n",
              "      <td>No</td>\n",
              "      <td>2.0</td>\n",
              "      <td>57.0</td>\n",
              "      <td>Female</td>\n",
              "      <td>Head of Household</td>\n",
              "      <td>Divorced/Seperated</td>\n",
              "      <td>No formal education</td>\n",
              "      <td>Other Income</td>\n",
              "    </tr>\n",
              "    <tr>\n",
              "      <th>23519</th>\n",
              "      <td>Uganda</td>\n",
              "      <td>2018</td>\n",
              "      <td>uniqueid_2113</td>\n",
              "      <td>No</td>\n",
              "      <td>Rural</td>\n",
              "      <td>Yes</td>\n",
              "      <td>4.0</td>\n",
              "      <td>48.0</td>\n",
              "      <td>Female</td>\n",
              "      <td>Head of Household</td>\n",
              "      <td>Divorced/Seperated</td>\n",
              "      <td>No formal education</td>\n",
              "      <td>Other Income</td>\n",
              "    </tr>\n",
              "    <tr>\n",
              "      <th>23520</th>\n",
              "      <td>Uganda</td>\n",
              "      <td>2018</td>\n",
              "      <td>uniqueid_2114</td>\n",
              "      <td>No</td>\n",
              "      <td>Rural</td>\n",
              "      <td>Yes</td>\n",
              "      <td>2.0</td>\n",
              "      <td>27.0</td>\n",
              "      <td>Female</td>\n",
              "      <td>Head of Household</td>\n",
              "      <td>Single/Never Married</td>\n",
              "      <td>Secondary education</td>\n",
              "      <td>Other Income</td>\n",
              "    </tr>\n",
              "    <tr>\n",
              "      <th>23521</th>\n",
              "      <td>Uganda</td>\n",
              "      <td>2018</td>\n",
              "      <td>uniqueid_2115</td>\n",
              "      <td>No</td>\n",
              "      <td>Rural</td>\n",
              "      <td>Yes</td>\n",
              "      <td>5.0</td>\n",
              "      <td>27.0</td>\n",
              "      <td>Female</td>\n",
              "      <td>Parent</td>\n",
              "      <td>Widowed</td>\n",
              "      <td>Primary education</td>\n",
              "      <td>Other Income</td>\n",
              "    </tr>\n",
              "    <tr>\n",
              "      <th>23522</th>\n",
              "      <td>Uganda</td>\n",
              "      <td>2018</td>\n",
              "      <td>uniqueid_2116</td>\n",
              "      <td>No</td>\n",
              "      <td>Urban</td>\n",
              "      <td>Yes</td>\n",
              "      <td>7.0</td>\n",
              "      <td>30.0</td>\n",
              "      <td>Female</td>\n",
              "      <td>Parent</td>\n",
              "      <td>Divorced/Seperated</td>\n",
              "      <td>Secondary education</td>\n",
              "      <td>Self employed</td>\n",
              "    </tr>\n",
              "    <tr>\n",
              "      <th>23523</th>\n",
              "      <td>Uganda</td>\n",
              "      <td>2018</td>\n",
              "      <td>uniqueid_2117</td>\n",
              "      <td>No</td>\n",
              "      <td>Rural</td>\n",
              "      <td>Yes</td>\n",
              "      <td>10.0</td>\n",
              "      <td>20.0</td>\n",
              "      <td>Male</td>\n",
              "      <td>Child</td>\n",
              "      <td>Single/Never Married</td>\n",
              "      <td>Secondary education</td>\n",
              "      <td>No Income</td>\n",
              "    </tr>\n",
              "  </tbody>\n",
              "</table>\n",
              "<p>23340 rows × 13 columns</p>\n",
              "</div>"
            ],
            "text/plain": [
              "      country  ...                   type_of_job\n",
              "0       Kenya  ...                 Self employed\n",
              "1       Kenya  ...          Government Dependent\n",
              "2       Kenya  ...                 Self employed\n",
              "3       Kenya  ...     Formally employed Private\n",
              "4       Kenya  ...           Informally employed\n",
              "5       Kenya  ...           Informally employed\n",
              "6       Kenya  ...                 Self employed\n",
              "7       Kenya  ...  Formally employed Government\n",
              "8       Kenya  ...           Farming and Fishing\n",
              "9       Kenya  ...          Remittance Dependent\n",
              "10      Kenya  ...           Farming and Fishing\n",
              "11      Kenya  ...                  Other Income\n",
              "12      Kenya  ...           Farming and Fishing\n",
              "13      Kenya  ...                 Self employed\n",
              "14      Kenya  ...           Informally employed\n",
              "15      Kenya  ...           Informally employed\n",
              "16      Kenya  ...                 Self employed\n",
              "17      Kenya  ...                 Self employed\n",
              "18      Kenya  ...     Formally employed Private\n",
              "19      Kenya  ...           Farming and Fishing\n",
              "20      Kenya  ...           Farming and Fishing\n",
              "21      Kenya  ...                 Self employed\n",
              "22      Kenya  ...                 Self employed\n",
              "23      Kenya  ...           Informally employed\n",
              "24      Kenya  ...          Remittance Dependent\n",
              "25      Kenya  ...          Remittance Dependent\n",
              "26      Kenya  ...                 Self employed\n",
              "27      Kenya  ...           Informally employed\n",
              "28      Kenya  ...     Formally employed Private\n",
              "29      Kenya  ...          Remittance Dependent\n",
              "...       ...  ...                           ...\n",
              "23488  Uganda  ...                 Self employed\n",
              "23489  Uganda  ...                 Self employed\n",
              "23490  Uganda  ...                 Self employed\n",
              "23491  Uganda  ...    Dont Know/Refuse to answer\n",
              "23492  Uganda  ...                  Other Income\n",
              "23493  Uganda  ...                 Self employed\n",
              "23494  Uganda  ...                  Other Income\n",
              "23495  Uganda  ...                 Self employed\n",
              "23496  Uganda  ...                     No Income\n",
              "23497  Uganda  ...                  Other Income\n",
              "23498  Uganda  ...                 Self employed\n",
              "23499  Uganda  ...                     No Income\n",
              "23500  Uganda  ...                     No Income\n",
              "23501  Uganda  ...                 Self employed\n",
              "23502  Uganda  ...                  Other Income\n",
              "23503  Uganda  ...                 Self employed\n",
              "23504  Uganda  ...                     No Income\n",
              "23505  Uganda  ...                 Self employed\n",
              "23506  Uganda  ...                 Self employed\n",
              "23507  Uganda  ...                 Self employed\n",
              "23508  Uganda  ...                 Self employed\n",
              "23509  Uganda  ...                  Other Income\n",
              "23510  Uganda  ...                  Other Income\n",
              "23511  Uganda  ...                     No Income\n",
              "23512  Uganda  ...                  Other Income\n",
              "23519  Uganda  ...                  Other Income\n",
              "23520  Uganda  ...                  Other Income\n",
              "23521  Uganda  ...                  Other Income\n",
              "23522  Uganda  ...                 Self employed\n",
              "23523  Uganda  ...                     No Income\n",
              "\n",
              "[23340 rows x 13 columns]"
            ]
          },
          "metadata": {
            "tags": []
          },
          "execution_count": 116
        }
      ]
    },
    {
      "cell_type": "markdown",
      "metadata": {
        "id": "8qS8KkV8qtPl",
        "colab_type": "text"
      },
      "source": [
        "#### Age of the Respondents and Household Size Columns"
      ]
    },
    {
      "cell_type": "code",
      "metadata": {
        "id": "TI5HEBePqr8y",
        "colab_type": "code",
        "outputId": "5f3d332e-cfff-42ef-e1e1-ad96d75c948e",
        "colab": {
          "base_uri": "https://localhost:8080/",
          "height": 577
        }
      },
      "source": [
        "sns.boxplot(fin_df[ 'household_size'])\n",
        "\n",
        "plt.title('Boxplot of the Household Size', color = 'white', fontsize = 14) \n",
        "plt.show()\n",
        "\n",
        "sns.boxplot(fin_df[ 'respondent_age'])\n",
        "\n",
        "plt.title('Boxplot of the Age of the Respondents', color = 'white', fontsize = 14)\n",
        "plt.show()"
      ],
      "execution_count": 117,
      "outputs": [
        {
          "output_type": "display_data",
          "data": {
            "image/png": "[encoded data removed]",
            "text/plain": [
              "<Figure size 432x288 with 1 Axes>"
            ]
          },
          "metadata": {
            "tags": []
          }
        },
        {
          "output_type": "display_data",
          "data": {
            "image/png": "[encoded data removed]",
            "text/plain": [
              "<Figure size 432x288 with 1 Axes>"
            ]
          },
          "metadata": {
            "tags": []
          }
        }
      ]
    },
    {
      "cell_type": "markdown",
      "metadata": {
        "id": "GhF175xarB-w",
        "colab_type": "text"
      },
      "source": [
        "- In the respondents age and household size columns, removal of the outlier will negatively affect our analysis as the there too many outliers to deal with."
      ]
    },
    {
      "cell_type": "markdown",
      "metadata": {
        "id": "uycGJPYttMvi",
        "colab_type": "text"
      },
      "source": [
        "#### Dropping the Unique ID Column"
      ]
    },
    {
      "cell_type": "code",
      "metadata": {
        "id": "V6Vo2ogjtMFW",
        "colab_type": "code",
        "outputId": "fe0c0966-777a-417b-9ef6-7cf652333dc8",
        "colab": {
          "base_uri": "https://localhost:8080/",
          "height": 165
        }
      },
      "source": [
        "fin_df.drop('uniqueid', axis = 1, inplace = True )\n",
        "\n",
        "fin_df.head(2)"
      ],
      "execution_count": 118,
      "outputs": [
        {
          "output_type": "execute_result",
          "data": {
            "text/html": [
              "<div>\n",
              "<style scoped>\n",
              "    .dataframe tbody tr th:only-of-type {\n",
              "        vertical-align: middle;\n",
              "    }\n",
              "\n",
              "    .dataframe tbody tr th {\n",
              "        vertical-align: top;\n",
              "    }\n",
              "\n",
              "    .dataframe thead th {\n",
              "        text-align: right;\n",
              "    }\n",
              "</style>\n",
              "<table border=\"1\" class=\"dataframe\">\n",
              "  <thead>\n",
              "    <tr style=\"text-align: right;\">\n",
              "      <th></th>\n",
              "      <th>country</th>\n",
              "      <th>year</th>\n",
              "      <th>has_a_bank_account</th>\n",
              "      <th>type_of_location</th>\n",
              "      <th>cell_phone_access</th>\n",
              "      <th>household_size</th>\n",
              "      <th>respondent_age</th>\n",
              "      <th>gender_of_respondent</th>\n",
              "      <th>the_relationship_with_head</th>\n",
              "      <th>marital_status</th>\n",
              "      <th>level_of_educuation</th>\n",
              "      <th>type_of_job</th>\n",
              "    </tr>\n",
              "  </thead>\n",
              "  <tbody>\n",
              "    <tr>\n",
              "      <th>0</th>\n",
              "      <td>Kenya</td>\n",
              "      <td>2018</td>\n",
              "      <td>Yes</td>\n",
              "      <td>Rural</td>\n",
              "      <td>Yes</td>\n",
              "      <td>3.0</td>\n",
              "      <td>24.0</td>\n",
              "      <td>Female</td>\n",
              "      <td>Spouse</td>\n",
              "      <td>Married/Living together</td>\n",
              "      <td>Secondary education</td>\n",
              "      <td>Self employed</td>\n",
              "    </tr>\n",
              "    <tr>\n",
              "      <th>1</th>\n",
              "      <td>Kenya</td>\n",
              "      <td>2018</td>\n",
              "      <td>No</td>\n",
              "      <td>Rural</td>\n",
              "      <td>No</td>\n",
              "      <td>5.0</td>\n",
              "      <td>70.0</td>\n",
              "      <td>Female</td>\n",
              "      <td>Head of Household</td>\n",
              "      <td>Widowed</td>\n",
              "      <td>No formal education</td>\n",
              "      <td>Government Dependent</td>\n",
              "    </tr>\n",
              "  </tbody>\n",
              "</table>\n",
              "</div>"
            ],
            "text/plain": [
              "  country  year  ...  level_of_educuation           type_of_job\n",
              "0   Kenya  2018  ...  Secondary education         Self employed\n",
              "1   Kenya  2018  ...  No formal education  Government Dependent\n",
              "\n",
              "[2 rows x 12 columns]"
            ]
          },
          "metadata": {
            "tags": []
          },
          "execution_count": 118
        }
      ]
    },
    {
      "cell_type": "markdown",
      "metadata": {
        "id": "JDq2rLI01EFt",
        "colab_type": "text"
      },
      "source": [
        "## Implementing the Solution"
      ]
    },
    {
      "cell_type": "markdown",
      "metadata": {
        "id": "ZptUBBm59352",
        "colab_type": "text"
      },
      "source": [
        "####Hypothesis Testing\n",
        "- We aim to determine  if there is a relationship between the level of education of a person and whether that person seeks financial services from a bank. \n",
        "\n",
        "\n",
        "#### Null Hypothesis\n",
        " \n",
        "$H_0 : Level of Education   =   Significant$\n",
        "\n",
        "#### Alternative Hypothesis\n",
        "\n",
        "$H_1 : Level of Education$    $  !=  $     $Significant$\n",
        "\n"
      ]
    },
    {
      "cell_type": "code",
      "metadata": {
        "id": "i9ECNg1c93Pg",
        "colab_type": "code",
        "colab": {
          "base_uri": "https://localhost:8080/",
          "height": 189
        },
        "outputId": "c0158746-b3e9-4e1f-9a13-011016b52bd5"
      },
      "source": [
        "# Determining the level of education of the respondents in each country\n",
        "\n",
        "bloe_df = pd.DataFrame(fin_df, columns = ['has_a_bank_account', 'level_of_educuation']) # Creating a slice of the dataframe containing the country and level of education columns\n",
        "\n",
        "bloe_df = pd.DataFrame(bloe_df.groupby('has_a_bank_account')['level_of_educuation'].value_counts(normalize = True))\n",
        "\n",
        "bloe_df.unstack()"
      ],
      "execution_count": 119,
      "outputs": [
        {
          "output_type": "execute_result",
          "data": {
            "text/html": [
              "<div>\n",
              "<style scoped>\n",
              "    .dataframe tbody tr th:only-of-type {\n",
              "        vertical-align: middle;\n",
              "    }\n",
              "\n",
              "    .dataframe tbody tr th {\n",
              "        vertical-align: top;\n",
              "    }\n",
              "\n",
              "    .dataframe thead tr th {\n",
              "        text-align: left;\n",
              "    }\n",
              "\n",
              "    .dataframe thead tr:last-of-type th {\n",
              "        text-align: right;\n",
              "    }\n",
              "</style>\n",
              "<table border=\"1\" class=\"dataframe\">\n",
              "  <thead>\n",
              "    <tr>\n",
              "      <th></th>\n",
              "      <th colspan=\"7\" halign=\"left\">level_of_educuation</th>\n",
              "    </tr>\n",
              "    <tr>\n",
              "      <th>level_of_educuation</th>\n",
              "      <th>6</th>\n",
              "      <th>No formal education</th>\n",
              "      <th>Other/Dont know/RTA</th>\n",
              "      <th>Primary education</th>\n",
              "      <th>Secondary education</th>\n",
              "      <th>Tertiary education</th>\n",
              "      <th>Vocational/Specialised training</th>\n",
              "    </tr>\n",
              "    <tr>\n",
              "      <th>has_a_bank_account</th>\n",
              "      <th></th>\n",
              "      <th></th>\n",
              "      <th></th>\n",
              "      <th></th>\n",
              "      <th></th>\n",
              "      <th></th>\n",
              "      <th></th>\n",
              "    </tr>\n",
              "  </thead>\n",
              "  <tbody>\n",
              "    <tr>\n",
              "      <th>No</th>\n",
              "      <td>0.001098</td>\n",
              "      <td>0.214079</td>\n",
              "      <td>0.00010</td>\n",
              "      <td>0.578976</td>\n",
              "      <td>0.160896</td>\n",
              "      <td>0.027639</td>\n",
              "      <td>0.017212</td>\n",
              "    </tr>\n",
              "    <tr>\n",
              "      <th>Yes</th>\n",
              "      <td>0.001517</td>\n",
              "      <td>0.053398</td>\n",
              "      <td>0.00182</td>\n",
              "      <td>0.328580</td>\n",
              "      <td>0.297633</td>\n",
              "      <td>0.178701</td>\n",
              "      <td>0.138350</td>\n",
              "    </tr>\n",
              "  </tbody>\n",
              "</table>\n",
              "</div>"
            ],
            "text/plain": [
              "                    level_of_educuation  ...                                \n",
              "level_of_educuation                   6  ... Vocational/Specialised training\n",
              "has_a_bank_account                       ...                                \n",
              "No                             0.001098  ...                        0.017212\n",
              "Yes                            0.001517  ...                        0.138350\n",
              "\n",
              "[2 rows x 7 columns]"
            ]
          },
          "metadata": {
            "tags": []
          },
          "execution_count": 119
        }
      ]
    },
    {
      "cell_type": "markdown",
      "metadata": {
        "id": "bywZDPnquDVW",
        "colab_type": "text"
      },
      "source": [
        "#### Defining the X and Y variables\n",
        "\n",
        "> We need to define our dependent(outcome variable) an independent(predictor) variables before analysis so that we obtain the predictor variables that are presumed to cause the differences in variable out comes and the out come variable which is the outcome that our research is studying"
      ]
    },
    {
      "cell_type": "code",
      "metadata": {
        "id": "MzfIiQj7qY0H",
        "colab_type": "code",
        "colab": {}
      },
      "source": [
        "X = fin_df.drop('has_a_bank_account', axis = 1)\n",
        "Y = fin_df['has_a_bank_account']"
      ],
      "execution_count": 0,
      "outputs": []
    },
    {
      "cell_type": "code",
      "metadata": {
        "id": "oOs2cZfL1_1q",
        "colab_type": "code",
        "outputId": "c019e36d-0887-49dd-d230-9882298ec290",
        "colab": {
          "base_uri": "https://localhost:8080/",
          "height": 213
        }
      },
      "source": [
        "X.head(3)"
      ],
      "execution_count": 121,
      "outputs": [
        {
          "output_type": "execute_result",
          "data": {
            "text/html": [
              "<div>\n",
              "<style scoped>\n",
              "    .dataframe tbody tr th:only-of-type {\n",
              "        vertical-align: middle;\n",
              "    }\n",
              "\n",
              "    .dataframe tbody tr th {\n",
              "        vertical-align: top;\n",
              "    }\n",
              "\n",
              "    .dataframe thead th {\n",
              "        text-align: right;\n",
              "    }\n",
              "</style>\n",
              "<table border=\"1\" class=\"dataframe\">\n",
              "  <thead>\n",
              "    <tr style=\"text-align: right;\">\n",
              "      <th></th>\n",
              "      <th>country</th>\n",
              "      <th>year</th>\n",
              "      <th>type_of_location</th>\n",
              "      <th>cell_phone_access</th>\n",
              "      <th>household_size</th>\n",
              "      <th>respondent_age</th>\n",
              "      <th>gender_of_respondent</th>\n",
              "      <th>the_relationship_with_head</th>\n",
              "      <th>marital_status</th>\n",
              "      <th>level_of_educuation</th>\n",
              "      <th>type_of_job</th>\n",
              "    </tr>\n",
              "  </thead>\n",
              "  <tbody>\n",
              "    <tr>\n",
              "      <th>0</th>\n",
              "      <td>Kenya</td>\n",
              "      <td>2018</td>\n",
              "      <td>Rural</td>\n",
              "      <td>Yes</td>\n",
              "      <td>3.0</td>\n",
              "      <td>24.0</td>\n",
              "      <td>Female</td>\n",
              "      <td>Spouse</td>\n",
              "      <td>Married/Living together</td>\n",
              "      <td>Secondary education</td>\n",
              "      <td>Self employed</td>\n",
              "    </tr>\n",
              "    <tr>\n",
              "      <th>1</th>\n",
              "      <td>Kenya</td>\n",
              "      <td>2018</td>\n",
              "      <td>Rural</td>\n",
              "      <td>No</td>\n",
              "      <td>5.0</td>\n",
              "      <td>70.0</td>\n",
              "      <td>Female</td>\n",
              "      <td>Head of Household</td>\n",
              "      <td>Widowed</td>\n",
              "      <td>No formal education</td>\n",
              "      <td>Government Dependent</td>\n",
              "    </tr>\n",
              "    <tr>\n",
              "      <th>2</th>\n",
              "      <td>Kenya</td>\n",
              "      <td>2018</td>\n",
              "      <td>Urban</td>\n",
              "      <td>Yes</td>\n",
              "      <td>5.0</td>\n",
              "      <td>26.0</td>\n",
              "      <td>Male</td>\n",
              "      <td>Other relative</td>\n",
              "      <td>Single/Never Married</td>\n",
              "      <td>Vocational/Specialised training</td>\n",
              "      <td>Self employed</td>\n",
              "    </tr>\n",
              "  </tbody>\n",
              "</table>\n",
              "</div>"
            ],
            "text/plain": [
              "  country  year  ...              level_of_educuation           type_of_job\n",
              "0   Kenya  2018  ...              Secondary education         Self employed\n",
              "1   Kenya  2018  ...              No formal education  Government Dependent\n",
              "2   Kenya  2018  ...  Vocational/Specialised training         Self employed\n",
              "\n",
              "[3 rows x 11 columns]"
            ]
          },
          "metadata": {
            "tags": []
          },
          "execution_count": 121
        }
      ]
    },
    {
      "cell_type": "code",
      "metadata": {
        "id": "0_CgHpAFuYq9",
        "colab_type": "code",
        "outputId": "af753c21-5ec8-4a83-e013-4b920beb9342",
        "colab": {
          "base_uri": "https://localhost:8080/",
          "height": 121
        }
      },
      "source": [
        "Y.head()"
      ],
      "execution_count": 122,
      "outputs": [
        {
          "output_type": "execute_result",
          "data": {
            "text/plain": [
              "0    Yes\n",
              "1     No\n",
              "2    Yes\n",
              "3     No\n",
              "4     No\n",
              "Name: has_a_bank_account, dtype: object"
            ]
          },
          "metadata": {
            "tags": []
          },
          "execution_count": 122
        }
      ]
    },
    {
      "cell_type": "markdown",
      "metadata": {
        "id": "uSDi_co-ugsX",
        "colab_type": "text"
      },
      "source": [
        "- We have defined our independent variable X and our dependent variable Y "
      ]
    },
    {
      "cell_type": "code",
      "metadata": {
        "id": "ZLJsLAUWuoKg",
        "colab_type": "code",
        "outputId": "698906b9-4b80-4584-8754-ca8eb8350364",
        "colab": {
          "base_uri": "https://localhost:8080/",
          "height": 257
        }
      },
      "source": [
        "# using the get_dummies() function to turn categorical data to numerical data\n",
        "X = pd.get_dummies(X)\n",
        "\n",
        "X.head()"
      ],
      "execution_count": 123,
      "outputs": [
        {
          "output_type": "execute_result",
          "data": {
            "text/html": [
              "<div>\n",
              "<style scoped>\n",
              "    .dataframe tbody tr th:only-of-type {\n",
              "        vertical-align: middle;\n",
              "    }\n",
              "\n",
              "    .dataframe tbody tr th {\n",
              "        vertical-align: top;\n",
              "    }\n",
              "\n",
              "    .dataframe thead th {\n",
              "        text-align: right;\n",
              "    }\n",
              "</style>\n",
              "<table border=\"1\" class=\"dataframe\">\n",
              "  <thead>\n",
              "    <tr style=\"text-align: right;\">\n",
              "      <th></th>\n",
              "      <th>year</th>\n",
              "      <th>household_size</th>\n",
              "      <th>respondent_age</th>\n",
              "      <th>country_Kenya</th>\n",
              "      <th>country_Rwanda</th>\n",
              "      <th>country_Tanzania</th>\n",
              "      <th>country_Uganda</th>\n",
              "      <th>type_of_location_Rural</th>\n",
              "      <th>type_of_location_Urban</th>\n",
              "      <th>cell_phone_access_No</th>\n",
              "      <th>cell_phone_access_Yes</th>\n",
              "      <th>gender_of_respondent_Female</th>\n",
              "      <th>gender_of_respondent_Male</th>\n",
              "      <th>the_relationship_with_head_Child</th>\n",
              "      <th>the_relationship_with_head_Head of Household</th>\n",
              "      <th>the_relationship_with_head_Other non-relatives</th>\n",
              "      <th>the_relationship_with_head_Other relative</th>\n",
              "      <th>the_relationship_with_head_Parent</th>\n",
              "      <th>the_relationship_with_head_Spouse</th>\n",
              "      <th>marital_status_Divorced/Seperated</th>\n",
              "      <th>marital_status_Dont know</th>\n",
              "      <th>marital_status_Married/Living together</th>\n",
              "      <th>marital_status_Single/Never Married</th>\n",
              "      <th>marital_status_Widowed</th>\n",
              "      <th>level_of_educuation_6</th>\n",
              "      <th>level_of_educuation_No formal education</th>\n",
              "      <th>level_of_educuation_Other/Dont know/RTA</th>\n",
              "      <th>level_of_educuation_Primary education</th>\n",
              "      <th>level_of_educuation_Secondary education</th>\n",
              "      <th>level_of_educuation_Tertiary education</th>\n",
              "      <th>level_of_educuation_Vocational/Specialised training</th>\n",
              "      <th>type_of_job_Dont Know/Refuse to answer</th>\n",
              "      <th>type_of_job_Farming and Fishing</th>\n",
              "      <th>type_of_job_Formally employed Government</th>\n",
              "      <th>type_of_job_Formally employed Private</th>\n",
              "      <th>type_of_job_Government Dependent</th>\n",
              "      <th>type_of_job_Informally employed</th>\n",
              "      <th>type_of_job_No Income</th>\n",
              "      <th>type_of_job_Other Income</th>\n",
              "      <th>type_of_job_Remittance Dependent</th>\n",
              "      <th>type_of_job_Self employed</th>\n",
              "    </tr>\n",
              "  </thead>\n",
              "  <tbody>\n",
              "    <tr>\n",
              "      <th>0</th>\n",
              "      <td>2018</td>\n",
              "      <td>3.0</td>\n",
              "      <td>24.0</td>\n",
              "      <td>1</td>\n",
              "      <td>0</td>\n",
              "      <td>0</td>\n",
              "      <td>0</td>\n",
              "      <td>1</td>\n",
              "      <td>0</td>\n",
              "      <td>0</td>\n",
              "      <td>1</td>\n",
              "      <td>1</td>\n",
              "      <td>0</td>\n",
              "      <td>0</td>\n",
              "      <td>0</td>\n",
              "      <td>0</td>\n",
              "      <td>0</td>\n",
              "      <td>0</td>\n",
              "      <td>1</td>\n",
              "      <td>0</td>\n",
              "      <td>0</td>\n",
              "      <td>1</td>\n",
              "      <td>0</td>\n",
              "      <td>0</td>\n",
              "      <td>0</td>\n",
              "      <td>0</td>\n",
              "      <td>0</td>\n",
              "      <td>0</td>\n",
              "      <td>1</td>\n",
              "      <td>0</td>\n",
              "      <td>0</td>\n",
              "      <td>0</td>\n",
              "      <td>0</td>\n",
              "      <td>0</td>\n",
              "      <td>0</td>\n",
              "      <td>0</td>\n",
              "      <td>0</td>\n",
              "      <td>0</td>\n",
              "      <td>0</td>\n",
              "      <td>0</td>\n",
              "      <td>1</td>\n",
              "    </tr>\n",
              "    <tr>\n",
              "      <th>1</th>\n",
              "      <td>2018</td>\n",
              "      <td>5.0</td>\n",
              "      <td>70.0</td>\n",
              "      <td>1</td>\n",
              "      <td>0</td>\n",
              "      <td>0</td>\n",
              "      <td>0</td>\n",
              "      <td>1</td>\n",
              "      <td>0</td>\n",
              "      <td>1</td>\n",
              "      <td>0</td>\n",
              "      <td>1</td>\n",
              "      <td>0</td>\n",
              "      <td>0</td>\n",
              "      <td>1</td>\n",
              "      <td>0</td>\n",
              "      <td>0</td>\n",
              "      <td>0</td>\n",
              "      <td>0</td>\n",
              "      <td>0</td>\n",
              "      <td>0</td>\n",
              "      <td>0</td>\n",
              "      <td>0</td>\n",
              "      <td>1</td>\n",
              "      <td>0</td>\n",
              "      <td>1</td>\n",
              "      <td>0</td>\n",
              "      <td>0</td>\n",
              "      <td>0</td>\n",
              "      <td>0</td>\n",
              "      <td>0</td>\n",
              "      <td>0</td>\n",
              "      <td>0</td>\n",
              "      <td>0</td>\n",
              "      <td>0</td>\n",
              "      <td>1</td>\n",
              "      <td>0</td>\n",
              "      <td>0</td>\n",
              "      <td>0</td>\n",
              "      <td>0</td>\n",
              "      <td>0</td>\n",
              "    </tr>\n",
              "    <tr>\n",
              "      <th>2</th>\n",
              "      <td>2018</td>\n",
              "      <td>5.0</td>\n",
              "      <td>26.0</td>\n",
              "      <td>1</td>\n",
              "      <td>0</td>\n",
              "      <td>0</td>\n",
              "      <td>0</td>\n",
              "      <td>0</td>\n",
              "      <td>1</td>\n",
              "      <td>0</td>\n",
              "      <td>1</td>\n",
              "      <td>0</td>\n",
              "      <td>1</td>\n",
              "      <td>0</td>\n",
              "      <td>0</td>\n",
              "      <td>0</td>\n",
              "      <td>1</td>\n",
              "      <td>0</td>\n",
              "      <td>0</td>\n",
              "      <td>0</td>\n",
              "      <td>0</td>\n",
              "      <td>0</td>\n",
              "      <td>1</td>\n",
              "      <td>0</td>\n",
              "      <td>0</td>\n",
              "      <td>0</td>\n",
              "      <td>0</td>\n",
              "      <td>0</td>\n",
              "      <td>0</td>\n",
              "      <td>0</td>\n",
              "      <td>1</td>\n",
              "      <td>0</td>\n",
              "      <td>0</td>\n",
              "      <td>0</td>\n",
              "      <td>0</td>\n",
              "      <td>0</td>\n",
              "      <td>0</td>\n",
              "      <td>0</td>\n",
              "      <td>0</td>\n",
              "      <td>0</td>\n",
              "      <td>1</td>\n",
              "    </tr>\n",
              "    <tr>\n",
              "      <th>3</th>\n",
              "      <td>2018</td>\n",
              "      <td>5.0</td>\n",
              "      <td>34.0</td>\n",
              "      <td>1</td>\n",
              "      <td>0</td>\n",
              "      <td>0</td>\n",
              "      <td>0</td>\n",
              "      <td>1</td>\n",
              "      <td>0</td>\n",
              "      <td>0</td>\n",
              "      <td>1</td>\n",
              "      <td>1</td>\n",
              "      <td>0</td>\n",
              "      <td>0</td>\n",
              "      <td>1</td>\n",
              "      <td>0</td>\n",
              "      <td>0</td>\n",
              "      <td>0</td>\n",
              "      <td>0</td>\n",
              "      <td>0</td>\n",
              "      <td>0</td>\n",
              "      <td>1</td>\n",
              "      <td>0</td>\n",
              "      <td>0</td>\n",
              "      <td>0</td>\n",
              "      <td>0</td>\n",
              "      <td>0</td>\n",
              "      <td>1</td>\n",
              "      <td>0</td>\n",
              "      <td>0</td>\n",
              "      <td>0</td>\n",
              "      <td>0</td>\n",
              "      <td>0</td>\n",
              "      <td>0</td>\n",
              "      <td>1</td>\n",
              "      <td>0</td>\n",
              "      <td>0</td>\n",
              "      <td>0</td>\n",
              "      <td>0</td>\n",
              "      <td>0</td>\n",
              "      <td>0</td>\n",
              "    </tr>\n",
              "    <tr>\n",
              "      <th>4</th>\n",
              "      <td>2018</td>\n",
              "      <td>8.0</td>\n",
              "      <td>26.0</td>\n",
              "      <td>1</td>\n",
              "      <td>0</td>\n",
              "      <td>0</td>\n",
              "      <td>0</td>\n",
              "      <td>0</td>\n",
              "      <td>1</td>\n",
              "      <td>1</td>\n",
              "      <td>0</td>\n",
              "      <td>0</td>\n",
              "      <td>1</td>\n",
              "      <td>1</td>\n",
              "      <td>0</td>\n",
              "      <td>0</td>\n",
              "      <td>0</td>\n",
              "      <td>0</td>\n",
              "      <td>0</td>\n",
              "      <td>0</td>\n",
              "      <td>0</td>\n",
              "      <td>0</td>\n",
              "      <td>1</td>\n",
              "      <td>0</td>\n",
              "      <td>0</td>\n",
              "      <td>0</td>\n",
              "      <td>0</td>\n",
              "      <td>1</td>\n",
              "      <td>0</td>\n",
              "      <td>0</td>\n",
              "      <td>0</td>\n",
              "      <td>0</td>\n",
              "      <td>0</td>\n",
              "      <td>0</td>\n",
              "      <td>0</td>\n",
              "      <td>0</td>\n",
              "      <td>1</td>\n",
              "      <td>0</td>\n",
              "      <td>0</td>\n",
              "      <td>0</td>\n",
              "      <td>0</td>\n",
              "    </tr>\n",
              "  </tbody>\n",
              "</table>\n",
              "</div>"
            ],
            "text/plain": [
              "   year  ...  type_of_job_Self employed\n",
              "0  2018  ...                          1\n",
              "1  2018  ...                          0\n",
              "2  2018  ...                          1\n",
              "3  2018  ...                          0\n",
              "4  2018  ...                          0\n",
              "\n",
              "[5 rows x 41 columns]"
            ]
          },
          "metadata": {
            "tags": []
          },
          "execution_count": 123
        }
      ]
    },
    {
      "cell_type": "markdown",
      "metadata": {
        "id": "2hbxIud2uxLS",
        "colab_type": "text"
      },
      "source": [
        "-  We have assigned dummy values to the variables that contain categorical data to enable us to fit a model in our analysis."
      ]
    },
    {
      "cell_type": "markdown",
      "metadata": {
        "id": "BKO14OzTvFFg",
        "colab_type": "text"
      },
      "source": [
        "#### Split the Data into Training and Test sets"
      ]
    },
    {
      "cell_type": "code",
      "metadata": {
        "id": "5ANLn8COuyv7",
        "colab_type": "code",
        "colab": {}
      },
      "source": [
        "X_train, X_test, Y_train,Y_test = train_test_split(X, Y, test_size = 0.3, random_state = 13)"
      ],
      "execution_count": 0,
      "outputs": []
    },
    {
      "cell_type": "markdown",
      "metadata": {
        "id": "_YgWwB5KvTl-",
        "colab_type": "text"
      },
      "source": [
        "- We have split our data into control group(test set) and experimental group(train set)"
      ]
    },
    {
      "cell_type": "markdown",
      "metadata": {
        "id": "tX-u1rY4vYUz",
        "colab_type": "text"
      },
      "source": [
        "#### Normalizing the data\n",
        "\n",
        "> Normalization is an important step as it scales the values of the variables with an aim of balancing the variance of variable to avoid bias of the model in analysis.\n",
        "\n",
        "> This procedure is regarded as a pre-processing step."
      ]
    },
    {
      "cell_type": "code",
      "metadata": {
        "id": "tndn0XvCvU8Z",
        "colab_type": "code",
        "colab": {}
      },
      "source": [
        "sc = StandardScaler()\n",
        "X_train = sc.fit_transform(X_train)\n",
        "X_test = sc.transform(X_test)"
      ],
      "execution_count": 0,
      "outputs": []
    },
    {
      "cell_type": "markdown",
      "metadata": {
        "id": "baazaKArvvo-",
        "colab_type": "text"
      },
      "source": [
        "#### Dimension Reduction\n",
        "\n",
        "> We will use the PCA method to reduce the number of dimensions of our data before we fit an appropriate model."
      ]
    },
    {
      "cell_type": "code",
      "metadata": {
        "id": "33aUJS_wvupI",
        "colab_type": "code",
        "colab": {}
      },
      "source": [
        "pca = PCA()\n",
        "X_train = pca.fit_transform(X_train)\n",
        "X_test = pca.fit_transform(X_test)\n",
        "\n",
        "# We now pply the number of components we desire to the PCA() function for reduction\n",
        "pca = PCA(n_components = 10)\n",
        "X_train = pca.fit_transform(X_train)\n",
        "X_test = pca.transform(X_test)"
      ],
      "execution_count": 0,
      "outputs": []
    },
    {
      "cell_type": "markdown",
      "metadata": {
        "id": "_MAikTP1wbkP",
        "colab_type": "text"
      },
      "source": [
        "- We have chosen to reduce the number of components of our data to 10."
      ]
    },
    {
      "cell_type": "markdown",
      "metadata": {
        "id": "r_3wQ52OwhaL",
        "colab_type": "text"
      },
      "source": [
        "#### Fitting a Model\n",
        "\n",
        "> We will use a linear logistic regression model for our analysis as we want to predict the probability  of either one of two outcomes."
      ]
    },
    {
      "cell_type": "code",
      "metadata": {
        "id": "wqmn5z0PwMJV",
        "colab_type": "code",
        "outputId": "1a60a72f-027e-4199-9a53-a9ef7990173a",
        "colab": {
          "base_uri": "https://localhost:8080/",
          "height": 159
        }
      },
      "source": [
        "classifier = LogisticRegression()\n",
        "classifier.fit(X_train, Y_train)"
      ],
      "execution_count": 127,
      "outputs": [
        {
          "output_type": "stream",
          "text": [
            "/usr/local/lib/python3.6/dist-packages/sklearn/linear_model/logistic.py:432: FutureWarning: Default solver will be changed to 'lbfgs' in 0.22. Specify a solver to silence this warning.\n",
            "  FutureWarning)\n"
          ],
          "name": "stderr"
        },
        {
          "output_type": "execute_result",
          "data": {
            "text/plain": [
              "LogisticRegression(C=1.0, class_weight=None, dual=False, fit_intercept=True,\n",
              "                   intercept_scaling=1, l1_ratio=None, max_iter=100,\n",
              "                   multi_class='warn', n_jobs=None, penalty='l2',\n",
              "                   random_state=None, solver='warn', tol=0.0001, verbose=0,\n",
              "                   warm_start=False)"
            ]
          },
          "metadata": {
            "tags": []
          },
          "execution_count": 127
        }
      ]
    },
    {
      "cell_type": "code",
      "metadata": {
        "id": "Pwo7iRq7wz7a",
        "colab_type": "code",
        "colab": {}
      },
      "source": [
        "y_pred = classifier.predict(X_test) "
      ],
      "execution_count": 0,
      "outputs": []
    },
    {
      "cell_type": "markdown",
      "metadata": {
        "id": "NGvRHwZYw5gg",
        "colab_type": "text"
      },
      "source": [
        "### Performance Evaluation : Deternining the Accuracy of our Model\n",
        "\n",
        ">  We use the accuracy matrix to determine the number of predictions that were spot on and those that we failed to predict.\n",
        "\n",
        "> The accuracy score function shows us the probability of the accuracy of our model predictions."
      ]
    },
    {
      "cell_type": "code",
      "metadata": {
        "id": "P9_1iUO9xB82",
        "colab_type": "code",
        "outputId": "209f2885-c4f8-4514-f887-9bb3dc7fd474",
        "colab": {
          "base_uri": "https://localhost:8080/",
          "height": 69
        }
      },
      "source": [
        "print(confusion_matrix(Y_test, y_pred))\n",
        "print(accuracy_score(Y_test, y_pred))"
      ],
      "execution_count": 129,
      "outputs": [
        {
          "output_type": "stream",
          "text": [
            "[[5926  120]\n",
            " [ 716  240]]\n",
            "0.8806055412739218\n"
          ],
          "name": "stdout"
        }
      ]
    },
    {
      "cell_type": "markdown",
      "metadata": {
        "id": "EEB3-FC31tzK",
        "colab_type": "text"
      },
      "source": [
        "## Challenging the Solution"
      ]
    },
    {
      "cell_type": "markdown",
      "metadata": {
        "id": "vskFpDW62Q6Q",
        "colab_type": "text"
      },
      "source": [
        "#### Multiple Linear Regression Analysis\n",
        "\n",
        "> Applying  logististic regression, we got a model that is able to predict whether or not a person has a bank account with an accuracy of 88% but we still have not identifies the variables that are significant in determining  if a person owns a bank account.\n",
        "We will now fit a multiple linear regression model to remedy our situation."
      ]
    },
    {
      "cell_type": "code",
      "metadata": {
        "id": "2vBjR_6lEGvM",
        "colab_type": "code",
        "colab": {}
      },
      "source": [
        "# We encode the target variable bacause linear regression uses only numerical variables for analysis\n",
        "\n",
        "le = LabelEncoder()\n",
        "\n",
        "Y = le.fit_transform(Y)\n",
        "\n",
        "# Splitting the dataset into training and test sets\n",
        "\n",
        "X_train, X_test, Y_train, Y_test = train_test_split(X, Y, random_state = 15, test_size = 0.3 )\n",
        "\n",
        "# Fitting a linear regression model on our data and training the model using the training set of data\n",
        "\n",
        "reg = LinearRegression()\n",
        "reg.fit(X_train, Y_train)\n",
        "\n",
        "# Using the linear regression model and the test set to make predictions\n",
        "\n",
        "Y_pred = reg.predict(X_test)\n"
      ],
      "execution_count": 0,
      "outputs": []
    },
    {
      "cell_type": "markdown",
      "metadata": {
        "id": "1Zv86bxMH-nB",
        "colab_type": "text"
      },
      "source": [
        "#### Evaluating the Performance of our linear Regression Model\n",
        "\n",
        "- We use the R-Squared statistic to evaluate the performance of the linear regression model that we fit on our data. It is also referre to as the coefficient of determination. An R2 score of 1 shows that all the independent variables had a cause and effect relationship with the dependent variable, while an R2 score of 0 shows that there is no relationship between the predictor and target variables.\n",
        "\n"
      ]
    },
    {
      "cell_type": "code",
      "metadata": {
        "id": "0Sto2tO4IGx4",
        "colab_type": "code",
        "colab": {
          "base_uri": "https://localhost:8080/",
          "height": 35
        },
        "outputId": "a0155c6e-1d4f-4d29-d104-4f7856ab81fa"
      },
      "source": [
        "r2_score(Y_test, Y_pred)"
      ],
      "execution_count": 131,
      "outputs": [
        {
          "output_type": "execute_result",
          "data": {
            "text/plain": [
              "0.24596915979230993"
            ]
          },
          "metadata": {
            "tags": []
          },
          "execution_count": 131
        }
      ]
    },
    {
      "cell_type": "markdown",
      "metadata": {
        "id": "Yb8gQ7gvKApb",
        "colab_type": "text"
      },
      "source": [
        "- An r2 score of 0.2 is relatively low and shows that very few of the independent variable if any cause a movement on the target variable."
      ]
    },
    {
      "cell_type": "markdown",
      "metadata": {
        "id": "yaTz-0ntKosb",
        "colab_type": "text"
      },
      "source": [
        "#### Identifying the Significant Features in Our Data\n",
        "\n",
        "> The p-value of each variable is compared with the level of significance of our test. If the p-value is lower than the level of significance, then we can infer that the variable is significant in determining the outcome. On the other hand, if the p-value is larger than the level of signicance, then we infer that the movements in that variable do not cause a shift in the movements of the target variable.\n",
        "\n"
      ]
    },
    {
      "cell_type": "code",
      "metadata": {
        "id": "DbSM4sjaKa29",
        "colab_type": "code",
        "colab": {
          "base_uri": "https://localhost:8080/",
          "height": 1000
        },
        "outputId": "39a8d441-4f44-4c97-e03b-e578081fd9b7"
      },
      "source": [
        "X_df = sm.add_constant(X.values)\n",
        "model = sm.OLS(Y, X_df).fit()\n",
        "print(model.summary())"
      ],
      "execution_count": 132,
      "outputs": [
        {
          "output_type": "stream",
          "text": [
            "                            OLS Regression Results                            \n",
            "==============================================================================\n",
            "Dep. Variable:                      y   R-squared:                       0.264\n",
            "Model:                            OLS   Adj. R-squared:                  0.263\n",
            "Method:                 Least Squares   F-statistic:                     261.3\n",
            "Date:                Tue, 20 Aug 2019   Prob (F-statistic):               0.00\n",
            "Time:                        07:53:04   Log-Likelihood:                -4920.3\n",
            "No. Observations:               23340   AIC:                             9907.\n",
            "Df Residuals:                   23307   BIC:                         1.017e+04\n",
            "Df Model:                          32                                         \n",
            "Covariance Type:            nonrobust                                         \n",
            "==============================================================================\n",
            "                 coef    std err          t      P>|t|      [0.025      0.975]\n",
            "------------------------------------------------------------------------------\n",
            "const         1.5e-05   4.02e-06      3.730      0.000    7.12e-06    2.29e-05\n",
            "x1             0.0001   1.43e-05      8.329      0.000    9.14e-05       0.000\n",
            "x2            -0.0013      0.001     -1.247      0.212      -0.003       0.001\n",
            "x3             0.0013      0.000      7.914      0.000       0.001       0.002\n",
            "x4             0.0845      0.004     20.700      0.000       0.077       0.093\n",
            "x5             0.0390      0.004      9.419      0.000       0.031       0.047\n",
            "x6            -0.0479      0.005     -9.482      0.000      -0.058      -0.038\n",
            "x7            -0.0756      0.006    -12.082      0.000      -0.088      -0.063\n",
            "x8            -0.0211      0.002     -8.777      0.000      -0.026      -0.016\n",
            "x9             0.0211      0.002      8.783      0.000       0.016       0.026\n",
            "x10           -0.0368      0.002    -15.055      0.000      -0.042      -0.032\n",
            "x11            0.0368      0.002     15.063      0.000       0.032       0.042\n",
            "x12           -0.0189      0.003     -7.185      0.000      -0.024      -0.014\n",
            "x13            0.0189      0.003      7.192      0.000       0.014       0.024\n",
            "x14           -0.0235      0.008     -3.095      0.002      -0.038      -0.009\n",
            "x15            0.0518      0.006      8.635      0.000       0.040       0.064\n",
            "x16           -0.0387      0.019     -2.092      0.036      -0.075      -0.002\n",
            "x17           -0.0233      0.011     -2.187      0.029      -0.044      -0.002\n",
            "x18           -0.0053      0.009     -0.573      0.566      -0.023       0.013\n",
            "x19            0.0390      0.007      5.786      0.000       0.026       0.052\n",
            "x20           -0.0166      0.022     -0.753      0.452      -0.060       0.027\n",
            "x21            0.0237      0.085      0.280      0.779      -0.142       0.190\n",
            "x22            0.0128      0.022      0.596      0.551      -0.029       0.055\n",
            "x23           -0.0124      0.022     -0.575      0.565      -0.055       0.030\n",
            "x24           -0.0076      0.022     -0.345      0.730      -0.051       0.036\n",
            "x25           -0.0816      0.052     -1.576      0.115      -0.183       0.020\n",
            "x26           -0.2279      0.018    -12.692      0.000      -0.263      -0.193\n",
            "x27            0.2318      0.091      2.543      0.011       0.053       0.410\n",
            "x28           -0.1804      0.018    -10.262      0.000      -0.215      -0.146\n",
            "x29           -0.0643      0.018     -3.600      0.000      -0.099      -0.029\n",
            "x30            0.1660      0.019      8.714      0.000       0.129       0.203\n",
            "x31            0.1563      0.020      7.964      0.000       0.118       0.195\n",
            "x32           -0.0414      0.024     -1.691      0.091      -0.089       0.007\n",
            "x33           -0.1076      0.006    -17.177      0.000      -0.120      -0.095\n",
            "x34            0.2869      0.015     19.302      0.000       0.258       0.316\n",
            "x35            0.1877      0.010     19.478      0.000       0.169       0.207\n",
            "x36            0.0190      0.018      1.058      0.290      -0.016       0.054\n",
            "x37           -0.1188      0.006    -20.286      0.000      -0.130      -0.107\n",
            "x38           -0.0676      0.012     -5.567      0.000      -0.091      -0.044\n",
            "x39            0.0005      0.010      0.053      0.958      -0.018       0.019\n",
            "x40           -0.1206      0.007    -16.917      0.000      -0.135      -0.107\n",
            "x41           -0.0380      0.006     -6.592      0.000      -0.049      -0.027\n",
            "==============================================================================\n",
            "Omnibus:                     6603.297   Durbin-Watson:                   1.998\n",
            "Prob(Omnibus):                  0.000   Jarque-Bera (JB):            16502.110\n",
            "Skew:                           1.565   Prob(JB):                         0.00\n",
            "Kurtosis:                       5.679   Cond. No.                     2.14e+18\n",
            "==============================================================================\n",
            "\n",
            "Warnings:\n",
            "[1] Standard Errors assume that the covariance matrix of the errors is correctly specified.\n",
            "[2] The smallest eigenvalue is 2.08e-26. This might indicate that there are\n",
            "strong multicollinearity problems or that the design matrix is singular.\n"
          ],
          "name": "stdout"
        }
      ]
    },
    {
      "cell_type": "markdown",
      "metadata": {
        "id": "R6N3tRoW1zzA",
        "colab_type": "text"
      },
      "source": [
        "# Summary "
      ]
    },
    {
      "cell_type": "markdown",
      "metadata": {
        "id": "Gg57gEi4-uug",
        "colab_type": "text"
      },
      "source": [
        "> Rwanda has the highest percentage of records at 37% while Uganda has the lowest percentage of records at 8%.  \n",
        "- From the respondents with bank accounts, Kenya had the highest percentage at 46% while Uganda has the least percentage at 5%\n",
        "- According to the respondents without bank accounts, Rwanda registers the highest proportion at 38%  of the respondents in this category while Uganda accounts for thye least at 9.5%.\n",
        "\n",
        "\n",
        "\n",
        "\n",
        ">  Based on the location of the respondent,  Kenya, Rwanda and Uganda sampled more respondents from the rural areas than the urban centres while Tanzania registered more people from the urban areas. Rwanda sampled six times the number of respondents from the rural areas than urban areas.\n",
        "- Kenya and Uganda the number of people with bank accounts was registered in the Urban areas than in the rural areas.\n",
        "- Rwanda and Tanzania registered more people with bank accounts in the rural regions than the urban areas.\n",
        "- Most of the respondents without bank accounts in Kenya, Uganda and Rwanda are located in Rural areas.\n",
        "-Despite more respondents being samples from urban areas, Tanzania registered the higher proportion of respondents without bank accounts from urban areas.\n",
        "\n",
        "\n",
        ">  All four countries sampled for female respondents than male. \n",
        "-  In Kenya, Rwanda and Tanzania more male respondents were found to have bank accounts while Uganda registered more females with bank accounts.\n",
        "- All four countries registered a higher number of female respondents without bank accounts.\n",
        "\n",
        "> All four countries registered that the highest proportion of respondents had a primary level of eduaction while the least varied from country to country.\n",
        "- From Kenya and Uganda , the highest number of people with bank accounts had reached the secoundary level of  education while in Rwanda and Tanzania, the highest number of respondents had primary level education.\n",
        "- From the entire region, the highest number of respondents without bank accounts had reached the primary level of education.\n"
      ]
    },
    {
      "cell_type": "markdown",
      "metadata": {
        "id": "QrmsaF5KCRiT",
        "colab_type": "text"
      },
      "source": [
        "## Appropriateness of Available Data\n",
        "\n",
        "- The data contains demographic information and the financial services used by individuals across East Africa. \n",
        "\n",
        "- The data is contains the information needed for investigation to answer our research question.\n",
        "\n",
        "- The data however does not contain information on where the people without bank accounts save money or access financial services. It limits us to bank accounts only when there is a broad variety of financial institutions such as SACCOs, mobile money platforms and microfinance institutions.\n",
        "\n",
        "- Also the data does not try to explain the reasons  the people without bank accounts do not use the service. This would help steer our research  in a good direction to finding out the alternatives and the hinderance per individual."
      ]
    },
    {
      "cell_type": "markdown",
      "metadata": {
        "id": "TlG_AOmwBFem",
        "colab_type": "text"
      },
      "source": [
        "## Conclusion\n",
        "\n",
        "- Our model can predict the individuals with bank accounts with an accuracy of 88% but it does not help us establish the factors that are significant in determining whether or not an individual has a bank account."
      ]
    }
  ]
}